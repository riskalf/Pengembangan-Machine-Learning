{
  "cells": [
    {
      "cell_type": "markdown",
      "metadata": {
        "id": "bUf7uD-v6Y1f"
      },
      "source": [
        "## Menginstall Library Streamlit"
      ]
    },
    {
      "cell_type": "code",
      "execution_count": 25,
      "metadata": {
        "colab": {
          "base_uri": "https://localhost:8080/"
        },
        "id": "KlOIKApvuiiM",
        "outputId": "95abb0db-a5b6-413e-c8d0-6b4095ee286b"
      },
      "outputs": [
        {
          "output_type": "stream",
          "name": "stdout",
          "text": [
            "Drive already mounted at /content/drive; to attempt to forcibly remount, call drive.mount(\"/content/drive\", force_remount=True).\n"
          ]
        }
      ],
      "source": [
        "# Menghubungkan Google Drive agar bisa akses folder project\n",
        "from google.colab import drive\n",
        "drive.mount('/content/drive')"
      ]
    },
    {
      "cell_type": "code",
      "execution_count": 26,
      "metadata": {
        "colab": {
          "base_uri": "https://localhost:8080/"
        },
        "id": "WlvI0uDLo60H",
        "outputId": "95e6cd4c-01f7-40ed-fd75-acf531f8833a"
      },
      "outputs": [
        {
          "output_type": "stream",
          "name": "stdout",
          "text": [
            "/content/drive/MyDrive/Pengembangan_Machine_Learning/Tugas_3\n"
          ]
        }
      ],
      "source": [
        "# Masuk ke direktori folder project yang sudah dibuat di Google Drive\n",
        "%cd /content/drive/MyDrive/Pengembangan_Machine_Learning/Tugas_3"
      ]
    },
    {
      "cell_type": "code",
      "execution_count": 27,
      "metadata": {
        "colab": {
          "base_uri": "https://localhost:8080/"
        },
        "id": "0QI5cEX1FZPG",
        "outputId": "205cad11-a970-4c76-b732-07457f30f497"
      },
      "outputs": [
        {
          "output_type": "stream",
          "name": "stdout",
          "text": [
            "Overwriting requirements.txt\n"
          ]
        }
      ],
      "source": [
        "# Membuat file requirements.txt\n",
        "%%writefile requirements.txt\n",
        "# Berikut adalah daftar library yang akan digunakan dalam project ini\n",
        "streamlit"
      ]
    },
    {
      "cell_type": "code",
      "execution_count": 28,
      "metadata": {
        "colab": {
          "base_uri": "https://localhost:8080/"
        },
        "id": "He4D9HGhFa_y",
        "outputId": "3ce5d93b-11fe-418e-81f1-9dc8805f5ff8"
      },
      "outputs": [
        {
          "output_type": "stream",
          "name": "stdout",
          "text": [
            "Beranda.py  node_modules  package-lock.json  requirements.txt\n",
            "logs.txt    package.json  pages\n"
          ]
        }
      ],
      "source": [
        "# Menampilkan daftar file dan folder yang ada di dalam folder project\n",
        "!ls"
      ]
    },
    {
      "cell_type": "code",
      "execution_count": 29,
      "metadata": {
        "colab": {
          "base_uri": "https://localhost:8080/"
        },
        "id": "bwQqVrsaFfhd",
        "outputId": "07a4d35c-331a-4a86-8bc8-d2a52bbd324d"
      },
      "outputs": [
        {
          "output_type": "stream",
          "name": "stdout",
          "text": [
            "# Berikut adalah daftar library yang akan digunakan dalam project ini\n",
            "streamlit\n"
          ]
        }
      ],
      "source": [
        "# Menampilkan isi file requirements.txt\n",
        "!cat requirements.txt"
      ]
    },
    {
      "cell_type": "code",
      "execution_count": 30,
      "metadata": {
        "id": "oHS2JVqYFkbb"
      },
      "outputs": [],
      "source": [
        "# Menginstall semua library yang sudah ditulis di requirements.txt\n",
        "!pip install -q -r requirements.txt"
      ]
    },
    {
      "cell_type": "code",
      "execution_count": 31,
      "metadata": {
        "colab": {
          "base_uri": "https://localhost:8080/"
        },
        "id": "1zyxZfx0o-Bp",
        "outputId": "e70f6e1e-fed2-41cb-9343-f01d965c785a"
      },
      "outputs": [
        {
          "output_type": "stream",
          "name": "stdout",
          "text": [
            "streamlit                             1.45.1\n"
          ]
        }
      ],
      "source": [
        "# Mengecek apakah streamlit sudah berhasil diinstall\n",
        "!pip list | grep streamlit"
      ]
    },
    {
      "cell_type": "code",
      "execution_count": 32,
      "metadata": {
        "id": "VdSqmROmo-_Y"
      },
      "outputs": [],
      "source": [
        "# Menginstall library streamlit secara diam-diam (tanpa banyak output\n",
        "!pip install streamlit -q"
      ]
    },
    {
      "cell_type": "markdown",
      "metadata": {
        "id": "sFw9yT5OFsQ-"
      },
      "source": [
        "## Membuat File Beranda.py"
      ]
    },
    {
      "cell_type": "code",
      "source": [
        "%%writefile Beranda.py\n",
        "import streamlit as st\n",
        "\n",
        "# Judul halaman utama\n",
        "st.title(\"Pentingnya Formulir Input Data dalam Machine Learning\")\n",
        "\n",
        "# Deskripsi umum\n",
        "st.write(\"\"\"\n",
        "Formulir merupakan salah satu metode paling umum yang digunakan untuk mengumpulkan data.\n",
        "Dalam konteks machine learning, data menjadi komponen utama dalam proses pelatihan model. Oleh karena itu, penyediaan formulir yang baik sangat penting untuk memastikan kualitas data yang akan dianalisis.\n",
        "\n",
        "Pada tugas ini, saya merancang halaman formulir dengan berbagai jenis input untuk mensimulasikan proses pengumpulan data secara digital. Formulir ini dapat diadaptasi untuk berbagai kebutuhan seperti survei pengguna, pendaftaran, atau input data operasional.\n",
        "\"\"\")\n",
        "\n",
        "# Daftar fitur input yang digunakan\n",
        "st.markdown(\"\"\"\n",
        "Formulir yang dirancang mencakup beberapa jenis input, antara lain:\n",
        "\n",
        "- ***Text Input***: untuk memasukkan data berupa teks (misalnya nama)\n",
        "- ***Numeric Input***: untuk data numerik seperti usia atau jumlah\n",
        "- ***Date & Time Input***: untuk memilih tanggal dan waktu\n",
        "- ***Selection Input***: untuk memilih salah satu dari beberapa opsi\n",
        "- ***Button***: untuk menyimpan dan menampilkan hasil input\n",
        "\"\"\")\n",
        "\n",
        "# Arahkan ke halaman utama tugas\n",
        "st.markdown(\"📂 Silakan buka halaman **Tugas Pertemuan 3** pada sidebar untuk mencoba formulir interaktif yang telah dibuat.\")"
      ],
      "metadata": {
        "colab": {
          "base_uri": "https://localhost:8080/"
        },
        "id": "rG9yOWYQ1K7O",
        "outputId": "55739d6f-81ac-43ee-a778-1364b721a853"
      },
      "execution_count": 33,
      "outputs": [
        {
          "output_type": "stream",
          "name": "stdout",
          "text": [
            "Overwriting Beranda.py\n"
          ]
        }
      ]
    },
    {
      "cell_type": "code",
      "execution_count": 34,
      "metadata": {
        "colab": {
          "base_uri": "https://localhost:8080/"
        },
        "id": "Y1xnhI7oFwUi",
        "outputId": "ae312c21-1831-4056-a294-5407716181f7"
      },
      "outputs": [
        {
          "output_type": "stream",
          "name": "stdout",
          "text": [
            "/content/drive/MyDrive/Pengembangan_Machine_Learning/Tugas_3\n"
          ]
        }
      ],
      "source": [
        "# Menampilkan lokasi folder kerja kita saat ini (singkatan dari \"print working directory\")\n",
        "!pwd"
      ]
    },
    {
      "cell_type": "code",
      "execution_count": 35,
      "metadata": {
        "colab": {
          "base_uri": "https://localhost:8080/"
        },
        "id": "ehortH0hpMiz",
        "outputId": "fd916870-c076-46ec-f640-172f8cfa8123"
      },
      "outputs": [
        {
          "output_type": "stream",
          "name": "stdout",
          "text": [
            "Beranda.py  node_modules  package-lock.json  requirements.txt\n",
            "logs.txt    package.json  pages\n"
          ]
        }
      ],
      "source": [
        "# Menampilkan daftar file dan folder yang ada di dalam folder projek saat ini\n",
        "!ls"
      ]
    },
    {
      "cell_type": "markdown",
      "source": [
        "## Mengecek Isi Beranda.py"
      ],
      "metadata": {
        "id": "x6DBmaKQlWPM"
      }
    },
    {
      "cell_type": "code",
      "source": [
        "!cat Beranda.py"
      ],
      "metadata": {
        "colab": {
          "base_uri": "https://localhost:8080/"
        },
        "id": "H2hsaizLlbom",
        "outputId": "001f604c-1c6b-44d3-8549-03d5c619e993"
      },
      "execution_count": 36,
      "outputs": [
        {
          "output_type": "stream",
          "name": "stdout",
          "text": [
            "import streamlit as st\n",
            "\n",
            "# Judul halaman utama\n",
            "st.title(\"Pentingnya Formulir Input Data dalam Machine Learning\")\n",
            "\n",
            "# Deskripsi umum\n",
            "st.write(\"\"\"\n",
            "Formulir merupakan salah satu metode paling umum yang digunakan untuk mengumpulkan data.  \n",
            "Dalam konteks machine learning, data menjadi komponen utama dalam proses pelatihan model. Oleh karena itu, penyediaan formulir yang baik sangat penting untuk memastikan kualitas data yang akan dianalisis.\n",
            "\n",
            "Pada tugas ini, saya merancang halaman formulir dengan berbagai jenis input untuk mensimulasikan proses pengumpulan data secara digital. Formulir ini dapat diadaptasi untuk berbagai kebutuhan seperti survei pengguna, pendaftaran, atau input data operasional.\n",
            "\"\"\")\n",
            "\n",
            "# Daftar fitur input yang digunakan\n",
            "st.markdown(\"\"\"\n",
            "Formulir yang dirancang mencakup beberapa jenis input, antara lain:\n",
            "\n",
            "- ***Text Input***: untuk memasukkan data berupa teks (misalnya nama)  \n",
            "- ***Numeric Input***: untuk data numerik seperti usia atau jumlah  \n",
            "- ***Date & Time Input***: untuk memilih tanggal dan waktu  \n",
            "- ***Selection Input***: untuk memilih salah satu dari beberapa opsi  \n",
            "- ***Button***: untuk menyimpan dan menampilkan hasil input\n",
            "\"\"\")\n",
            "\n",
            "# Arahkan ke halaman utama tugas\n",
            "st.markdown(\"📂 Silakan buka halaman **Tugas Pertemuan 3** pada sidebar untuk mencoba formulir interaktif yang telah dibuat.\")\n"
          ]
        }
      ]
    },
    {
      "cell_type": "markdown",
      "metadata": {
        "id": "RjG4ibb9F0p6"
      },
      "source": [
        "## Membuat Direktori Pages"
      ]
    },
    {
      "cell_type": "code",
      "execution_count": 37,
      "metadata": {
        "id": "EtthnVTEpJ7t",
        "colab": {
          "base_uri": "https://localhost:8080/"
        },
        "outputId": "d719c5ca-25f2-4617-ab21-2bdf235e1e9a"
      },
      "outputs": [
        {
          "output_type": "stream",
          "name": "stdout",
          "text": [
            "mkdir: cannot create directory ‘pages’: File exists\n"
          ]
        }
      ],
      "source": [
        "# Membuat folder baru bernama 'pages' untuk menyimpan file-file halaman lain di side bar\n",
        "!mkdir pages"
      ]
    },
    {
      "cell_type": "code",
      "execution_count": 38,
      "metadata": {
        "colab": {
          "base_uri": "https://localhost:8080/"
        },
        "id": "orQZ8r3EF843",
        "outputId": "4a9c7135-36f5-4696-c41b-bb50dad907cd"
      },
      "outputs": [
        {
          "output_type": "stream",
          "name": "stdout",
          "text": [
            "Beranda.py  node_modules  package-lock.json  requirements.txt\n",
            "logs.txt    package.json  pages\n"
          ]
        }
      ],
      "source": [
        "# Menampilkan daftar semua file dan folder di direktori saat ini\n",
        "!ls"
      ]
    },
    {
      "cell_type": "code",
      "execution_count": 39,
      "metadata": {
        "id": "1EnvvMCRpSnf",
        "colab": {
          "base_uri": "https://localhost:8080/"
        },
        "outputId": "f2eeccc4-b3d3-4468-e517-a13c3e05f2d9"
      },
      "outputs": [
        {
          "output_type": "stream",
          "name": "stdout",
          "text": [
            "Contoh_Pertemuan_3.py  Latihan_Pertemuan_3.py  Tugas_Pertemuan_3.py\n"
          ]
        }
      ],
      "source": [
        "# Menampilkan isi folder 'pages' untuk memastikan file sudah masuk ke sana\n",
        "!ls pages"
      ]
    },
    {
      "cell_type": "markdown",
      "metadata": {
        "id": "RfaIItUItPyn"
      },
      "source": [
        "## Pertemuan 3"
      ]
    },
    {
      "cell_type": "code",
      "execution_count": 40,
      "metadata": {
        "colab": {
          "base_uri": "https://localhost:8080/"
        },
        "id": "npyRzkIsstqE",
        "outputId": "31512ccf-988e-4f9e-f82d-3bcdb9101fc1"
      },
      "outputs": [
        {
          "output_type": "stream",
          "name": "stdout",
          "text": [
            "Overwriting pages/Contoh_Pertemuan_3.py\n"
          ]
        }
      ],
      "source": [
        "%%writefile pages/Contoh_Pertemuan_3.py\n",
        "import streamlit as st\n",
        "import datetime\n",
        "\n",
        "# INPUT WIDGET\n",
        "\n",
        "# 1. TEXT INPUT\n",
        "# a. Text Input\n",
        "username = st.text_input('Masukkan nama Anda:', 'John Doe')\n",
        "password = st.text_input('Masukkan kata sandi Anda:', type='password', max_chars=12)\n",
        "st.write(f'Selamat Datang {username}')\n",
        "if password:\n",
        "    st.write('Kata sandi dimasukkan.')\n",
        "\n",
        "# b. Text Area\n",
        "description = st.text_area('Masukkan deskripsi Anda:', 'Tulis deskripsi Anda di sini...', height=150)\n",
        "st.write(f'Deskripsi yang dimasukkan: {description}')\n",
        "\n",
        "# c. Chat Input\n",
        "message = st.chat_input('Tulis pesan Anda:')\n",
        "if message:\n",
        "    st.write(f'Pesan yang Anda masukkan: {message}')\n",
        "\n",
        "# 2. NUMERIC INPUT\n",
        "age = st.number_input('Masukkan umur Anda:', min_value=0, max_value=100, value=18, step=1)\n",
        "st.write(f'Umur Anda adalah: {age}')\n",
        "\n",
        "# 3. SLIDER\n",
        "umur = st.slider('Pilih umur Anda:', min_value=0, max_value=100, value=25, step=1)\n",
        "st.write(f\"Umur Anda adalah: {umur}\")\n",
        "\n",
        "# 4. SELECT BOX\n",
        "color = st.selectbox('Pilih warna favorit Anda:', ['Merah', 'Biru', 'Hijau', 'Kuning'])\n",
        "st.write(f'Warna favorit Anda adalah: {color}')\n",
        "\n",
        "# 5. MULTI SELECT\n",
        "hobbies = st.multiselect('Pilih hobi favorit Anda:', ['Membaca', 'Olahraga', 'Menonton Film', 'Musik'])\n",
        "st.write(f'Hobi favorit Anda adalah: {\", \".join(hobbies)}')\n",
        "\n",
        "# 6. CHECK BOX\n",
        "agree = st.checkbox('Setuju dengan syarat dan ketentuan')\n",
        "if agree:\n",
        "    st.write('Terima kasih, Anda setuju dengan syarat dan ketentuan.')\n",
        "else:\n",
        "    st.write('Silakan centang untuk menyetujui syarat dan ketentuan.')\n",
        "\n",
        "# 7. RADIO BUTTON\n",
        "gender = st.radio('Pilih jenis kelamin:', ['Laki-laki', 'Perempuan'])\n",
        "st.write(f'Jenis kelamin yang Anda pilih adalah: {gender}')\n",
        "\n",
        "# 8. SELECT SLIDER\n",
        "difficulty = st.select_slider('Pilih tingkat kesulitan:', options=['Mudah', 'Sedang', 'Sulit'])\n",
        "st.write(f'Tingkat kesulitan yang Anda pilih adalah: {difficulty}')\n",
        "\n",
        "# 9. BUTTON\n",
        "angka_1 = st.number_input(\"Masukkan angka pertama:\", value=0)\n",
        "angka_2 = st.number_input(\"Masukkan angka kedua:\", value=0)\n",
        "def hitung_penjumlahan(a, b):\n",
        "    return a + b\n",
        "if st.button(\"Hitung Penjumlahan\"):\n",
        "    hasil = hitung_penjumlahan(angka_1, angka_2)\n",
        "    st.write(f\"Hasil penjumlahan: {hasil}\")\n",
        "\n",
        "# 10. DOWNLOAD BUTTON\n",
        "data = 'Ini adalah contoh teks untuk diunduh.'\n",
        "st.download_button('Unduh Teks', data, file_name='contoh.txt', mime='text/plain')\n",
        "\n",
        "# 11. LINK BUTTON\n",
        "st.link_button('Kunjungi Streamlit', url='https://streamlit.io')\n",
        "\n",
        "# 12. PAGE LINK\n",
        "# Menggunakan emoji sebagai ikon untuk st.page_link\n",
        "st.page_link('https://www.streamlit.io',\n",
        "             label='Kunjungi Streamlit',\n",
        "             icon='🔗')  # Menggunakan emoji link sebagai ikon\n",
        "\n",
        "# 13. FORM SUBMIT BUTTON\n",
        "with st.form(key='my_form'):\n",
        "    name = st.text_input('Nama Anda')\n",
        "    age_form = st.number_input('Usia Anda', min_value=0)\n",
        "    submit_button = st.form_submit_button(label='Kirim')\n",
        "    if submit_button:\n",
        "        st.write(f'Nama: {name}')\n",
        "        st.write(f'Usia: {age_form}')\n",
        "\n",
        "# 14. DATE & TIME INPUT\n",
        "date = st.date_input('Pilih Tanggal', value=datetime.date.today())\n",
        "st.write('Tanggal yang dipilih:', date)\n",
        "time = st.time_input('Pilih Waktu', value=datetime.time(14, 30))\n",
        "st.write('Waktu yang dipilih:', time)"
      ]
    },
    {
      "cell_type": "code",
      "execution_count": 41,
      "metadata": {
        "colab": {
          "base_uri": "https://localhost:8080/"
        },
        "id": "eNRJTJFzu89o",
        "outputId": "79f60baf-0455-4db3-9d2b-88ae927254da"
      },
      "outputs": [
        {
          "output_type": "stream",
          "name": "stdout",
          "text": [
            "Overwriting pages/Latihan_Pertemuan_3.py\n"
          ]
        }
      ],
      "source": [
        "%%writefile pages/Latihan_Pertemuan_3.py\n",
        "import streamlit as st\n",
        "\n",
        "# Fungsi untuk konversi ke rupiah\n",
        "def convert_to_rupiah(amount, rate):\n",
        "    return amount * rate\n",
        "\n",
        "# Nilai tukar fiktif (misalnya)\n",
        "exchange_rates = {\n",
        "    'USD': 15500,\n",
        "    'EUR': 17000,\n",
        "    'JPY': 110\n",
        "}\n",
        "\n",
        "st.title(\"Konversi Mata Uang ke Rupiah\")\n",
        "\n",
        "# Input form untuk memasukkan jumlah uang\n",
        "with st.form(key='currency_conversion_form'):\n",
        "    # Pilihan mata uang\n",
        "    currency = st.selectbox('Pilih mata uang:', ['USD', 'EUR', 'JPY'])\n",
        "\n",
        "    # Input jumlah uang yang akan dikonversi\n",
        "    amount = st.number_input(f'Masukkan jumlah {currency}:', min_value=0.01, format=\"%.2f\")\n",
        "\n",
        "    # Tombol submit\n",
        "    submit_button = st.form_submit_button('Hitung')\n",
        "\n",
        "# Proses konversi jika tombol submit ditekan\n",
        "if submit_button:\n",
        "    if amount > 0:\n",
        "        # Ambil nilai tukar yang sesuai dengan mata uang yang dipilih\n",
        "        rate = exchange_rates[currency]\n",
        "\n",
        "        # Hitung konversi\n",
        "        rupiah_amount = convert_to_rupiah(amount, rate)\n",
        "\n",
        "        # Tampilkan hasil konversi\n",
        "        st.success(f'{amount} {currency} setara dengan IDR {rupiah_amount:,.2f}')\n",
        "    else:\n",
        "        st.error('Jumlah yang dimasukkan harus lebih dari 0.')"
      ]
    },
    {
      "cell_type": "code",
      "execution_count": 42,
      "metadata": {
        "colab": {
          "base_uri": "https://localhost:8080/"
        },
        "id": "XYmzIwumvb0S",
        "outputId": "67364c32-9248-4f6c-f410-29c985a5ca72"
      },
      "outputs": [
        {
          "output_type": "stream",
          "name": "stdout",
          "text": [
            "Overwriting pages/Tugas_Pertemuan_3.py\n"
          ]
        }
      ],
      "source": [
        "%%writefile pages/Tugas_Pertemuan_3.py\n",
        "import streamlit as st\n",
        "from datetime import date, time\n",
        "\n",
        "# 📚 Judul Halaman\n",
        "st.title(\"Formulir Pemesanan Buku Mahasiswa Sains Data\")\n",
        "\n",
        "# 📝 Deskripsi\n",
        "st.write(\"Isi formulir berikut untuk melakukan pemesanan buku yang tersedia di katalog kami.\")\n",
        "\n",
        "# ✍️ Input Formulir\n",
        "nama = st.text_input(\"Nama Pemesan\")\n",
        "email = st.text_input(\"Email Aktif\")\n",
        "jumlah_buku = st.number_input(\"Jumlah Buku\", min_value=1, step=1)\n",
        "\n",
        "tanggal_pemesanan = st.date_input(\"Tanggal Pemesanan\", value=date.today())\n",
        "\n",
        "judul_buku = st.selectbox(\n",
        "    \"Pilih Judul Buku\",\n",
        "    [\n",
        "        \"Pengantar Kecerdasan Buatan\",\n",
        "        \"Belajar Machine Learning dari Nol\",\n",
        "        \"Data Science untuk Pemula\",\n",
        "        \"Dasar-Dasar Python\",\n",
        "        \"Teknologi Cloud Computing\"\n",
        "    ]\n",
        ")\n",
        "\n",
        "jam_pengambilan = st.time_input(\"Jam Pengambilan Buku\", value=time(14, 0))\n",
        "\n",
        "# 🧾 Tombol Submit\n",
        "if st.button(\"Pesan Buku\"):\n",
        "    st.success(\"Pemesanan berhasil disimpan!\")\n",
        "    st.markdown(\"### 📚 Detail Pemesanan Anda:\")\n",
        "    st.write(f\"**Nama:** {nama}\")\n",
        "    st.write(f\"**Email:** {email}\")\n",
        "    st.write(f\"**Jumlah Buku:** {jumlah_buku}\")\n",
        "    st.write(f\"**Tanggal Pemesanan:** {tanggal_pemesanan}\")\n",
        "    st.write(f\"**Judul Buku:** {judul_buku}\")\n",
        "    st.write(f\"**Jam Pengambilan:** {jam_pengambilan}\")\n",
        "\n",
        "# ----------------------------------\n",
        "# 📝 Keterangan Tambahan (Caption)\n",
        "# ----------------------------------\n",
        "st.caption(\"Tugas Pertemuan 3 | oleh Riska Alifia Putri.\")\n"
      ]
    },
    {
      "cell_type": "markdown",
      "metadata": {
        "id": "k4pIIyd86nzn"
      },
      "source": [
        "## Deployment Streamlit"
      ]
    },
    {
      "cell_type": "code",
      "execution_count": 43,
      "metadata": {
        "colab": {
          "base_uri": "https://localhost:8080/"
        },
        "id": "m3_PvUwaGfTr",
        "outputId": "46554a16-df5a-45de-f9d4-61d344a277cf"
      },
      "outputs": [
        {
          "output_type": "stream",
          "name": "stdout",
          "text": [
            "\u001b[1G\u001b[0K⠙\u001b[1G\u001b[0K⠹\u001b[1G\u001b[0K⠸\u001b[1G\u001b[0K⠼\u001b[1G\u001b[0K⠴\u001b[1G\u001b[0K⠦\u001b[1G\u001b[0K\n",
            "up to date, audited 23 packages in 942ms\n",
            "\u001b[1G\u001b[0K⠦\u001b[1G\u001b[0K\n",
            "\u001b[1G\u001b[0K⠦\u001b[1G\u001b[0K3 packages are looking for funding\n",
            "\u001b[1G\u001b[0K⠦\u001b[1G\u001b[0K  run `npm fund` for details\n",
            "\u001b[1G\u001b[0K⠦\u001b[1G\u001b[0K\n",
            "2 \u001b[31m\u001b[1mhigh\u001b[22m\u001b[39m severity vulnerabilities\n",
            "\n",
            "To address all issues (including breaking changes), run:\n",
            "  npm audit fix --force\n",
            "\n",
            "Run `npm audit` for details.\n",
            "\u001b[1G\u001b[0K⠧\u001b[1G\u001b[0K"
          ]
        }
      ],
      "source": [
        "!npm install localtunnel"
      ]
    },
    {
      "cell_type": "code",
      "execution_count": 44,
      "metadata": {
        "colab": {
          "base_uri": "https://localhost:8080/"
        },
        "id": "1QkFzxI1GhDc",
        "outputId": "5b18fe22-ad1c-42c3-ff12-2d6d89513586"
      },
      "outputs": [
        {
          "output_type": "stream",
          "name": "stdout",
          "text": [
            "/content/drive/MyDrive/Pengembangan_Machine_Learning/Tugas_3\n"
          ]
        }
      ],
      "source": [
        "# Menampilkan direktori kerja saat ini (lokasi folder tempat kita bekerja)\n",
        "!pwd"
      ]
    },
    {
      "cell_type": "code",
      "execution_count": 45,
      "metadata": {
        "id": "CvKsDBl4GkC2"
      },
      "outputs": [],
      "source": [
        "# Menjalankan aplikasi Streamlit\n",
        "!streamlit run /content/drive/MyDrive/Pengembangan_Machine_Learning/Tugas_3/Beranda.py &>/content/drive/MyDrive/Pengembangan_Machine_Learning/Tugas_3/logs.txt &"
      ]
    },
    {
      "cell_type": "code",
      "execution_count": 46,
      "metadata": {
        "id": "okbzm9pFGmF9",
        "colab": {
          "base_uri": "https://localhost:8080/"
        },
        "outputId": "def9c0ca-c19f-4a05-d4ca-c58f78ec4940"
      },
      "outputs": [
        {
          "output_type": "stream",
          "name": "stdout",
          "text": [
            "timeout: failed to run command ‘cat/content/drive/MyDrive/Pengembangan_Machine_Learning/Tugas_3/logs.txt’: No such file or directory\n"
          ]
        }
      ],
      "source": [
        "# Menampilkan isi file log (berisi info hasil menjalankan Streamlit)\n",
        "!timeout 30 cat/content/drive/MyDrive/Pengembangan_Machine_Learning/Tugas_3/logs.txt"
      ]
    },
    {
      "cell_type": "code",
      "execution_count": 47,
      "metadata": {
        "colab": {
          "base_uri": "https://localhost:8080/",
          "height": 36
        },
        "id": "4e3bnAGuGol5",
        "outputId": "6be7ec5f-4b36-4ae1-ee95-ac7a1c4d0d85"
      },
      "outputs": [
        {
          "output_type": "execute_result",
          "data": {
            "text/plain": [
              "'34.21.8.242'"
            ],
            "application/vnd.google.colaboratory.intrinsic+json": {
              "type": "string"
            }
          },
          "metadata": {},
          "execution_count": 47
        }
      ],
      "source": [
        "# Mengecek alamat IP publik (Outputnya dipakai sebagai Password Tunnel)\n",
        "import requests\n",
        "requests.get('https://api.ipify.org').text"
      ]
    },
    {
      "cell_type": "code",
      "execution_count": 48,
      "metadata": {
        "colab": {
          "base_uri": "https://localhost:8080/"
        },
        "id": "oVV37RKqGqPg",
        "outputId": "c5c90ee8-3faf-4746-bb28-4921afb9fddf"
      },
      "outputs": [
        {
          "output_type": "stream",
          "name": "stdout",
          "text": [
            "\u001b[1G\u001b[0K⠙\u001b[1G\u001b[0K⠹\u001b[1G\u001b[0K⠸\u001b[1G\u001b[0K⠼\u001b[1G\u001b[0Kyour url is: https://all-masks-dig.loca.lt\n",
            "^C\n"
          ]
        }
      ],
      "source": [
        "# Membuka localtunnel di port 8501 (port default Streamlit)\n",
        "# Alamat url yang muncul (misalnya: https://hungry-actors-fetch.loca.lt) bisa diklik untuk melihat hasil tampilan website nya\n",
        "!npx localtunnel --port 8501"
      ]
    }
  ],
  "metadata": {
    "colab": {
      "collapsed_sections": [
        "bUf7uD-v6Y1f",
        "sFw9yT5OFsQ-",
        "x6DBmaKQlWPM",
        "RjG4ibb9F0p6",
        "RfaIItUItPyn",
        "k4pIIyd86nzn"
      ],
      "provenance": []
    },
    "kernelspec": {
      "display_name": "Python 3",
      "name": "python3"
    },
    "language_info": {
      "name": "python"
    }
  },
  "nbformat": 4,
  "nbformat_minor": 0
}