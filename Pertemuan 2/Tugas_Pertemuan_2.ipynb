{
  "cells": [
    {
      "cell_type": "markdown",
      "metadata": {
        "id": "bUf7uD-v6Y1f"
      },
      "source": [
        "## Menginstall Library Streamlit"
      ]
    },
    {
      "cell_type": "code",
      "source": [
        "# Menghubungkan Google Drive agar bisa akses folder project\n",
        "from google.colab import drive\n",
        "drive.mount('/content/drive')"
      ],
      "metadata": {
        "colab": {
          "base_uri": "https://localhost:8080/"
        },
        "id": "KlOIKApvuiiM",
        "outputId": "e6f6df6a-f106-4e03-a253-5b9307313cc0"
      },
      "execution_count": 89,
      "outputs": [
        {
          "output_type": "stream",
          "name": "stdout",
          "text": [
            "Drive already mounted at /content/drive; to attempt to forcibly remount, call drive.mount(\"/content/drive\", force_remount=True).\n"
          ]
        }
      ]
    },
    {
      "cell_type": "code",
      "execution_count": 90,
      "metadata": {
        "id": "WlvI0uDLo60H",
        "colab": {
          "base_uri": "https://localhost:8080/"
        },
        "outputId": "3879b467-791d-4a69-92d4-b67506583a56"
      },
      "outputs": [
        {
          "output_type": "stream",
          "name": "stdout",
          "text": [
            "/content/drive/MyDrive/Pengembangan_Machine_Learning\n"
          ]
        }
      ],
      "source": [
        "# Masuk ke direktori folder project yang sudah dibuat di Google Drive\n",
        "%cd /content/drive/MyDrive/Pengembangan_Machine_Learning"
      ]
    },
    {
      "cell_type": "code",
      "source": [
        "# Membuat file requirements.txt\n",
        "%%writefile requirements.txt\n",
        "# Berikut adalah daftar library yang akan digunakan dalam project ini\n",
        "streamlit"
      ],
      "metadata": {
        "id": "0QI5cEX1FZPG",
        "colab": {
          "base_uri": "https://localhost:8080/"
        },
        "outputId": "239a9df6-e745-4492-a15f-4312e4b5257d"
      },
      "execution_count": 91,
      "outputs": [
        {
          "output_type": "stream",
          "name": "stdout",
          "text": [
            "Overwriting requirements.txt\n"
          ]
        }
      ]
    },
    {
      "cell_type": "code",
      "source": [
        "# Menampilkan daftar file dan folder yang ada di dalam folder project\n",
        "!ls"
      ],
      "metadata": {
        "id": "He4D9HGhFa_y",
        "colab": {
          "base_uri": "https://localhost:8080/"
        },
        "outputId": "4c00c4a1-e2ee-4aaf-fb6c-e6938aa9a85a"
      },
      "execution_count": 92,
      "outputs": [
        {
          "output_type": "stream",
          "name": "stdout",
          "text": [
            "Beranda.py  node_modules  package-lock.json  requirements.txt\n",
            "logs.txt    package.json  pages\n"
          ]
        }
      ]
    },
    {
      "cell_type": "code",
      "source": [
        "# Menampilkan isi file requirements.txt\n",
        "!cat requirements.txt"
      ],
      "metadata": {
        "id": "bwQqVrsaFfhd",
        "colab": {
          "base_uri": "https://localhost:8080/"
        },
        "outputId": "5ea5b04f-aef1-4b87-cff7-21d5ddf2261e"
      },
      "execution_count": 93,
      "outputs": [
        {
          "output_type": "stream",
          "name": "stdout",
          "text": [
            "# Berikut adalah daftar library yang akan digunakan dalam project ini\n",
            "streamlit\n"
          ]
        }
      ]
    },
    {
      "cell_type": "code",
      "source": [
        "# Menginstall semua library yang sudah ditulis di requirements.txt\n",
        "!pip install -q -r requirements.txt"
      ],
      "metadata": {
        "id": "oHS2JVqYFkbb"
      },
      "execution_count": 94,
      "outputs": []
    },
    {
      "cell_type": "code",
      "execution_count": 95,
      "metadata": {
        "id": "1zyxZfx0o-Bp",
        "colab": {
          "base_uri": "https://localhost:8080/"
        },
        "outputId": "b09ce128-aed5-4d61-910d-4410c29f0245"
      },
      "outputs": [
        {
          "output_type": "stream",
          "name": "stdout",
          "text": [
            "streamlit                             1.45.1\n"
          ]
        }
      ],
      "source": [
        "# Mengecek apakah streamlit sudah berhasil diinstall\n",
        "!pip list | grep streamlit"
      ]
    },
    {
      "cell_type": "code",
      "execution_count": 96,
      "metadata": {
        "id": "VdSqmROmo-_Y"
      },
      "outputs": [],
      "source": [
        "# Menginstall library streamlit secara diam-diam (tanpa banyak output)\n",
        "!pip install streamlit -q"
      ]
    },
    {
      "cell_type": "markdown",
      "source": [
        "## Membuat File Beranda.py"
      ],
      "metadata": {
        "id": "sFw9yT5OFsQ-"
      }
    },
    {
      "cell_type": "code",
      "execution_count": 97,
      "metadata": {
        "id": "q2GcvoeHpB_o",
        "colab": {
          "base_uri": "https://localhost:8080/"
        },
        "outputId": "51757574-3df6-4cbb-e7e1-99fcf8fc0405"
      },
      "outputs": [
        {
          "output_type": "stream",
          "name": "stdout",
          "text": [
            "Overwriting Beranda.py\n"
          ]
        }
      ],
      "source": [
        "%%writefile Beranda.py\n",
        "import streamlit as st\n",
        "\n",
        "# Judul halaman\n",
        "st.title(\"Pengenalan Machine Learning\")\n",
        "\n",
        "# Deskripsi singkat\n",
        "st.text(\"Machine Learning (ML) adalah cabang dari kecerdasan buatan (AI) yang membuat komputer dapat belajar dari data.\")\n",
        "\n",
        "# Penjelasan lebih panjang (bisa pakai st.write atau st.markdown untuk lebih rapi)\n",
        "st.markdown(\"\"\"\n",
        "Machine Learning memungkinkan sistem untuk mengenali pola, membuat prediksi, dan mengambil keputusan tanpa harus diprogram secara eksplisit.\n",
        "Dengan kata lain, mesin 'belajar' dari data dan meningkatkan kinerjanya seiring waktu.\n",
        "\n",
        "Dalam praktiknya, terdapat tiga jenis utama machine learning:\n",
        "1. **Supervised Learning** – belajar dari data berlabel\n",
        "2. **Unsupervised Learning** – menemukan pola dari data tanpa label\n",
        "3. **Reinforcement Learning** – belajar dari umpan balik berupa reward/punishment\n",
        "\n",
        "Salah satu algoritma yang umum digunakan dalam supervised learning adalah **Naive Bayes**.\n",
        "Naive Bayes bekerja dengan prinsip probabilitas dan sangat cocok digunakan untuk klasifikasi, terutama dalam kasus teks seperti analisis sentimen dan spam filtering.\n",
        "\"\"\")\n",
        "\n",
        "# Penutup\n",
        "st.markdown(\"\"\"\n",
        "---\n",
        "Silakan navigasikan ke halaman 'Tugas Pertemuan 2' melalui sidebar untuk melihat penjelasan lengkap tentang **Algoritma Naive Bayes**.\n",
        "\"\"\")\n",
        "\n",
        "# Footer\n",
        "st.caption(\"Beranda | Disusun oleh Riska Alifia Putri\")"
      ]
    },
    {
      "cell_type": "code",
      "source": [
        "# Menampilkan lokasi folder kerja kita saat ini (singkatan dari \"print working directory\")\n",
        "!pwd"
      ],
      "metadata": {
        "id": "Y1xnhI7oFwUi",
        "colab": {
          "base_uri": "https://localhost:8080/"
        },
        "outputId": "11790cdd-bcf9-423e-d461-5e8228c430b4"
      },
      "execution_count": 98,
      "outputs": [
        {
          "output_type": "stream",
          "name": "stdout",
          "text": [
            "/content/drive/MyDrive/Pengembangan_Machine_Learning\n"
          ]
        }
      ]
    },
    {
      "cell_type": "code",
      "execution_count": 99,
      "metadata": {
        "id": "ehortH0hpMiz",
        "colab": {
          "base_uri": "https://localhost:8080/"
        },
        "outputId": "557cbd20-e2ea-4bd3-a8b1-b9a6a854a240"
      },
      "outputs": [
        {
          "output_type": "stream",
          "name": "stdout",
          "text": [
            "Beranda.py  node_modules  package-lock.json  requirements.txt\n",
            "logs.txt    package.json  pages\n"
          ]
        }
      ],
      "source": [
        "# Menampilkan daftar file dan folder yang ada di dalam folder projek saat ini\n",
        "!ls"
      ]
    },
    {
      "cell_type": "markdown",
      "source": [
        "## Mengecek Isi Beranda.py"
      ],
      "metadata": {
        "id": "h90aIJUY7AJq"
      }
    },
    {
      "cell_type": "code",
      "source": [
        "!cat Beranda.py"
      ],
      "metadata": {
        "colab": {
          "base_uri": "https://localhost:8080/"
        },
        "id": "R-m05r-_7FKh",
        "outputId": "c0b0dedd-aacc-4ecc-90d6-4df95784a5cc"
      },
      "execution_count": 100,
      "outputs": [
        {
          "output_type": "stream",
          "name": "stdout",
          "text": [
            "import streamlit as st\n",
            "\n",
            "# Judul halaman\n",
            "st.title(\"Pengenalan Machine Learning\")\n",
            "\n",
            "# Deskripsi singkat\n",
            "st.text(\"Machine Learning (ML) adalah cabang dari kecerdasan buatan (AI) yang membuat komputer dapat belajar dari data.\")\n",
            "\n",
            "# Penjelasan lebih panjang (bisa pakai st.write atau st.markdown untuk lebih rapi)\n",
            "st.markdown(\"\"\"\n",
            "Machine Learning memungkinkan sistem untuk mengenali pola, membuat prediksi, dan mengambil keputusan tanpa harus diprogram secara eksplisit.\n",
            "Dengan kata lain, mesin 'belajar' dari data dan meningkatkan kinerjanya seiring waktu.\n",
            "\n",
            "Dalam praktiknya, terdapat tiga jenis utama machine learning:\n",
            "1. **Supervised Learning** – belajar dari data berlabel\n",
            "2. **Unsupervised Learning** – menemukan pola dari data tanpa label\n",
            "3. **Reinforcement Learning** – belajar dari umpan balik berupa reward/punishment\n",
            "\n",
            "Salah satu algoritma yang umum digunakan dalam supervised learning adalah **Naive Bayes**.\n",
            "Naive Bayes bekerja dengan prinsip probabilitas dan sangat cocok digunakan untuk klasifikasi, terutama dalam kasus teks seperti analisis sentimen dan spam filtering.\n",
            "\"\"\")\n",
            "\n",
            "# Penutup\n",
            "st.markdown(\"\"\"\n",
            "---\n",
            "Silakan navigasikan ke halaman 'Tugas Pertemuan 2' melalui sidebar untuk melihat penjelasan lengkap tentang **Algoritma Naive Bayes**.\n",
            "\"\"\")\n",
            "\n",
            "# Footer\n",
            "st.caption(\"Beranda | Disusun oleh Riska Alifia Putri\")\n"
          ]
        }
      ]
    },
    {
      "cell_type": "markdown",
      "source": [
        "## Membuat Direktori Pages"
      ],
      "metadata": {
        "id": "RjG4ibb9F0p6"
      }
    },
    {
      "cell_type": "code",
      "execution_count": 101,
      "metadata": {
        "id": "EtthnVTEpJ7t",
        "colab": {
          "base_uri": "https://localhost:8080/"
        },
        "outputId": "273415dd-5de1-438a-86f6-2ac2652a9aaf"
      },
      "outputs": [
        {
          "output_type": "stream",
          "name": "stdout",
          "text": [
            "mkdir: cannot create directory ‘pages’: File exists\n"
          ]
        }
      ],
      "source": [
        "# Membuat folder baru bernama 'pages' untuk menyimpan file-file halaman lain di side bar\n",
        "!mkdir pages"
      ]
    },
    {
      "cell_type": "code",
      "source": [
        "# Menampilkan daftar semua file dan folder di direktori saat ini\n",
        "!ls"
      ],
      "metadata": {
        "id": "orQZ8r3EF843",
        "colab": {
          "base_uri": "https://localhost:8080/"
        },
        "outputId": "3c3cecc8-65ce-4aa6-bb1b-2938af056f24"
      },
      "execution_count": 102,
      "outputs": [
        {
          "output_type": "stream",
          "name": "stdout",
          "text": [
            "Beranda.py  node_modules  package-lock.json  requirements.txt\n",
            "logs.txt    package.json  pages\n"
          ]
        }
      ]
    },
    {
      "cell_type": "code",
      "execution_count": 103,
      "metadata": {
        "id": "1EnvvMCRpSnf",
        "colab": {
          "base_uri": "https://localhost:8080/"
        },
        "outputId": "69267256-ad74-4c94-ba24-6d54aae51f54"
      },
      "outputs": [
        {
          "output_type": "stream",
          "name": "stdout",
          "text": [
            "Contoh_Pertemuan2.py  Latihan_Pertemuan2.py  Tugas_Pertemuan2.py\n"
          ]
        }
      ],
      "source": [
        "# Menampilkan isi folder 'pages' untuk memastikan file sudah masuk ke sana\n",
        "!ls pages"
      ]
    },
    {
      "cell_type": "markdown",
      "metadata": {
        "id": "VtB2dJ2v6XI6"
      },
      "source": [
        "## Pertemuan 2"
      ]
    },
    {
      "cell_type": "code",
      "execution_count": 104,
      "metadata": {
        "id": "JcSBak3Yknrt",
        "colab": {
          "base_uri": "https://localhost:8080/"
        },
        "outputId": "64cbc7e1-b101-4d53-f819-17cd87c06d56"
      },
      "outputs": [
        {
          "output_type": "stream",
          "name": "stdout",
          "text": [
            "Overwriting pages/Contoh_Pertemuan2.py\n"
          ]
        }
      ],
      "source": [
        "%%writefile pages/Contoh_Pertemuan2.py\n",
        "# 1. Menampilkan teks biasa\n",
        "import streamlit as st\n",
        "st.text(\"Selamat datang di aplikasi kami!\")\n",
        "\n",
        "# 2. Heading dan subheading\n",
        "st.title(\"Aplikasi Prediksi Kesegaran Ikan\")\n",
        "st.header(\"Fitur Utama\")\n",
        "st.subheader(\"Menggunakan Machine Learning\")\n",
        "\n",
        "# 3. Menggunakan markdown untuk format teks\n",
        "st.markdown(\"**Teks Tebal** dan *Teks Miring*\")\n",
        "st.markdown(\"> Ini adalah kutipan.\")\n",
        "st.markdown(\"- Item pertama\\n- Item kedua\\n- Item ketiga\")\n",
        "\n",
        "# 4. Menampilkan caption\n",
        "st.caption(\"Dikembangkan oleh Tim Data Science\")\n",
        "\n",
        "# 5. Menampilkan kode program\n",
        "st.code(\"\"\"\n",
        "def hello():\n",
        "    print(\"Hello, Streamlit!\")\n",
        "\"\"\", language=\"python\")\n",
        "\n",
        "# 6. Menampilkan rumus matematika dengan Latex\n",
        "st.latex(r\"\\int_a^b f(x)dx = F(b) - F(a)\")\n",
        "\n",
        "# 7. Menampilkan garis pemisah\n",
        "st.divider()\n",
        "\n",
        "# 8. Menampilkan kode Python beserta outputnya\n",
        "st.title(\"Demonstrasi st.echo()\")\n",
        "\n",
        "with st.echo():\n",
        "    st.write(\"Halo, ini teks yang ditampilkan di Streamlit!\")\n",
        "    angka = 10 + 5\n",
        "    st.write(f\"Hasil perhitungan: {angka}\")"
      ]
    },
    {
      "cell_type": "code",
      "execution_count": 105,
      "metadata": {
        "id": "I2Nk1s8tp5jb",
        "colab": {
          "base_uri": "https://localhost:8080/"
        },
        "outputId": "73d7d795-11fe-4e7e-b91a-678f36d6794e"
      },
      "outputs": [
        {
          "output_type": "stream",
          "name": "stdout",
          "text": [
            "Overwriting pages/Latihan_Pertemuan2.py\n"
          ]
        }
      ],
      "source": [
        "%%writefile pages/Latihan_Pertemuan2.py\n",
        "import streamlit as st\n",
        "\n",
        "# Menampilkan judul utama aplikasi\n",
        "st.title(\"Aplikasi Prediksi Kualitas Kesegaran Ikan\")\n",
        "\n",
        "# Menampilkan header utama\n",
        "st.header(\"Tentang Aplikasi\")\n",
        "\n",
        "# Menampilkan deskripsi aplikasi\n",
        "st.write(\"Aplikasi ini dirancang untuk membantu pengguna dalam memprediksi kualitas kesegaran ikan berdasarkan berbagai parameter seperti warna insang, tekstur daging, dan bau ikan.\")\n",
        "\n",
        "# Menampilkan subheader\n",
        "st.subheader(\"Fitur Utama\")\n",
        "\n",
        "# Menampilkan daftar fitur dalam format unordered list (ul)\n",
        "st.markdown(\"\"\"\n",
        "- **Analisis Kualitas** berdasarkan data visual dan sensorik\n",
        "- **Model Prediksi** berbasis Machine Learning\n",
        "- **Antarmuka Interaktif** yang mudah digunakan\n",
        "- **Hasil Akurat** dengan tingkat kepercayaan tinggi\n",
        "\"\"\")\n",
        "\n",
        "# Menampilkan daftar langkah kerja aplikasi dalam format ordered list (ol)\n",
        "st.markdown(\"\"\"\n",
        "1. Input data karakteristik ikan\n",
        "2. Pemrosesan dan analisis data\n",
        "3. Prediksi kesegaran ikan\n",
        "4. Menampilkan hasil prediksi\n",
        "\"\"\")\n",
        "\n",
        "# Menampilkan contoh kode penggunaan model prediksi\n",
        "st.subheader(\"Contoh Penggunaan Model Prediksi\")\n",
        "st.code(\"\"\"import joblib\"\"\")\n",
        "\n",
        "# Menampilkan caption pada gambar ilustrasi aplikasi\n",
        "st.image(\"/content/drive/MyDrive/Colab Notebooks/Pengembangan Machine Learning/asset/fish.jpg\", caption=\"Gambar Ilustrasi Kesegaran Ikan\")\n",
        "\n",
        "# Menampilkan pemisah\n",
        "st.divider()\n",
        "\n",
        "# Menampilkan persamaan matematika terkait analisis kesegaran ikan menggunakan LaTeX\n",
        "st.subheader(\"Model Prediksi\")\n",
        "st.latex(r\"\"\"S = \\frac{1}{1+e^{-z}}\"\"\")\n",
        "st.write(\"Di mana \\( S \\) adalah skor kesegaran ikan berdasarkan parameter yang dianalisis.\")\n",
        "\n",
        "# Menampilkan catatan tambahan\n",
        "st.caption(\"Versi 1.0 | Dikembangkan oleh Tim AI Perikanan\")"
      ]
    },
    {
      "cell_type": "code",
      "execution_count": 106,
      "metadata": {
        "id": "902vvdc0sJq1",
        "colab": {
          "base_uri": "https://localhost:8080/"
        },
        "outputId": "4f354df6-0259-4b05-fbbc-a83d6efcff20"
      },
      "outputs": [
        {
          "output_type": "stream",
          "name": "stdout",
          "text": [
            "Overwriting pages/Tugas_Pertemuan2.py\n"
          ]
        }
      ],
      "source": [
        "%%writefile pages/Tugas_Pertemuan2.py\n",
        "import streamlit as st\n",
        "\n",
        "# Judul halaman\n",
        "st.title(\"Pengenalan Naive Bayes dalam Machine Learning\")\n",
        "\n",
        "# Deskripsi singkat\n",
        "st.text(\"Naive Bayes merupakan salah satu algoritma machine learning yang digunakan untuk menangani masalah klasifikasi berdasarkan pada probabilitas. \"\n",
        "        \"Beberapa contoh penerapan algoritma Naive Bayes yaitu klasifikasi dokumen, perkiraan cuaca, sistem rekomendasi, analisis sentiment, dan lain sebagainya.\")\n",
        "\n",
        "# Gambar\n",
        "st.image(\"/content/drive/MyDrive/Colab Notebooks/Pengembangan Machine Learning/asset/naive bayes.png\", caption=\"Algoritma Naive Bayes.\")\n",
        "\n",
        "# Subjudul fitur\n",
        "st.subheader(\"Mengapa Memilih Naive Bayes?\")\n",
        "\n",
        "# Daftar fitur (markdown)\n",
        "st.markdown(\"\"\"\n",
        "- 🧠 **Efisien dan Cepat**: Cocok untuk dataset besar dengan waktu pelatihan yang cepat.\n",
        "- 📊 **Akurat untuk Teks**: Sering digunakan dalam klasifikasi teks seperti spam filter dan analisis sentimen.\n",
        "- 🧮 **Berdasarkan Probabilitas**: Memprediksi berdasarkan kemungkinan terbesar suatu kelas.\n",
        "- 🎯 **Tahan terhadap Overfitting**: Terutama pada dataset kecil dan bersih.\n",
        "- 🔎 **Mudah Diimplementasikan**: Struktur sederhana dan logika yang mudah dipahami.\n",
        "\"\"\")\n",
        "\n",
        "# Subjudul langkah kerja\n",
        "st.subheader(\"Cara Kerja Naive Bayes\")\n",
        "\n",
        "# Langkah-langkah kerja\n",
        "st.markdown(\"\"\"\n",
        "1. Hitung probabilitas tiap kelas berdasarkan data pelatihan.\n",
        "2. Hitung probabilitas fitur muncul dalam tiap kelas.\n",
        "3. Gunakan Teorema Bayes untuk menentukan probabilitas kelas berdasarkan input.\n",
        "4. Pilih kelas dengan probabilitas tertinggi sebagai hasil prediksi.\n",
        "\"\"\")\n",
        "\n",
        "# Contoh kode\n",
        "st.subheader(\"Contoh Kode: Prediksi Siswa Lulus atau Tidak dengan Naive Bayes\")\n",
        "\n",
        "st.code(\"\"\"\n",
        "from sklearn.naive_bayes import GaussianNB\n",
        "\n",
        "# Data: [Nilai Tugas, Nilai Ujian]\n",
        "X = [[60, 70], [85, 80], [55, 60], [90, 95], [40, 50]]\n",
        "y = [0, 1, 0, 1, 0]  # 0 = Tidak Lulus, 1 = Lulus\n",
        "\n",
        "# Model\n",
        "model = GaussianNB()\n",
        "model.fit(X, y)\n",
        "\n",
        "# Prediksi siswa baru\n",
        "hasil = model.predict([[75, 85]])\n",
        "print(hasil)  # Output: [1]\n",
        "\"\"\")\n",
        "\n",
        "# Divider\n",
        "st.divider()\n",
        "\n",
        "# Subjudul untuk rumus matematika\n",
        "st.subheader(\"Dasar Matematis Naive Bayes\")\n",
        "\n",
        "# Rumus matematika\n",
        "st.latex(r\"\"\"\n",
        "P(A|B) = \\frac{P(B|A) \\cdot P(A)}{P(B)}\n",
        "\"\"\")\n",
        "\n",
        "st.write(\"Di mana:\")\n",
        "st.markdown(\"\"\"\n",
        "- \\( P(A|B) \\) adalah probabilitas kelas \\( A \\) berdasarkan fitur \\( B \\)\n",
        "- \\( P(B|A) \\) adalah probabilitas fitur \\( B \\) muncul di kelas \\( A \\)\n",
        "- \\( P(A) \\) adalah probabilitas awal kelas \\( A \\)\n",
        "- \\( P(B) \\) adalah probabilitas total dari fitur \\( B \\)\n",
        "\"\"\")\n",
        "\n",
        "# Footer\n",
        "st.caption(\"Tugas Pertemuan 2 | Disusun oleh Riska Alifia Putri\")\n"
      ]
    },
    {
      "cell_type": "markdown",
      "metadata": {
        "id": "k4pIIyd86nzn"
      },
      "source": [
        "## Deployment Streamlit"
      ]
    },
    {
      "cell_type": "code",
      "source": [
        "!npm install localtunnel"
      ],
      "metadata": {
        "id": "m3_PvUwaGfTr",
        "colab": {
          "base_uri": "https://localhost:8080/"
        },
        "outputId": "469cbb3a-6e97-4fc3-e961-66ca7de3ceef",
        "collapsed": true
      },
      "execution_count": 107,
      "outputs": [
        {
          "output_type": "stream",
          "name": "stdout",
          "text": [
            "\u001b[1G\u001b[0K⠙\u001b[1G\u001b[0K⠹\u001b[1G\u001b[0K⠸\u001b[1G\u001b[0K⠼\u001b[1G\u001b[0K⠴\u001b[1G\u001b[0K⠦\u001b[1G\u001b[0K\n",
            "up to date, audited 23 packages in 950ms\n",
            "\u001b[1G\u001b[0K⠦\u001b[1G\u001b[0K\n",
            "\u001b[1G\u001b[0K⠦\u001b[1G\u001b[0K3 packages are looking for funding\n",
            "\u001b[1G\u001b[0K⠦\u001b[1G\u001b[0K  run `npm fund` for details\n",
            "\u001b[1G\u001b[0K⠦\u001b[1G\u001b[0K\n",
            "2 \u001b[31m\u001b[1mhigh\u001b[22m\u001b[39m severity vulnerabilities\n",
            "\n",
            "To address all issues (including breaking changes), run:\n",
            "  npm audit fix --force\n",
            "\n",
            "Run `npm audit` for details.\n",
            "\u001b[1G\u001b[0K⠦\u001b[1G\u001b[0K"
          ]
        }
      ]
    },
    {
      "cell_type": "code",
      "source": [
        "# Menampilkan direktori kerja saat ini (lokasi folder tempat kita bekerja)\n",
        "!pwd"
      ],
      "metadata": {
        "id": "1QkFzxI1GhDc",
        "colab": {
          "base_uri": "https://localhost:8080/"
        },
        "outputId": "b45ae99d-77dd-49b4-b0d9-dbc3ee3afba3"
      },
      "execution_count": 108,
      "outputs": [
        {
          "output_type": "stream",
          "name": "stdout",
          "text": [
            "/content/drive/MyDrive/Pengembangan_Machine_Learning\n"
          ]
        }
      ]
    },
    {
      "cell_type": "code",
      "source": [
        "# Menjalankan aplikasi Streamlit\n",
        "!streamlit run /content/drive/MyDrive/Pengembangan_Machine_Learning/Beranda.py &>/content/drive/MyDrive/Pengembangan_Machine_Learning/logs.txt &"
      ],
      "metadata": {
        "id": "CvKsDBl4GkC2"
      },
      "execution_count": 109,
      "outputs": []
    },
    {
      "cell_type": "code",
      "source": [
        "# Menampilkan isi file log (berisi info hasil menjalankan Streamlit)\n",
        "# Tunggu sekitar 30 detik, lalu tampilkan hasil log-nya\n",
        "!timeout 30 cat /content/drive/MyDrive/Pengembangan_Machine_Learning/logs.txt"
      ],
      "metadata": {
        "id": "okbzm9pFGmF9"
      },
      "execution_count": 110,
      "outputs": []
    },
    {
      "cell_type": "code",
      "source": [
        "# Mengecek alamat IP publik (Outputnya dipakai sebagai Password Tunnel)\n",
        "import requests\n",
        "requests.get('https://api.ipify.org').text"
      ],
      "metadata": {
        "id": "4e3bnAGuGol5",
        "colab": {
          "base_uri": "https://localhost:8080/",
          "height": 36
        },
        "outputId": "474e99b7-a9e9-4b0f-9770-97fb33f22e3d"
      },
      "execution_count": 111,
      "outputs": [
        {
          "output_type": "execute_result",
          "data": {
            "text/plain": [
              "'34.67.167.87'"
            ],
            "application/vnd.google.colaboratory.intrinsic+json": {
              "type": "string"
            }
          },
          "metadata": {},
          "execution_count": 111
        }
      ]
    },
    {
      "cell_type": "code",
      "source": [
        "# Membuka localtunnel di port 8501 (port default Streamlit)\n",
        "# Alamat url yang muncul (misalnya: https://hungry-actors-fetch.loca.lt) bisa diklik untuk melihat hasil tampilan website nya\n",
        "!npx localtunnel --port 8501"
      ],
      "metadata": {
        "colab": {
          "base_uri": "https://localhost:8080/"
        },
        "id": "oVV37RKqGqPg",
        "outputId": "0110c5a4-3d07-4657-fa8c-ac598fdd637a"
      },
      "execution_count": null,
      "outputs": [
        {
          "output_type": "stream",
          "name": "stdout",
          "text": [
            "\u001b[1G\u001b[0K⠙\u001b[1G\u001b[0K⠹\u001b[1G\u001b[0Kyour url is: https://open-cats-guess.loca.lt\n"
          ]
        }
      ]
    }
  ],
  "metadata": {
    "colab": {
      "provenance": [],
      "collapsed_sections": [
        "sFw9yT5OFsQ-",
        "h90aIJUY7AJq",
        "RjG4ibb9F0p6"
      ]
    },
    "kernelspec": {
      "display_name": "Python 3",
      "name": "python3"
    },
    "language_info": {
      "name": "python"
    }
  },
  "nbformat": 4,
  "nbformat_minor": 0
}
