{
  "cells": [
    {
      "cell_type": "markdown",
      "metadata": {
        "id": "bUf7uD-v6Y1f"
      },
      "source": [
        "## Menginstall Library Streamlit"
      ]
    },
    {
      "cell_type": "code",
      "execution_count": 104,
      "metadata": {
        "colab": {
          "base_uri": "https://localhost:8080/"
        },
        "id": "KlOIKApvuiiM",
        "outputId": "482155ef-98a1-4e70-c254-3116edefdcf2"
      },
      "outputs": [
        {
          "output_type": "stream",
          "name": "stdout",
          "text": [
            "Drive already mounted at /content/drive; to attempt to forcibly remount, call drive.mount(\"/content/drive\", force_remount=True).\n"
          ]
        }
      ],
      "source": [
        "# Menghubungkan Google Drive agar bisa akses folder project\n",
        "from google.colab import drive\n",
        "drive.mount('/content/drive')"
      ]
    },
    {
      "cell_type": "code",
      "execution_count": 105,
      "metadata": {
        "colab": {
          "base_uri": "https://localhost:8080/"
        },
        "id": "WlvI0uDLo60H",
        "outputId": "3b685da8-52fe-47f2-8744-9b030c254cbf"
      },
      "outputs": [
        {
          "output_type": "stream",
          "name": "stdout",
          "text": [
            "/content/drive/MyDrive/Pengembangan_Machine_Learning/Tugas_2\n"
          ]
        }
      ],
      "source": [
        "# Masuk ke direktori folder project yang sudah dibuat di Google Drive\n",
        "%cd /content/drive/MyDrive/Pengembangan_Machine_Learning/Tugas_2"
      ]
    },
    {
      "cell_type": "code",
      "execution_count": 106,
      "metadata": {
        "colab": {
          "base_uri": "https://localhost:8080/"
        },
        "id": "0QI5cEX1FZPG",
        "outputId": "891d69c7-9458-43bc-b78c-aadf7f97416e"
      },
      "outputs": [
        {
          "output_type": "stream",
          "name": "stdout",
          "text": [
            "Overwriting requirements.txt\n"
          ]
        }
      ],
      "source": [
        "# Membuat file requirements.txt\n",
        "%%writefile requirements.txt\n",
        "# Berikut adalah daftar library yang akan digunakan dalam project ini\n",
        "streamlit"
      ]
    },
    {
      "cell_type": "code",
      "execution_count": 107,
      "metadata": {
        "colab": {
          "base_uri": "https://localhost:8080/"
        },
        "id": "He4D9HGhFa_y",
        "outputId": "71853753-99a0-43f4-de21-7e47dfe1c6bf"
      },
      "outputs": [
        {
          "output_type": "stream",
          "name": "stdout",
          "text": [
            "Beranda.py  node_modules  package-lock.json  requirements.txt\n",
            "logs.txt    package.json  pages\n"
          ]
        }
      ],
      "source": [
        "# Menampilkan daftar file dan folder yang ada di dalam folder project\n",
        "!ls"
      ]
    },
    {
      "cell_type": "code",
      "execution_count": 108,
      "metadata": {
        "colab": {
          "base_uri": "https://localhost:8080/"
        },
        "id": "bwQqVrsaFfhd",
        "outputId": "2a88c2c8-3a49-491b-c75c-619eef9225ae"
      },
      "outputs": [
        {
          "output_type": "stream",
          "name": "stdout",
          "text": [
            "# Berikut adalah daftar library yang akan digunakan dalam project ini\n",
            "streamlit\n"
          ]
        }
      ],
      "source": [
        "# Menampilkan isi file requirements.txt\n",
        "!cat requirements.txt"
      ]
    },
    {
      "cell_type": "code",
      "execution_count": 109,
      "metadata": {
        "id": "oHS2JVqYFkbb"
      },
      "outputs": [],
      "source": [
        "# Menginstall semua library yang sudah ditulis di requirements.txt\n",
        "!pip install -q -r requirements.txt"
      ]
    },
    {
      "cell_type": "code",
      "execution_count": 110,
      "metadata": {
        "colab": {
          "base_uri": "https://localhost:8080/"
        },
        "id": "1zyxZfx0o-Bp",
        "outputId": "85b8e004-46cb-4485-dc61-239b449c8cdf"
      },
      "outputs": [
        {
          "output_type": "stream",
          "name": "stdout",
          "text": [
            "streamlit                             1.45.1\n"
          ]
        }
      ],
      "source": [
        "# Mengecek apakah streamlit sudah berhasil diinstall\n",
        "!pip list | grep streamlit"
      ]
    },
    {
      "cell_type": "code",
      "execution_count": 111,
      "metadata": {
        "id": "VdSqmROmo-_Y"
      },
      "outputs": [],
      "source": [
        "# Menginstall library streamlit secara diam-diam (tanpa banyak output)\n",
        "!pip install streamlit -q"
      ]
    },
    {
      "cell_type": "markdown",
      "metadata": {
        "id": "sFw9yT5OFsQ-"
      },
      "source": [
        "## Membuat File Beranda.py"
      ]
    },
    {
      "cell_type": "code",
      "execution_count": 112,
      "metadata": {
        "colab": {
          "base_uri": "https://localhost:8080/"
        },
        "id": "q2GcvoeHpB_o",
        "outputId": "24672e48-7c24-462d-cadc-ea3146a1128e"
      },
      "outputs": [
        {
          "output_type": "stream",
          "name": "stdout",
          "text": [
            "Overwriting Beranda.py\n"
          ]
        }
      ],
      "source": [
        "%%writefile Beranda.py\n",
        "import streamlit as st\n",
        "\n",
        "# Judul halaman\n",
        "st.title(\"Pengenalan Machine Learning\")\n",
        "\n",
        "# Deskripsi singkat\n",
        "st.text(\"Machine Learning (ML) adalah cabang dari kecerdasan buatan (AI) yang membuat komputer dapat belajar dari data.\")\n",
        "\n",
        "# Penjelasan lebih panjang (bisa pakai st.write atau st.markdown untuk lebih rapi)\n",
        "st.markdown(\"\"\"\n",
        "Machine Learning memungkinkan sistem untuk mengenali pola, membuat prediksi, dan mengambil keputusan tanpa harus diprogram secara eksplisit.\n",
        "Dengan kata lain, mesin 'belajar' dari data dan meningkatkan kinerjanya seiring waktu.\n",
        "\n",
        "Dalam praktiknya, terdapat tiga jenis utama machine learning:\n",
        "1. **Supervised Learning** – belajar dari data berlabel\n",
        "2. **Unsupervised Learning** – menemukan pola dari data tanpa label\n",
        "3. **Reinforcement Learning** – belajar dari umpan balik berupa reward/punishment\n",
        "\n",
        "Salah satu algoritma yang umum digunakan dalam supervised learning adalah **Naive Bayes**.\n",
        "Naive Bayes bekerja dengan prinsip probabilitas dan sangat cocok digunakan untuk klasifikasi, terutama dalam kasus teks seperti analisis sentimen dan spam filtering.\n",
        "\"\"\")\n",
        "\n",
        "# Penutup\n",
        "st.markdown(\"\"\"\n",
        "---\n",
        "Silakan navigasikan ke halaman 'Tugas Pertemuan 2' melalui sidebar untuk melihat penjelasan lengkap tentang **Algoritma Naive Bayes**.\n",
        "\"\"\")\n",
        "\n",
        "# Footer\n",
        "st.caption(\"Beranda | Disusun oleh Riska Alifia Putri\")"
      ]
    },
    {
      "cell_type": "code",
      "execution_count": 113,
      "metadata": {
        "colab": {
          "base_uri": "https://localhost:8080/"
        },
        "id": "Y1xnhI7oFwUi",
        "outputId": "efc4bbe2-77f5-48ba-b736-802617810468"
      },
      "outputs": [
        {
          "output_type": "stream",
          "name": "stdout",
          "text": [
            "/content/drive/MyDrive/Pengembangan_Machine_Learning/Tugas_2\n"
          ]
        }
      ],
      "source": [
        "# Menampilkan lokasi folder kerja kita saat ini (singkatan dari \"print working directory\")\n",
        "!pwd"
      ]
    },
    {
      "cell_type": "code",
      "execution_count": 114,
      "metadata": {
        "colab": {
          "base_uri": "https://localhost:8080/"
        },
        "id": "ehortH0hpMiz",
        "outputId": "634294b6-efc4-45f0-d7d9-ee9bbde501a0"
      },
      "outputs": [
        {
          "output_type": "stream",
          "name": "stdout",
          "text": [
            "Beranda.py  node_modules  package-lock.json  requirements.txt\n",
            "logs.txt    package.json  pages\n"
          ]
        }
      ],
      "source": [
        "# Menampilkan daftar file dan folder yang ada di dalam folder projek saat ini\n",
        "!ls"
      ]
    },
    {
      "cell_type": "markdown",
      "metadata": {
        "id": "h90aIJUY7AJq"
      },
      "source": [
        "## Mengecek Isi Beranda.py"
      ]
    },
    {
      "cell_type": "code",
      "execution_count": 115,
      "metadata": {
        "colab": {
          "base_uri": "https://localhost:8080/"
        },
        "id": "R-m05r-_7FKh",
        "outputId": "f4c547c1-9b42-478f-d179-6818021e00ae"
      },
      "outputs": [
        {
          "output_type": "stream",
          "name": "stdout",
          "text": [
            "import streamlit as st\n",
            "\n",
            "# Judul halaman\n",
            "st.title(\"Pengenalan Machine Learning\")\n",
            "\n",
            "# Deskripsi singkat\n",
            "st.text(\"Machine Learning (ML) adalah cabang dari kecerdasan buatan (AI) yang membuat komputer dapat belajar dari data.\")\n",
            "\n",
            "# Penjelasan lebih panjang (bisa pakai st.write atau st.markdown untuk lebih rapi)\n",
            "st.markdown(\"\"\"\n",
            "Machine Learning memungkinkan sistem untuk mengenali pola, membuat prediksi, dan mengambil keputusan tanpa harus diprogram secara eksplisit.\n",
            "Dengan kata lain, mesin 'belajar' dari data dan meningkatkan kinerjanya seiring waktu.\n",
            "\n",
            "Dalam praktiknya, terdapat tiga jenis utama machine learning:\n",
            "1. **Supervised Learning** – belajar dari data berlabel\n",
            "2. **Unsupervised Learning** – menemukan pola dari data tanpa label\n",
            "3. **Reinforcement Learning** – belajar dari umpan balik berupa reward/punishment\n",
            "\n",
            "Salah satu algoritma yang umum digunakan dalam supervised learning adalah **Naive Bayes**.\n",
            "Naive Bayes bekerja dengan prinsip probabilitas dan sangat cocok digunakan untuk klasifikasi, terutama dalam kasus teks seperti analisis sentimen dan spam filtering.\n",
            "\"\"\")\n",
            "\n",
            "# Penutup\n",
            "st.markdown(\"\"\"\n",
            "---\n",
            "Silakan navigasikan ke halaman 'Tugas Pertemuan 2' melalui sidebar untuk melihat penjelasan lengkap tentang **Algoritma Naive Bayes**.\n",
            "\"\"\")\n",
            "\n",
            "# Footer\n",
            "st.caption(\"Beranda | Disusun oleh Riska Alifia Putri\")\n"
          ]
        }
      ],
      "source": [
        "!cat Beranda.py"
      ]
    },
    {
      "cell_type": "markdown",
      "metadata": {
        "id": "RjG4ibb9F0p6"
      },
      "source": [
        "## Membuat Direktori Pages"
      ]
    },
    {
      "cell_type": "code",
      "execution_count": 116,
      "metadata": {
        "colab": {
          "base_uri": "https://localhost:8080/"
        },
        "id": "EtthnVTEpJ7t",
        "outputId": "7ba24f99-a706-48df-b34a-0c8d175e26ad"
      },
      "outputs": [
        {
          "output_type": "stream",
          "name": "stdout",
          "text": [
            "mkdir: cannot create directory ‘pages’: File exists\n"
          ]
        }
      ],
      "source": [
        "# Membuat folder baru bernama 'pages' untuk menyimpan file-file halaman lain di side bar\n",
        "!mkdir pages"
      ]
    },
    {
      "cell_type": "code",
      "execution_count": 117,
      "metadata": {
        "colab": {
          "base_uri": "https://localhost:8080/"
        },
        "id": "orQZ8r3EF843",
        "outputId": "61055df0-8fb0-43c3-f5e5-e63417e50678"
      },
      "outputs": [
        {
          "output_type": "stream",
          "name": "stdout",
          "text": [
            "Beranda.py  node_modules  package-lock.json  requirements.txt\n",
            "logs.txt    package.json  pages\n"
          ]
        }
      ],
      "source": [
        "# Menampilkan daftar semua file dan folder di direktori saat ini\n",
        "!ls"
      ]
    },
    {
      "cell_type": "code",
      "execution_count": 118,
      "metadata": {
        "colab": {
          "base_uri": "https://localhost:8080/"
        },
        "id": "1EnvvMCRpSnf",
        "outputId": "745be07c-f3a6-4855-88ff-ca7b67f21167"
      },
      "outputs": [
        {
          "output_type": "stream",
          "name": "stdout",
          "text": [
            "Contoh_Pertemuan_2.py  Latihan_Pertemuan_2.py  Tugas_Pertemuan_2.py\n"
          ]
        }
      ],
      "source": [
        "# Menampilkan isi folder 'pages' untuk memastikan file sudah masuk ke sana\n",
        "!ls pages"
      ]
    },
    {
      "cell_type": "markdown",
      "metadata": {
        "id": "VtB2dJ2v6XI6"
      },
      "source": [
        "## Pertemuan 2"
      ]
    },
    {
      "cell_type": "code",
      "execution_count": 119,
      "metadata": {
        "colab": {
          "base_uri": "https://localhost:8080/"
        },
        "id": "JcSBak3Yknrt",
        "outputId": "0a17dbbc-0ce2-4744-ed79-c1209f7224dc"
      },
      "outputs": [
        {
          "output_type": "stream",
          "name": "stdout",
          "text": [
            "Overwriting pages/Contoh_Pertemuan_2.py\n"
          ]
        }
      ],
      "source": [
        "%%writefile pages/Contoh_Pertemuan_2.py\n",
        "# 1. Menampilkan teks biasa\n",
        "import streamlit as st\n",
        "st.text(\"Selamat datang di aplikasi kami!\")\n",
        "\n",
        "# 2. Heading dan subheading\n",
        "st.title(\"Aplikasi Prediksi Kesegaran Ikan\")\n",
        "st.header(\"Fitur Utama\")\n",
        "st.subheader(\"Menggunakan Machine Learning\")\n",
        "\n",
        "# 3. Menggunakan markdown untuk format teks\n",
        "st.markdown(\"**Teks Tebal** dan *Teks Miring*\")\n",
        "st.markdown(\"> Ini adalah kutipan.\")\n",
        "st.markdown(\"- Item pertama\\n- Item kedua\\n- Item ketiga\")\n",
        "\n",
        "# 4. Menampilkan caption\n",
        "st.caption(\"Dikembangkan oleh Tim Data Science\")\n",
        "\n",
        "# 5. Menampilkan kode program\n",
        "st.code(\"\"\"\n",
        "def hello():\n",
        "    print(\"Hello, Streamlit!\")\n",
        "\"\"\", language=\"python\")\n",
        "\n",
        "# 6. Menampilkan rumus matematika dengan Latex\n",
        "st.latex(r\"\\int_a^b f(x)dx = F(b) - F(a)\")\n",
        "\n",
        "# 7. Menampilkan garis pemisah\n",
        "st.divider()\n",
        "\n",
        "# 8. Menampilkan kode Python beserta outputnya\n",
        "st.title(\"Demonstrasi st.echo()\")\n",
        "\n",
        "with st.echo():\n",
        "    st.write(\"Halo, ini teks yang ditampilkan di Streamlit!\")\n",
        "    angka = 10 + 5\n",
        "    st.write(f\"Hasil perhitungan: {angka}\")"
      ]
    },
    {
      "cell_type": "code",
      "execution_count": 120,
      "metadata": {
        "colab": {
          "base_uri": "https://localhost:8080/"
        },
        "id": "I2Nk1s8tp5jb",
        "outputId": "b0af569b-8666-4923-b2a1-c96154bffb03"
      },
      "outputs": [
        {
          "output_type": "stream",
          "name": "stdout",
          "text": [
            "Overwriting pages/Latihan_Pertemuan_2.py\n"
          ]
        }
      ],
      "source": [
        "%%writefile pages/Latihan_Pertemuan_2.py\n",
        "import streamlit as st\n",
        "\n",
        "# Menampilkan judul utama aplikasi\n",
        "st.title(\"Aplikasi Prediksi Kualitas Kesegaran Ikan\")\n",
        "\n",
        "# Menampilkan header utama\n",
        "st.header(\"Tentang Aplikasi\")\n",
        "\n",
        "# Menampilkan deskripsi aplikasi\n",
        "st.write(\"Aplikasi ini dirancang untuk membantu pengguna dalam memprediksi kualitas kesegaran ikan berdasarkan berbagai parameter seperti warna insang, tekstur daging, dan bau ikan.\")\n",
        "\n",
        "# Menampilkan subheader\n",
        "st.subheader(\"Fitur Utama\")\n",
        "\n",
        "# Menampilkan daftar fitur dalam format unordered list (ul)\n",
        "st.markdown(\"\"\"\n",
        "- **Analisis Kualitas** berdasarkan data visual dan sensorik\n",
        "- **Model Prediksi** berbasis Machine Learning\n",
        "- **Antarmuka Interaktif** yang mudah digunakan\n",
        "- **Hasil Akurat** dengan tingkat kepercayaan tinggi\n",
        "\"\"\")\n",
        "\n",
        "# Menampilkan daftar langkah kerja aplikasi dalam format ordered list (ol)\n",
        "st.markdown(\"\"\"\n",
        "1. Input data karakteristik ikan\n",
        "2. Pemrosesan dan analisis data\n",
        "3. Prediksi kesegaran ikan\n",
        "4. Menampilkan hasil prediksi\n",
        "\"\"\")\n",
        "\n",
        "# Menampilkan contoh kode penggunaan model prediksi\n",
        "st.subheader(\"Contoh Penggunaan Model Prediksi\")\n",
        "st.code(\"\"\"import joblib\"\"\")\n",
        "\n",
        "# Menampilkan caption pada gambar ilustrasi aplikasi\n",
        "st.image(\"/content/drive/MyDrive/Colab Notebooks/Pengembangan Machine Learning/asset/fish.jpg\", caption=\"Gambar Ilustrasi Kesegaran Ikan\")\n",
        "\n",
        "# Menampilkan pemisah\n",
        "st.divider()\n",
        "\n",
        "# Menampilkan persamaan matematika terkait analisis kesegaran ikan menggunakan LaTeX\n",
        "st.subheader(\"Model Prediksi\")\n",
        "st.latex(r\"\"\"S = \\frac{1}{1+e^{-z}}\"\"\")\n",
        "st.write(\"Di mana \\( S \\) adalah skor kesegaran ikan berdasarkan parameter yang dianalisis.\")\n",
        "\n",
        "# Menampilkan catatan tambahan\n",
        "st.caption(\"Versi 1.0 | Dikembangkan oleh Tim AI Perikanan\")"
      ]
    },
    {
      "cell_type": "code",
      "execution_count": 121,
      "metadata": {
        "colab": {
          "base_uri": "https://localhost:8080/"
        },
        "id": "902vvdc0sJq1",
        "outputId": "2f7221a8-43a9-4bfb-a2b3-899f09636f03"
      },
      "outputs": [
        {
          "output_type": "stream",
          "name": "stdout",
          "text": [
            "Overwriting pages/Tugas_Pertemuan_2.py\n"
          ]
        }
      ],
      "source": [
        "%%writefile pages/Tugas_Pertemuan_2.py\n",
        "import streamlit as st\n",
        "\n",
        "# Judul halaman\n",
        "st.title(\"Pengenalan Naive Bayes dalam Machine Learning\")\n",
        "\n",
        "# Deskripsi singkat\n",
        "st.text(\"Naive Bayes merupakan salah satu algoritma machine learning yang digunakan untuk menangani masalah klasifikasi berdasarkan pada probabilitas. \"\n",
        "        \"Beberapa contoh penerapan algoritma Naive Bayes yaitu klasifikasi dokumen, perkiraan cuaca, sistem rekomendasi, analisis sentiment, dan lain sebagainya.\")\n",
        "\n",
        "# Gambar\n",
        "st.image(\"/content/drive/MyDrive/Colab Notebooks/Pengembangan Machine Learning/asset/naive bayes.png\", caption=\"Algoritma Naive Bayes.\")\n",
        "\n",
        "# Subjudul fitur\n",
        "st.subheader(\"Mengapa Memilih Naive Bayes?\")\n",
        "\n",
        "# Daftar fitur (markdown)\n",
        "st.markdown(\"\"\"\n",
        "- 🧠 **Efisien dan Cepat**: Cocok untuk dataset besar dengan waktu pelatihan yang cepat.\n",
        "- 📊 **Akurat untuk Teks**: Sering digunakan dalam klasifikasi teks seperti spam filter dan analisis sentimen.\n",
        "- 🧮 **Berdasarkan Probabilitas**: Memprediksi berdasarkan kemungkinan terbesar suatu kelas.\n",
        "- 🎯 **Tahan terhadap Overfitting**: Terutama pada dataset kecil dan bersih.\n",
        "- 🔎 **Mudah Diimplementasikan**: Struktur sederhana dan logika yang mudah dipahami.\n",
        "\"\"\")\n",
        "\n",
        "# Subjudul langkah kerja\n",
        "st.subheader(\"Cara Kerja Naive Bayes\")\n",
        "\n",
        "# Langkah-langkah kerja\n",
        "st.markdown(\"\"\"\n",
        "1. Hitung probabilitas tiap kelas berdasarkan data pelatihan.\n",
        "2. Hitung probabilitas fitur muncul dalam tiap kelas.\n",
        "3. Gunakan Teorema Bayes untuk menentukan probabilitas kelas berdasarkan input.\n",
        "4. Pilih kelas dengan probabilitas tertinggi sebagai hasil prediksi.\n",
        "\"\"\")\n",
        "\n",
        "# Contoh kode\n",
        "st.subheader(\"Contoh Kode: Prediksi Siswa Lulus atau Tidak dengan Naive Bayes\")\n",
        "\n",
        "st.code(\"\"\"\n",
        "from sklearn.naive_bayes import GaussianNB\n",
        "\n",
        "# Data: [Nilai Tugas, Nilai Ujian]\n",
        "X = [[60, 70], [85, 80], [55, 60], [90, 95], [40, 50]]\n",
        "y = [0, 1, 0, 1, 0]  # 0 = Tidak Lulus, 1 = Lulus\n",
        "\n",
        "# Model\n",
        "model = GaussianNB()\n",
        "model.fit(X, y)\n",
        "\n",
        "# Prediksi siswa baru\n",
        "hasil = model.predict([[75, 85]])\n",
        "print(hasil)  # Output: [1]\n",
        "\"\"\")\n",
        "\n",
        "# Divider\n",
        "st.divider()\n",
        "\n",
        "# Subjudul untuk rumus matematika\n",
        "st.subheader(\"Dasar Matematis Naive Bayes\")\n",
        "\n",
        "# Rumus matematika\n",
        "st.latex(r\"\"\"\n",
        "P(A|B) = \\frac{P(B|A) \\cdot P(A)}{P(B)}\n",
        "\"\"\")\n",
        "\n",
        "st.write(\"Di mana:\")\n",
        "st.markdown(\"\"\"\n",
        "- \\( P(A|B) \\) adalah probabilitas kelas \\( A \\) berdasarkan fitur \\( B \\)\n",
        "- \\( P(B|A) \\) adalah probabilitas fitur \\( B \\) muncul di kelas \\( A \\)\n",
        "- \\( P(A) \\) adalah probabilitas awal kelas \\( A \\)\n",
        "- \\( P(B) \\) adalah probabilitas total dari fitur \\( B \\)\n",
        "\"\"\")\n",
        "\n",
        "# Footer\n",
        "st.caption(\"Tugas Pertemuan 2 | Disusun oleh Riska Alifia Putri\")\n"
      ]
    },
    {
      "cell_type": "markdown",
      "metadata": {
        "id": "k4pIIyd86nzn"
      },
      "source": [
        "## Deployment Streamlit"
      ]
    },
    {
      "cell_type": "code",
      "execution_count": 122,
      "metadata": {
        "colab": {
          "base_uri": "https://localhost:8080/"
        },
        "collapsed": true,
        "id": "m3_PvUwaGfTr",
        "outputId": "bf06a2ac-1615-4991-90f4-61cec6c9410b"
      },
      "outputs": [
        {
          "output_type": "stream",
          "name": "stdout",
          "text": [
            "\u001b[1G\u001b[0K⠙\u001b[1G\u001b[0K⠹\u001b[1G\u001b[0K⠸\u001b[1G\u001b[0K⠼\u001b[1G\u001b[0K⠴\u001b[1G\u001b[0K⠦\u001b[1G\u001b[0K⠧\u001b[1G\u001b[0K⠇\u001b[1G\u001b[0K⠏\u001b[1G\u001b[0K⠋\u001b[1G\u001b[0K\n",
            "removed 22 packages, and audited 1 package in 1s\n",
            "\u001b[1G\u001b[0K⠋\u001b[1G\u001b[0K\n",
            "found \u001b[32m\u001b[1m0\u001b[22m\u001b[39m vulnerabilities\n",
            "\u001b[1G\u001b[0K⠋\u001b[1G\u001b[0K\u001b[1G\u001b[0K⠙\u001b[1G\u001b[0K⠹\u001b[1G\u001b[0K⠸\u001b[1G\u001b[0K⠼\u001b[1G\u001b[0K⠴\u001b[1G\u001b[0K⠦\u001b[1G\u001b[0K⠧\u001b[1G\u001b[0K⠇\u001b[1G\u001b[0K⠏\u001b[1G\u001b[0K⠋\u001b[1G\u001b[0K⠙\u001b[1G\u001b[0K⠹\u001b[1G\u001b[0K⠸\u001b[1G\u001b[0K⠼\u001b[1G\u001b[0K⠴\u001b[1G\u001b[0K⠦\u001b[1G\u001b[0K⠧\u001b[1G\u001b[0K⠇\u001b[1G\u001b[0K⠏\u001b[1G\u001b[0K⠋\u001b[1G\u001b[0K⠙\u001b[1G\u001b[0K⠹\u001b[1G\u001b[0K⠸\u001b[1G\u001b[0K⠼\u001b[1G\u001b[0K⠴\u001b[1G\u001b[0K⠦\u001b[1G\u001b[0K⠧\u001b[1G\u001b[0K⠇\u001b[1G\u001b[0K⠏\u001b[1G\u001b[0K⠋\u001b[1G\u001b[0K⠙\u001b[1G\u001b[0K⠹\u001b[1G\u001b[0K⠸\u001b[1G\u001b[0K⠼\u001b[1G\u001b[0K⠴\u001b[1G\u001b[0K⠦\u001b[1G\u001b[0K⠧\u001b[1G\u001b[0K⠇\u001b[1G\u001b[0K⠏\u001b[1G\u001b[0K⠋\u001b[1G\u001b[0K⠙\u001b[1G\u001b[0K⠹\u001b[1G\u001b[0K⠸\u001b[1G\u001b[0K⠼\u001b[1G\u001b[0K⠴\u001b[1G\u001b[0K⠦\u001b[1G\u001b[0K⠧\u001b[1G\u001b[0K⠇\u001b[1G\u001b[0K⠏\u001b[1G\u001b[0K⠋\u001b[1G\u001b[0K⠙\u001b[1G\u001b[0K⠹\u001b[1G\u001b[0K⠸\u001b[1G\u001b[0K⠼\u001b[1G\u001b[0K⠴\u001b[1G\u001b[0K⠦\u001b[1G\u001b[0K⠧\u001b[1G\u001b[0K⠇\u001b[1G\u001b[0K⠏\u001b[1G\u001b[0K\n",
            "added 22 packages, and audited 23 packages in 6s\n",
            "\u001b[1G\u001b[0K⠏\u001b[1G\u001b[0K\n",
            "\u001b[1G\u001b[0K⠏\u001b[1G\u001b[0K3 packages are looking for funding\n",
            "\u001b[1G\u001b[0K⠏\u001b[1G\u001b[0K  run `npm fund` for details\n",
            "\u001b[1G\u001b[0K⠏\u001b[1G\u001b[0K\n",
            "2 \u001b[31m\u001b[1mhigh\u001b[22m\u001b[39m severity vulnerabilities\n",
            "\n",
            "To address all issues, run:\n",
            "  npm audit fix\n",
            "\n",
            "Run `npm audit` for details.\n",
            "\u001b[1G\u001b[0K⠏\u001b[1G\u001b[0K"
          ]
        }
      ],
      "source": [
        "!npm uninstall localtunnel\n",
        "!npm install localtunnel"
      ]
    },
    {
      "cell_type": "code",
      "execution_count": 123,
      "metadata": {
        "colab": {
          "base_uri": "https://localhost:8080/"
        },
        "id": "1QkFzxI1GhDc",
        "outputId": "e204b49a-20db-4f6d-8594-c22fa4d94642"
      },
      "outputs": [
        {
          "output_type": "stream",
          "name": "stdout",
          "text": [
            "/content/drive/MyDrive/Pengembangan_Machine_Learning/Tugas_2\n"
          ]
        }
      ],
      "source": [
        "# Menampilkan direktori kerja saat ini (lokasi folder tempat kita bekerja)\n",
        "!pwd"
      ]
    },
    {
      "cell_type": "code",
      "execution_count": 124,
      "metadata": {
        "id": "CvKsDBl4GkC2"
      },
      "outputs": [],
      "source": [
        "# Menjalankan aplikasi Streamlit\n",
        "!streamlit run /content/drive/MyDrive/Pengembangan_Machine_Learning/Tugas_2/Beranda.py &>/content/drive/MyDrive/Pengembangan_Machine_Learning/Tugas_2/logs.txt &"
      ]
    },
    {
      "cell_type": "code",
      "execution_count": 125,
      "metadata": {
        "id": "okbzm9pFGmF9"
      },
      "outputs": [],
      "source": [
        "# Menampilkan isi file log (berisi info hasil menjalankan Streamlit)\n",
        "# Tunggu sekitar 30 detik, lalu tampilkan hasil log-nya\n",
        "!timeout 30 cat /content/drive/MyDrive/Pengembangan_Machine_Learning/Tugas_2/logs.txt"
      ]
    },
    {
      "cell_type": "code",
      "execution_count": 126,
      "metadata": {
        "colab": {
          "base_uri": "https://localhost:8080/",
          "height": 36
        },
        "id": "4e3bnAGuGol5",
        "outputId": "3d4a6913-2563-4413-9792-46b143b70a8b"
      },
      "outputs": [
        {
          "output_type": "execute_result",
          "data": {
            "text/plain": [
              "'34.106.154.237'"
            ],
            "application/vnd.google.colaboratory.intrinsic+json": {
              "type": "string"
            }
          },
          "metadata": {},
          "execution_count": 126
        }
      ],
      "source": [
        "# Mengecek alamat IP publik (Outputnya dipakai sebagai Password Tunnel)\n",
        "import requests\n",
        "requests.get('https://api.ipify.org').text"
      ]
    },
    {
      "cell_type": "code",
      "execution_count": null,
      "metadata": {
        "colab": {
          "base_uri": "https://localhost:8080/"
        },
        "id": "oVV37RKqGqPg",
        "outputId": "78a3c65f-034b-405b-a086-441d00e36c30"
      },
      "outputs": [
        {
          "output_type": "stream",
          "name": "stdout",
          "text": [
            "\u001b[1G\u001b[0K⠙\u001b[1G\u001b[0Kyour url is: https://easy-tables-switch.loca.lt\n"
          ]
        }
      ],
      "source": [
        "# Membuka localtunnel di port 8501 (port default Streamlit)\n",
        "# Alamat url yang muncul (misalnya: https://hungry-actors-fetch.loca.lt) bisa diklik untuk melihat hasil tampilan website nya\n",
        "!npx localtunnel --port 8501"
      ]
    }
  ],
  "metadata": {
    "colab": {
      "collapsed_sections": [
        "sFw9yT5OFsQ-",
        "h90aIJUY7AJq",
        "RjG4ibb9F0p6"
      ],
      "provenance": []
    },
    "kernelspec": {
      "display_name": "Python 3",
      "name": "python3"
    },
    "language_info": {
      "name": "python"
    }
  },
  "nbformat": 4,
  "nbformat_minor": 0
}