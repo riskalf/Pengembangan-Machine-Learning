{
  "cells": [
    {
      "cell_type": "markdown",
      "metadata": {
        "id": "bUf7uD-v6Y1f"
      },
      "source": [
        "## Menginstall Library Streamlit"
      ]
    },
    {
      "cell_type": "code",
      "source": [
        "# Menghubungkan Google Drive agar bisa akses folder project\n",
        "from google.colab import drive\n",
        "drive.mount('/content/drive')"
      ],
      "metadata": {
        "colab": {
          "base_uri": "https://localhost:8080/"
        },
        "id": "KlOIKApvuiiM",
        "outputId": "a6da6ff5-4013-4616-e03e-b579273f904b"
      },
      "execution_count": 25,
      "outputs": [
        {
          "output_type": "stream",
          "name": "stdout",
          "text": [
            "Drive already mounted at /content/drive; to attempt to forcibly remount, call drive.mount(\"/content/drive\", force_remount=True).\n"
          ]
        }
      ]
    },
    {
      "cell_type": "code",
      "execution_count": 26,
      "metadata": {
        "id": "WlvI0uDLo60H",
        "colab": {
          "base_uri": "https://localhost:8080/"
        },
        "outputId": "c17ee57d-7b4a-4279-f9c0-c37bf54436e4"
      },
      "outputs": [
        {
          "output_type": "stream",
          "name": "stdout",
          "text": [
            "/content/drive/MyDrive/Pengembangan_Machine_Learning/Tugas_6\n"
          ]
        }
      ],
      "source": [
        "# Masuk ke direktori folder project yang sudah dibuat di Google Drive\n",
        "%cd /content/drive/MyDrive/Pengembangan_Machine_Learning/Tugas_6"
      ]
    },
    {
      "cell_type": "code",
      "source": [
        "# Membuat file requirements.txt\n",
        "%%writefile requirements.txt\n",
        "# Berikut adalah daftar library yang akan digunakan dalam project ini\n",
        "streamlit"
      ],
      "metadata": {
        "id": "0QI5cEX1FZPG",
        "colab": {
          "base_uri": "https://localhost:8080/"
        },
        "outputId": "0fea0476-9af3-42ed-805f-cc7a78ceca8a"
      },
      "execution_count": 27,
      "outputs": [
        {
          "output_type": "stream",
          "name": "stdout",
          "text": [
            "Overwriting requirements.txt\n"
          ]
        }
      ]
    },
    {
      "cell_type": "code",
      "source": [
        "# Menampilkan daftar file dan folder yang ada di dalam folder project\n",
        "!ls"
      ],
      "metadata": {
        "id": "He4D9HGhFa_y",
        "colab": {
          "base_uri": "https://localhost:8080/"
        },
        "outputId": "9494ff1b-4c92-4afa-c333-72602606caf8"
      },
      "execution_count": 28,
      "outputs": [
        {
          "output_type": "stream",
          "name": "stdout",
          "text": [
            "Beranda.py  node_modules  package-lock.json  requirements.txt\n",
            "logs.txt    package.json  pages\n"
          ]
        }
      ]
    },
    {
      "cell_type": "code",
      "source": [
        "# Menampilkan isi file requirements.txt\n",
        "!cat requirements.txt"
      ],
      "metadata": {
        "id": "bwQqVrsaFfhd",
        "colab": {
          "base_uri": "https://localhost:8080/"
        },
        "outputId": "b05cac02-11ef-44fb-ee36-a55d439237ec"
      },
      "execution_count": 29,
      "outputs": [
        {
          "output_type": "stream",
          "name": "stdout",
          "text": [
            "# Berikut adalah daftar library yang akan digunakan dalam project ini\n",
            "streamlit\n"
          ]
        }
      ]
    },
    {
      "cell_type": "code",
      "source": [
        "# Menginstall semua library yang sudah ditulis di requirements.txt\n",
        "!pip install -q -r requirements.txt"
      ],
      "metadata": {
        "id": "oHS2JVqYFkbb"
      },
      "execution_count": 30,
      "outputs": []
    },
    {
      "cell_type": "code",
      "execution_count": 31,
      "metadata": {
        "id": "1zyxZfx0o-Bp",
        "colab": {
          "base_uri": "https://localhost:8080/"
        },
        "outputId": "bfac43b4-1d33-4faf-98d3-2d1b292d050f"
      },
      "outputs": [
        {
          "output_type": "stream",
          "name": "stdout",
          "text": [
            "streamlit                             1.45.1\n"
          ]
        }
      ],
      "source": [
        "# Mengecek apakah streamlit sudah berhasil diinstall\n",
        "!pip list | grep streamlit"
      ]
    },
    {
      "cell_type": "code",
      "execution_count": 32,
      "metadata": {
        "id": "VdSqmROmo-_Y"
      },
      "outputs": [],
      "source": [
        "# Menginstall library streamlit secara diam-diam (tanpa banyak output)\n",
        "!pip install streamlit -q"
      ]
    },
    {
      "cell_type": "markdown",
      "source": [
        "## Membuat File Beranda.py"
      ],
      "metadata": {
        "id": "sFw9yT5OFsQ-"
      }
    },
    {
      "cell_type": "code",
      "execution_count": 33,
      "metadata": {
        "id": "q2GcvoeHpB_o",
        "colab": {
          "base_uri": "https://localhost:8080/"
        },
        "outputId": "430af5be-f4d9-43fe-c2de-02a83863b35d"
      },
      "outputs": [
        {
          "output_type": "stream",
          "name": "stdout",
          "text": [
            "Overwriting Beranda.py\n"
          ]
        }
      ],
      "source": [
        "%%writefile Beranda.py\n",
        "import streamlit as st\n",
        "\n",
        "st.set_page_config(page_title=\"Beranda - Pertemuan 6\", layout=\"centered\")\n",
        "\n",
        "st.title(\"Visualisasi Data Interaktif pada Aplikasi Web\")\n",
        "\n",
        "st.markdown(\"\"\"\n",
        "Selamat datang di pertemuan ke-6 **Pengembangan Machine Learning**!\n",
        "\n",
        "Kali ini, kita akan membangun **dashboard interaktif** menggunakan **Streamlit** untuk mengeksplorasi data gizi dari berbagai makanan dan minuman khas Indonesia 🇮🇩.\n",
        "\n",
        "### 🎯 Apa yang akan kita buat?\n",
        "Sebuah aplikasi web dengan **5 tab visualisasi**:\n",
        "- 📊 Grafik Area\n",
        "- 📈 Grafik Garis\n",
        "- 📉 Grafik Batang\n",
        "- 🔘 Scatter Plot\n",
        "- 🗺️ Peta Lokasi (jika tersedia data koordinat)\n",
        "\n",
        "Dashboard ini akan membantu pengguna memahami informasi gizi seperti kalori, protein, lemak, dan karbohidrat secara visual. Navigasikan ke 'Tugas Pertemuan 6' untuk melihat hasil visualisasinya.\"\"\")\n",
        "\n",
        "st.caption(\"Dibuat oleh Riska Alifia Putri | Tugas Pertemuan 5\")"
      ]
    },
    {
      "cell_type": "code",
      "source": [
        "# Menampilkan lokasi folder kerja kita saat ini (singkatan dari \"print working directory\")\n",
        "!pwd"
      ],
      "metadata": {
        "id": "Y1xnhI7oFwUi",
        "colab": {
          "base_uri": "https://localhost:8080/"
        },
        "outputId": "66020cd0-432e-4417-c84d-1a84ac05442e"
      },
      "execution_count": 34,
      "outputs": [
        {
          "output_type": "stream",
          "name": "stdout",
          "text": [
            "/content/drive/MyDrive/Pengembangan_Machine_Learning/Tugas_6\n"
          ]
        }
      ]
    },
    {
      "cell_type": "code",
      "execution_count": 35,
      "metadata": {
        "id": "ehortH0hpMiz",
        "colab": {
          "base_uri": "https://localhost:8080/"
        },
        "outputId": "ebfd3414-31ab-458d-c11a-d77ecbb37347"
      },
      "outputs": [
        {
          "output_type": "stream",
          "name": "stdout",
          "text": [
            "Beranda.py  node_modules  package-lock.json  requirements.txt\n",
            "logs.txt    package.json  pages\n"
          ]
        }
      ],
      "source": [
        "# Menampilkan daftar file dan folder yang ada di dalam folder projek saat ini\n",
        "!ls"
      ]
    },
    {
      "cell_type": "markdown",
      "source": [
        "## Mengecek Isi Beranda.py"
      ],
      "metadata": {
        "id": "Jd50kQxBZzHY"
      }
    },
    {
      "cell_type": "code",
      "source": [
        "!cat Beranda.py"
      ],
      "metadata": {
        "colab": {
          "base_uri": "https://localhost:8080/"
        },
        "id": "RpebECKHZ2-A",
        "outputId": "eb707f6f-93c5-4087-df45-332c40d9ff83"
      },
      "execution_count": 36,
      "outputs": [
        {
          "output_type": "stream",
          "name": "stdout",
          "text": [
            "import streamlit as st\n",
            "\n",
            "st.set_page_config(page_title=\"Beranda - Pertemuan 6\", layout=\"centered\")\n",
            "\n",
            "st.title(\"Visualisasi Data Interaktif pada Aplikasi Web\")  \n",
            "\n",
            "st.markdown(\"\"\"\n",
            "Selamat datang di pertemuan ke-6 **Pengembangan Machine Learning**!\n",
            "\n",
            "Kali ini, kita akan membangun **dashboard interaktif** menggunakan **Streamlit** untuk mengeksplorasi data gizi dari berbagai makanan dan minuman khas Indonesia 🇮🇩.\n",
            "\n",
            "### 🎯 Apa yang akan kita buat?\n",
            "Sebuah aplikasi web dengan **5 tab visualisasi**:\n",
            "- 📊 Grafik Area  \n",
            "- 📈 Grafik Garis  \n",
            "- 📉 Grafik Batang  \n",
            "- 🔘 Scatter Plot  \n",
            "- 🗺️ Peta Lokasi (jika tersedia data koordinat)\n",
            "\n",
            "Dashboard ini akan membantu pengguna memahami informasi gizi seperti kalori, protein, lemak, dan karbohidrat secara visual. Navigasikan ke 'Tugas Pertemuan 6' untuk melihat hasil visualisasinya.\"\"\")\n",
            "\n",
            "st.caption(\"Dibuat oleh Riska Alifia Putri | Tugas Pertemuan 5\")\n"
          ]
        }
      ]
    },
    {
      "cell_type": "markdown",
      "source": [
        "## Membuat Direktori Pages"
      ],
      "metadata": {
        "id": "RjG4ibb9F0p6"
      }
    },
    {
      "cell_type": "code",
      "execution_count": 37,
      "metadata": {
        "id": "EtthnVTEpJ7t",
        "colab": {
          "base_uri": "https://localhost:8080/"
        },
        "outputId": "2e294515-6de9-47e8-eac5-d7846a446f48"
      },
      "outputs": [
        {
          "output_type": "stream",
          "name": "stdout",
          "text": [
            "mkdir: cannot create directory ‘pages’: File exists\n"
          ]
        }
      ],
      "source": [
        "# Membuat folder baru bernama 'pages' untuk menyimpan file-file halaman lain di side bar\n",
        "!mkdir pages"
      ]
    },
    {
      "cell_type": "code",
      "source": [
        "# Menampilkan daftar file dan folder yang ada di dalam folder projek saat ini\n",
        "!ls"
      ],
      "metadata": {
        "id": "orQZ8r3EF843",
        "colab": {
          "base_uri": "https://localhost:8080/"
        },
        "outputId": "27ac28d6-54b5-47d5-fc5d-02d74153a427"
      },
      "execution_count": 38,
      "outputs": [
        {
          "output_type": "stream",
          "name": "stdout",
          "text": [
            "Beranda.py  node_modules  package-lock.json  requirements.txt\n",
            "logs.txt    package.json  pages\n"
          ]
        }
      ]
    },
    {
      "cell_type": "code",
      "execution_count": 39,
      "metadata": {
        "id": "1EnvvMCRpSnf",
        "colab": {
          "base_uri": "https://localhost:8080/"
        },
        "outputId": "5a960736-83b7-45fb-e100-b9d07b6240c4"
      },
      "outputs": [
        {
          "output_type": "stream",
          "name": "stdout",
          "text": [
            "Contoh_Pertemuan_6.py  Latihan_Pertemuan_6.py  Tugas_Pertemuan_6.py\n"
          ]
        }
      ],
      "source": [
        "# Menampilkan isi folder 'pages' untuk memastikan file sudah masuk ke sana\n",
        "!ls pages"
      ]
    },
    {
      "cell_type": "markdown",
      "source": [
        "## Pertemuan 6"
      ],
      "metadata": {
        "id": "6gAmGMqAWK8l"
      }
    },
    {
      "cell_type": "code",
      "source": [
        "%%writefile pages/Contoh_Pertemuan_6.py\n",
        "import streamlit as st\n",
        "import pandas as pd\n",
        "\n",
        "# Membuat data contoh\n",
        "data = pd.DataFrame({\n",
        "    'Tahun': [2020,2021,2022,2023],\n",
        "    'Pendapatan': [100, 150, 200, 250]\n",
        "})\n",
        "\n",
        "# Menampilkan grafik area\n",
        "st.area_chart(data.set_index('Tahun'))\n",
        "\n",
        "# Menampilkan grafik garis\n",
        "st.line_chart(data.set_index('Tahun'))\n",
        "\n",
        "# Menampilkan grafik batang\n",
        "st.bar_chart(data.set_index('Tahun'))\n",
        "\n",
        "data2 = pd.DataFrame({\n",
        "    'X': [1,2,3,4,5],\n",
        "    'Y': [2,3,5,7,11]\n",
        "})\n",
        "# Menampilkan grafik sebar\n",
        "st.scatter_chart(data2)\n",
        "\n",
        "# Membuat data koordinat contoh\n",
        "data3 = pd.DataFrame({\n",
        "    'latitude': [40.7128, 34.0522, 51.5074],\n",
        "    'longitude': [-74.0060, -118.2437, -0.1278]\n",
        "})\n",
        "\n",
        "# Menampilkan peta\n",
        "st.map(data3)"
      ],
      "metadata": {
        "id": "KRreeSihWMbW",
        "colab": {
          "base_uri": "https://localhost:8080/"
        },
        "outputId": "69663f37-c04e-4e6c-9a8b-adb9eca6f021"
      },
      "execution_count": 40,
      "outputs": [
        {
          "output_type": "stream",
          "name": "stdout",
          "text": [
            "Overwriting pages/Contoh_Pertemuan_6.py\n"
          ]
        }
      ]
    },
    {
      "cell_type": "code",
      "source": [
        "%%writefile pages/Latihan_Pertemuan_6.py\n",
        "import streamlit as st\n",
        "import pandas as pd\n",
        "import matplotlib.pyplot as plt\n",
        "import plotly.express as px\n",
        "import seaborn as sns\n",
        "\n",
        "# Load dataset\n",
        "df = pd.read_csv('/content/drive/MyDrive/Colab Notebooks/Pengembangan Machine Learning/asset/Iris.csv')\n",
        "\n",
        "# Judul aplikasi\n",
        "st.title(\"Visualisasi Data Iris dengan Tab Interaktif\")\n",
        "st.markdown(\"Visualisasi berbagai jenis grafik berdasarkan dataset Iris\")\n",
        "\n",
        "# Membuat 5 tab\n",
        "tab1, tab2, tab3, tab4, tab5 = st.tabs([\"Grafik Area\", \"Grafik Garis\", \"Grafik Batang\", \"Grafik Scatter\", \"Peta\"])\n",
        "\n",
        "with tab1:\n",
        "    st.header(\"Grafik Area: Panjang dan Lebar Sepal\")\n",
        "    fig_area = px.area(df, x='Id', y=['SepalLengthCm', 'SepalWidthCm'], title='Area Chart Sepal')\n",
        "    st.plotly_chart(fig_area, use_container_width=True)\n",
        "\n",
        "with tab2:\n",
        "    st.header(\"Grafik Garis: Petal Length dan Width\")\n",
        "    fig_line = px.line(df, x='Id', y=['PetalLengthCm', 'PetalWidthCm'], color='Species', title='Line Chart Petal per Spesies')\n",
        "    st.plotly_chart(fig_line, use_container_width=True)\n",
        "\n",
        "with tab3:\n",
        "    st.header(\"Grafik Batang: Rata-rata Ukuran Sepal per Spesies\")\n",
        "    avg_sepal = df.groupby('Species')[['SepalLengthCm', 'SepalWidthCm']].mean().reset_index()\n",
        "    fig_bar = px.bar(avg_sepal, x='Species', y=['SepalLengthCm', 'SepalWidthCm'], barmode='group',\n",
        "                     title=\"Rata-rata Sepal per Spesies\")\n",
        "    st.plotly_chart(fig_bar, use_container_width=True)\n",
        "\n",
        "with tab4:\n",
        "    st.header(\"Grafik Scatter: Petal Length vs Width\")\n",
        "    fig_scatter = px.scatter(df, x='PetalLengthCm', y='PetalWidthCm', color='Species', symbol='Species',\n",
        "                             title=\"Scatter Plot Petal\", size='SepalLengthCm')\n",
        "    st.plotly_chart(fig_scatter, use_container_width=True)\n",
        "\n",
        "with tab5:\n",
        "    st.header(\"Peta: Simulasi Peta Spesies (Dummy Coordinates)\")\n",
        "    # Karena dataset tidak memiliki koordinat, kita buat dummy data\n",
        "    import numpy as np\n",
        "    df['Latitude'] = np.random.uniform(low=-6.2, high=-6.0, size=len(df))\n",
        "    df['Longitude'] = np.random.uniform(low=106.7, high=107.0, size=len(df))\n",
        "\n",
        "    fig_map = px.scatter_mapbox(df, lat='Latitude', lon='Longitude', color='Species', zoom=9,\n",
        "                                mapbox_style=\"carto-positron\", title=\"Sebaran Dummy Spesies di Peta\")\n",
        "    st.plotly_chart(fig_map, use_container_width=True)"
      ],
      "metadata": {
        "id": "qdrnqlKAXtY-",
        "colab": {
          "base_uri": "https://localhost:8080/"
        },
        "outputId": "004ac852-9dc7-4fb6-ba1f-8e2b63c86f3d"
      },
      "execution_count": 41,
      "outputs": [
        {
          "output_type": "stream",
          "name": "stdout",
          "text": [
            "Overwriting pages/Latihan_Pertemuan_6.py\n"
          ]
        }
      ]
    },
    {
      "cell_type": "code",
      "source": [
        "%%writefile pages/Tugas_Pertemuan_6.py\n",
        "import streamlit as st\n",
        "import pandas as pd\n",
        "import matplotlib.pyplot as plt\n",
        "import seaborn as sns\n",
        "\n",
        "st.set_page_config(page_title=\"Visualisasi Nutrisi\", layout=\"wide\")\n",
        "\n",
        "# Judul Halaman\n",
        "st.title(\"Visualisasi Data Nutrisi 🍽️\")\n",
        "st.markdown(\"Tugas ini menampilkan **beragam bentuk visualisasi data nutrisi** dari makanan dan minuman khas Indonesia. Dataset diambil dari [Kaggle](https://www.kaggle.com/datasets/anasfikrihanif/indonesian-food-and-drink-nutrition-dataset/data).\")\n",
        "\n",
        "# Membaca data\n",
        "data = pd.read_csv('/content/drive/MyDrive/Colab Notebooks/Pengembangan Machine Learning/asset/nutrition.csv')\n",
        "\n",
        "# Menampilkan data\n",
        "st.write(data.head())\n",
        "\n",
        "# Memastikan kolom numerik yang sesuai\n",
        "numerik_data = data[['calories', 'proteins', 'fat', 'carbohydrate']]\n",
        "\n",
        "# Tab Layout\n",
        "tab1, tab2, tab3, tab4, tab5 = st.tabs([\"📈 Area Chart\", \"📉 Line Chart\", \"📊 Bar Chart\", \"🔵 Scatter Plot\", \"🗺️ Map\"])\n",
        "\n",
        "# Kolom numerik untuk visualisasi\n",
        "numerik = data.select_dtypes(include=['float64', 'int64'])\n",
        "\n",
        "with tab1:\n",
        "    st.subheader(\"📈 Grafik Area\")\n",
        "    st.caption(\"Menampilkan tren nilai nutrisi utama dengan area chart.\")\n",
        "    if not numerik.empty:\n",
        "        st.area_chart(numerik)\n",
        "    else:\n",
        "        st.warning(\"Tidak ada kolom numerik yang tersedia.\")\n",
        "\n",
        "with tab2:\n",
        "    st.subheader(\"📉 Grafik Garis\")\n",
        "    st.caption(\"Memvisualisasikan variasi nutrisi dalam format line chart.\")\n",
        "    if not numerik.empty:\n",
        "        st.line_chart(numerik)\n",
        "    else:\n",
        "        st.warning(\"Kolom numerik tidak ditemukan.\")\n",
        "\n",
        "with tab3:\n",
        "    st.subheader(\"📊 Grafik Batang\")\n",
        "    st.caption(\"Perbandingan visual nutrisi secara vertikal.\")\n",
        "    if not numerik.empty:\n",
        "        st.bar_chart(numerik)\n",
        "    else:\n",
        "        st.warning(\"Tidak bisa menampilkan grafik batang.\")\n",
        "\n",
        "with tab4:\n",
        "    st.subheader(\"🔵 Scatter Plot\")\n",
        "    st.caption(\"Hubungan antara dua elemen nutrisi yang dipilih.\")\n",
        "    if len(numerik.columns) >= 2:\n",
        "        col1, col2 = st.columns(2)\n",
        "        with col1:\n",
        "            x_axis = st.selectbox(\"Pilih variabel X\", numerik.columns)\n",
        "        with col2:\n",
        "            y_axis = st.selectbox(\"Pilih variabel Y\", numerik.columns, index=1)\n",
        "\n",
        "        fig, ax = plt.subplots()\n",
        "        sns.scatterplot(x=data[x_axis], y=data[y_axis], ax=ax)\n",
        "        st.pyplot(fig)\n",
        "    else:\n",
        "        st.warning(\"Minimal 2 kolom numerik diperlukan.\")\n",
        "\n",
        "with tab5:\n",
        "    st.subheader(\"🗺️ Peta Lokasi\")\n",
        "    st.caption(\"Menampilkan data pada peta berdasarkan lokasi geografis.\")\n",
        "    if 'latitude' in data.columns and 'longitude' in data.columns:\n",
        "        st.map(data[['latitude', 'longitude']])\n",
        "    else:\n",
        "        st.warning(\"`Kolom latitude dan longitude tidak tersedia di dataset.`\")\n",
        "\n",
        "st.caption(\"Dibuat oleh Riska Alifia Putri | Tugas Pertemuan 5\")\n"
      ],
      "metadata": {
        "id": "1i5cuP7QZXDz",
        "colab": {
          "base_uri": "https://localhost:8080/"
        },
        "outputId": "56f48342-dca9-4a4e-bf5a-bf370e27094f"
      },
      "execution_count": 42,
      "outputs": [
        {
          "output_type": "stream",
          "name": "stdout",
          "text": [
            "Overwriting pages/Tugas_Pertemuan_6.py\n"
          ]
        }
      ]
    },
    {
      "cell_type": "markdown",
      "metadata": {
        "id": "k4pIIyd86nzn"
      },
      "source": [
        "## Deployment Streamlit"
      ]
    },
    {
      "cell_type": "code",
      "source": [
        "!npm install localtunnel"
      ],
      "metadata": {
        "id": "m3_PvUwaGfTr",
        "colab": {
          "base_uri": "https://localhost:8080/"
        },
        "outputId": "ad866db7-3789-4960-e6df-5bb1092beea1"
      },
      "execution_count": 43,
      "outputs": [
        {
          "output_type": "stream",
          "name": "stdout",
          "text": [
            "\u001b[1G\u001b[0K⠙\u001b[1G\u001b[0K⠹\u001b[1G\u001b[0K⠸\u001b[1G\u001b[0K⠼\u001b[1G\u001b[0K⠴\u001b[1G\u001b[0K\n",
            "up to date, audited 23 packages in 1s\n",
            "\u001b[1G\u001b[0K⠴\u001b[1G\u001b[0K\n",
            "\u001b[1G\u001b[0K⠴\u001b[1G\u001b[0K3 packages are looking for funding\n",
            "\u001b[1G\u001b[0K⠴\u001b[1G\u001b[0K  run `npm fund` for details\n",
            "\u001b[1G\u001b[0K⠴\u001b[1G\u001b[0K\n",
            "2 \u001b[31m\u001b[1mhigh\u001b[22m\u001b[39m severity vulnerabilities\n",
            "\n",
            "To address all issues (including breaking changes), run:\n",
            "  npm audit fix --force\n",
            "\n",
            "Run `npm audit` for details.\n",
            "\u001b[1G\u001b[0K⠦\u001b[1G\u001b[0K"
          ]
        }
      ]
    },
    {
      "cell_type": "code",
      "source": [
        "# Menampilkan direktori kerja saat ini (lokasi folder tempat kita bekerja)\n",
        "!pwd"
      ],
      "metadata": {
        "id": "1QkFzxI1GhDc",
        "colab": {
          "base_uri": "https://localhost:8080/"
        },
        "outputId": "b09a5d3f-62db-4660-e673-52b996f26ad1"
      },
      "execution_count": 44,
      "outputs": [
        {
          "output_type": "stream",
          "name": "stdout",
          "text": [
            "/content/drive/MyDrive/Pengembangan_Machine_Learning/Tugas_6\n"
          ]
        }
      ]
    },
    {
      "cell_type": "code",
      "source": [
        "# Menjalankan aplikasi Streamlit\n",
        "!streamlit run /content/drive/MyDrive/Pengembangan_Machine_Learning/Tugas_6/Beranda.py &>/content/drive/MyDrive/Pengembangan_Machine_Learning/Tugas_6/logs.txt &"
      ],
      "metadata": {
        "id": "CvKsDBl4GkC2"
      },
      "execution_count": 45,
      "outputs": []
    },
    {
      "cell_type": "code",
      "source": [
        "# Menampilkan isi file log (berisi info hasil menjalankan Streamlit)\n",
        "!timeout 30 cat/content/drive/MyDrive/Pengembangan_Machine_Learning/Tugas_6/logs.txt"
      ],
      "metadata": {
        "id": "okbzm9pFGmF9",
        "colab": {
          "base_uri": "https://localhost:8080/"
        },
        "outputId": "48b3af53-a336-46c2-b981-25211359d822"
      },
      "execution_count": 46,
      "outputs": [
        {
          "output_type": "stream",
          "name": "stdout",
          "text": [
            "timeout: failed to run command ‘cat/content/drive/MyDrive/Pengembangan_Machine_Learning/Tugas_6/logs.txt’: No such file or directory\n"
          ]
        }
      ]
    },
    {
      "cell_type": "code",
      "source": [
        "# Mengecek alamat IP publik (Outputnya dipakai sebagai Password Tunnel)\n",
        "import requests\n",
        "requests.get('https://api.ipify.org').text"
      ],
      "metadata": {
        "id": "4e3bnAGuGol5",
        "colab": {
          "base_uri": "https://localhost:8080/",
          "height": 36
        },
        "outputId": "fb22898a-cb9c-41a9-c1fd-6f5ee471ff54"
      },
      "execution_count": 47,
      "outputs": [
        {
          "output_type": "execute_result",
          "data": {
            "text/plain": [
              "'34.106.106.157'"
            ],
            "application/vnd.google.colaboratory.intrinsic+json": {
              "type": "string"
            }
          },
          "metadata": {},
          "execution_count": 47
        }
      ]
    },
    {
      "cell_type": "code",
      "source": [
        "# Membuka localtunnel di port 8501 (port default Streamlit)\n",
        "# Alamat url yang muncul (misalnya: https://hungry-actors-fetch.loca.lt) bisa diklik untuk melihat hasil tampilan website nya\n",
        "!npx localtunnel --port 8501"
      ],
      "metadata": {
        "colab": {
          "base_uri": "https://localhost:8080/"
        },
        "id": "oVV37RKqGqPg",
        "outputId": "7c8d8a3a-9f4e-42b5-8d00-f84f3233db27"
      },
      "execution_count": 48,
      "outputs": [
        {
          "output_type": "stream",
          "name": "stdout",
          "text": [
            "\u001b[1G\u001b[0K⠙\u001b[1G\u001b[0K⠹\u001b[1G\u001b[0K⠸\u001b[1G\u001b[0Kyour url is: https://vast-towns-smell.loca.lt\n",
            "/content/drive/MyDrive/Pengembangan_Machine_Learning/Tugas_6/node_modules/localtunnel/bin/lt.js:81\n",
            "    throw err;\n",
            "    ^\n",
            "\n",
            "Error: connection refused: localtunnel.me:14201 (check your firewall settings)\n",
            "    at Socket.<anonymous> \u001b[90m(/content/drive/MyDrive/Pengembangan_Machine_Learning/Tugas_6/\u001b[39mnode_modules/\u001b[4mlocaltunnel\u001b[24m/lib/TunnelCluster.js:52:11\u001b[90m)\u001b[39m\n",
            "\u001b[90m    at Socket.emit (node:events:524:28)\u001b[39m\n",
            "\u001b[90m    at emitErrorNT (node:internal/streams/destroy:169:8)\u001b[39m\n",
            "\u001b[90m    at emitErrorCloseNT (node:internal/streams/destroy:128:3)\u001b[39m\n",
            "\u001b[90m    at process.processTicksAndRejections (node:internal/process/task_queues:82:21)\u001b[39m\n",
            "\n",
            "Node.js v20.19.0\n",
            "\u001b[1G\u001b[0K⠙\u001b[1G\u001b[0K"
          ]
        }
      ]
    }
  ],
  "metadata": {
    "colab": {
      "provenance": []
    },
    "kernelspec": {
      "display_name": "Python 3",
      "name": "python3"
    },
    "language_info": {
      "name": "python"
    }
  },
  "nbformat": 4,
  "nbformat_minor": 0
}