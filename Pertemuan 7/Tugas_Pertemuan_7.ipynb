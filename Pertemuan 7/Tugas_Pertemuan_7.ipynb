{
  "cells": [
    {
      "cell_type": "markdown",
      "metadata": {
        "id": "bUf7uD-v6Y1f"
      },
      "source": [
        "## Menginstall Library Streamlit"
      ]
    },
    {
      "cell_type": "code",
      "source": [
        "# Menghubungkan Google Drive agar bisa akses folder project\n",
        "from google.colab import drive\n",
        "drive.mount('/content/drive')"
      ],
      "metadata": {
        "colab": {
          "base_uri": "https://localhost:8080/"
        },
        "id": "KlOIKApvuiiM",
        "outputId": "99e0c1e9-ca56-41d5-a9e4-c31fc494d5bc"
      },
      "execution_count": 1,
      "outputs": [
        {
          "output_type": "stream",
          "name": "stdout",
          "text": [
            "Drive already mounted at /content/drive; to attempt to forcibly remount, call drive.mount(\"/content/drive\", force_remount=True).\n"
          ]
        }
      ]
    },
    {
      "cell_type": "code",
      "execution_count": 2,
      "metadata": {
        "id": "WlvI0uDLo60H",
        "colab": {
          "base_uri": "https://localhost:8080/"
        },
        "outputId": "0832e4bf-d3a9-4c21-d149-6b8ef39c3762"
      },
      "outputs": [
        {
          "output_type": "stream",
          "name": "stdout",
          "text": [
            "/content/drive/MyDrive/Pengembangan_Machine_Learning/Tugas_7\n"
          ]
        }
      ],
      "source": [
        "# Masuk ke direktori folder project yang sudah dibuat di Google Drive\n",
        "%cd /content/drive/MyDrive/Pengembangan_Machine_Learning/Tugas_7"
      ]
    },
    {
      "cell_type": "code",
      "source": [
        "# Membuat file requirements.txt\n",
        "%%writefile requirements.txt\n",
        "# Berikut adalah daftar library yang akan digunakan dalam project ini\n",
        "streamlit"
      ],
      "metadata": {
        "id": "0QI5cEX1FZPG",
        "colab": {
          "base_uri": "https://localhost:8080/"
        },
        "outputId": "fd8e57e6-536a-47ae-b018-0931b4826dc1"
      },
      "execution_count": 3,
      "outputs": [
        {
          "output_type": "stream",
          "name": "stdout",
          "text": [
            "Overwriting requirements.txt\n"
          ]
        }
      ]
    },
    {
      "cell_type": "code",
      "source": [
        "# Menampilkan daftar file dan folder yang ada di dalam folder project\n",
        "!ls"
      ],
      "metadata": {
        "id": "He4D9HGhFa_y",
        "colab": {
          "base_uri": "https://localhost:8080/"
        },
        "outputId": "af7a2738-0423-4fd4-fd63-7f41a0ccc8ad"
      },
      "execution_count": 4,
      "outputs": [
        {
          "output_type": "stream",
          "name": "stdout",
          "text": [
            "Beranda.py  node_modules  package-lock.json  requirements.txt\n",
            "logs.txt    package.json  pages\n"
          ]
        }
      ]
    },
    {
      "cell_type": "code",
      "source": [
        "# Menampilkan isi file requirements.txt\n",
        "!cat requirements.txt"
      ],
      "metadata": {
        "id": "bwQqVrsaFfhd",
        "colab": {
          "base_uri": "https://localhost:8080/"
        },
        "outputId": "cd6474b3-f413-4f56-9648-bfb9298dc865"
      },
      "execution_count": 5,
      "outputs": [
        {
          "output_type": "stream",
          "name": "stdout",
          "text": [
            "# Berikut adalah daftar library yang akan digunakan dalam project ini\n",
            "streamlit\n"
          ]
        }
      ]
    },
    {
      "cell_type": "code",
      "source": [
        "# Menginstall semua library yang sudah ditulis di requirements.txt\n",
        "!pip install -q -r requirements.txt"
      ],
      "metadata": {
        "id": "oHS2JVqYFkbb"
      },
      "execution_count": 6,
      "outputs": []
    },
    {
      "cell_type": "code",
      "execution_count": 7,
      "metadata": {
        "id": "1zyxZfx0o-Bp",
        "colab": {
          "base_uri": "https://localhost:8080/"
        },
        "outputId": "35f524ed-8160-446a-c7d6-e432cde5166e"
      },
      "outputs": [
        {
          "output_type": "stream",
          "name": "stdout",
          "text": [
            "streamlit                             1.46.1\n"
          ]
        }
      ],
      "source": [
        "# Mengecek apakah streamlit sudah berhasil diinstall\n",
        "!pip list | grep streamlit"
      ]
    },
    {
      "cell_type": "code",
      "execution_count": 8,
      "metadata": {
        "id": "VdSqmROmo-_Y"
      },
      "outputs": [],
      "source": [
        "# Menginstall library streamlit secara diam-diam (tanpa banyak output)\n",
        "!pip install streamlit -q"
      ]
    },
    {
      "cell_type": "markdown",
      "source": [
        "## Membuat File Beranda.py"
      ],
      "metadata": {
        "id": "sFw9yT5OFsQ-"
      }
    },
    {
      "cell_type": "code",
      "execution_count": 9,
      "metadata": {
        "id": "q2GcvoeHpB_o",
        "colab": {
          "base_uri": "https://localhost:8080/"
        },
        "outputId": "6d0fb3db-68bf-4a91-9ab5-c9c38dd1591d"
      },
      "outputs": [
        {
          "output_type": "stream",
          "name": "stdout",
          "text": [
            "Overwriting Beranda.py\n"
          ]
        }
      ],
      "source": [
        "%%writefile Beranda.py\n",
        "import streamlit as st\n",
        "\n",
        "st.set_page_config(page_title=\"Beranda | Pertemuan 7\", layout=\"centered\")\n",
        "\n",
        "st.title(\"📊 Pengembangan Machine Learning - Pertemuan 7\")\n",
        "st.markdown(\"### 🚀 Topik Minggu Ini: *Dashboard Interaktif dengan Streamlit*\")\n",
        "\n",
        "st.markdown(\"\"\"\n",
        "Selamat datang di halaman utama tugas **Pertemuan 7**!\n",
        "\n",
        "Pada pertemuan ini, kita akan belajar cara menyajikan data secara **visual dan interaktif** menggunakan Streamlit.\n",
        "\n",
        "🔍 **Apa yang akan kita pelajari?**\n",
        "- Konsep dasar dan manfaat dari dashboard.\n",
        "- Komponen penting dalam membangun dashboard web.\n",
        "- Jenis-jenis dashboard berdasarkan tujuan penggunaannya.\n",
        "- Langkah teknis membangun dashboard berbasis Python + Streamlit.\n",
        "- Menerapkan pengetahuan ini dalam sebuah proyek mini: *Dashboard M&R Fashion* ☕\n",
        "\n",
        "\"\"\")\n",
        "\n",
        "st.success(\"📂 Lanjutkan ke menu **Tugas Pertemuan 7** di sidebar untuk mulai eksplorasi dashboard interaktif yang sudah aku buat!\")\n"
      ]
    },
    {
      "cell_type": "code",
      "source": [
        "# Menampilkan lokasi folder kerja kita saat ini (singkatan dari \"print working directory\")\n",
        "!pwd"
      ],
      "metadata": {
        "id": "Y1xnhI7oFwUi",
        "colab": {
          "base_uri": "https://localhost:8080/"
        },
        "outputId": "2b7b79ed-8455-4b67-e866-0669e3ea0a35"
      },
      "execution_count": 10,
      "outputs": [
        {
          "output_type": "stream",
          "name": "stdout",
          "text": [
            "/content/drive/MyDrive/Pengembangan_Machine_Learning/Tugas_7\n"
          ]
        }
      ]
    },
    {
      "cell_type": "code",
      "execution_count": 11,
      "metadata": {
        "id": "ehortH0hpMiz",
        "colab": {
          "base_uri": "https://localhost:8080/"
        },
        "outputId": "b33503a9-8f84-4ce8-cadd-0c925c376735"
      },
      "outputs": [
        {
          "output_type": "stream",
          "name": "stdout",
          "text": [
            "Beranda.py  node_modules  package-lock.json  requirements.txt\n",
            "logs.txt    package.json  pages\n"
          ]
        }
      ],
      "source": [
        "# Menampilkan daftar file dan folder yang ada di dalam folder projek saat ini\n",
        "!ls"
      ]
    },
    {
      "cell_type": "markdown",
      "source": [
        "## Mengecek Isi Beranda.py"
      ],
      "metadata": {
        "id": "HO99sZGdQVzs"
      }
    },
    {
      "cell_type": "code",
      "source": [
        "!cat Beranda.py"
      ],
      "metadata": {
        "colab": {
          "base_uri": "https://localhost:8080/"
        },
        "id": "NarjZFt9Qbiq",
        "outputId": "696f055f-20f8-4b09-f40b-c5df92179197"
      },
      "execution_count": 12,
      "outputs": [
        {
          "output_type": "stream",
          "name": "stdout",
          "text": [
            "import streamlit as st\n",
            "\n",
            "st.set_page_config(page_title=\"Beranda | Pertemuan 7\", layout=\"centered\")\n",
            "\n",
            "st.title(\"📊 Pengembangan Machine Learning - Pertemuan 7\")\n",
            "st.markdown(\"### 🚀 Topik Minggu Ini: *Dashboard Interaktif dengan Streamlit*\")\n",
            "\n",
            "st.markdown(\"\"\"\n",
            "Selamat datang di halaman utama tugas **Pertemuan 7**!\n",
            "\n",
            "Pada pertemuan ini, kita akan belajar cara menyajikan data secara **visual dan interaktif** menggunakan Streamlit.\n",
            "\n",
            "🔍 **Apa yang akan kita pelajari?**\n",
            "- Konsep dasar dan manfaat dari dashboard.\n",
            "- Komponen penting dalam membangun dashboard web.\n",
            "- Jenis-jenis dashboard berdasarkan tujuan penggunaannya.\n",
            "- Langkah teknis membangun dashboard berbasis Python + Streamlit.\n",
            "- Menerapkan pengetahuan ini dalam sebuah proyek mini: *Dashboard M&R Fashion* ☕\n",
            "\n",
            "\"\"\")\n",
            "\n",
            "st.success(\"📂 Lanjutkan ke menu **Tugas Pertemuan 7** di sidebar untuk mulai eksplorasi dashboard interaktif yang sudah aku buat!\")\n"
          ]
        }
      ]
    },
    {
      "cell_type": "markdown",
      "source": [
        "## Membuat Direktori Pages"
      ],
      "metadata": {
        "id": "RjG4ibb9F0p6"
      }
    },
    {
      "cell_type": "code",
      "execution_count": 13,
      "metadata": {
        "id": "EtthnVTEpJ7t",
        "colab": {
          "base_uri": "https://localhost:8080/"
        },
        "outputId": "db17a61b-1ee6-4fc3-c1f2-d1a23f775027"
      },
      "outputs": [
        {
          "output_type": "stream",
          "name": "stdout",
          "text": [
            "mkdir: cannot create directory ‘pages’: File exists\n"
          ]
        }
      ],
      "source": [
        "# Membuat folder baru bernama 'pages' untuk menyimpan file-file halaman lain di side bar\n",
        "!mkdir pages"
      ]
    },
    {
      "cell_type": "code",
      "source": [
        "# Menampilkan daftar file dan folder yang ada di dalam folder projek saat ini\n",
        "!ls"
      ],
      "metadata": {
        "id": "orQZ8r3EF843",
        "colab": {
          "base_uri": "https://localhost:8080/"
        },
        "outputId": "52ab465a-9266-48ab-f0b3-b93f186c5938"
      },
      "execution_count": 14,
      "outputs": [
        {
          "output_type": "stream",
          "name": "stdout",
          "text": [
            "Beranda.py  node_modules  package-lock.json  requirements.txt\n",
            "logs.txt    package.json  pages\n"
          ]
        }
      ]
    },
    {
      "cell_type": "code",
      "execution_count": 15,
      "metadata": {
        "id": "1EnvvMCRpSnf",
        "colab": {
          "base_uri": "https://localhost:8080/"
        },
        "outputId": "32385fd9-aaf3-4f17-f385-3fc3ff334e5d"
      },
      "outputs": [
        {
          "output_type": "stream",
          "name": "stdout",
          "text": [
            "Latihan_Pertemuan_7.py\tTugas_Pertemuan_7.py\n"
          ]
        }
      ],
      "source": [
        "# Menampilkan isi folder 'pages' untuk memastikan file sudah masuk ke sana\n",
        "!ls pages"
      ]
    },
    {
      "cell_type": "markdown",
      "source": [
        "## Pertemuan 7"
      ],
      "metadata": {
        "id": "OjT-BmIuZ1xN"
      }
    },
    {
      "cell_type": "code",
      "source": [
        "%%writefile pages/Latihan_Pertemuan_7.py\n",
        "import streamlit as st\n",
        "import pandas as pd\n",
        "import matplotlib.pyplot as plt\n",
        "import seaborn as sns\n",
        "\n",
        "# Membaca data dari file CSV\n",
        "df = pd.read_csv('/content/drive/MyDrive/Colab Notebooks/Pengembangan Machine Learning/asset/nutrition.csv')\n",
        "\n",
        "# Judul aplikasi\n",
        "st.title('Dashboard Nutrisi')\n",
        "\n",
        "# Sidebar Navigasi\n",
        "tabs = st.sidebar.radio(\"Pilih Tab\", [\"Tabel\", \"Grafik\", \"Metric\", \"Grafik Distribusi\"])\n",
        "\n",
        "# Tab Tabel\n",
        "if tabs == \"Tabel\":\n",
        "    st.header(\"Tabel Data Nutrisi\")\n",
        "    st.write(df)\n",
        "\n",
        "# Tab Grafik\n",
        "elif tabs == \"Grafik\":\n",
        "    st.header(\"Grafik Nutrisi\")\n",
        "    nutrisi = ['calories', 'proteins', 'fat', 'carbohydrate']\n",
        "    st.subheader(\"Grafik Bar Rata-rata Nutrisi\")\n",
        "    fig, ax = plt.subplots(figsize=(10, 6))\n",
        "    df[nutrisi].mean().plot(kind='bar', ax=ax, color='skyblue')\n",
        "    ax.set_title('Rata-rata Nilai Nutrisi')\n",
        "    ax.set_xlabel('Jenis Nutrisi')\n",
        "    ax.set_ylabel('Rata-rata')\n",
        "    st.pyplot(fig)\n",
        "\n",
        "# Tab Metric\n",
        "elif tabs == \"Metric\":\n",
        "    st.header(\"Indikator Nutrisi\")\n",
        "    st.subheader(\"Rata-rata Nilai Nutrisi\")\n",
        "    st.metric(\"Kalori Rata-rata\", f\"{df['calories'].mean():.2f} kcal\")\n",
        "    st.metric(\"Lemak Rata-rata\", f\"{df['fat'].mean():.2f} g\")\n",
        "    st.metric(\"Karbohidrat Rata-rata\", f\"{df['carbohydrate'].mean():.2f} g\")\n",
        "    st.metric(\"Protein Rata-rata\", f\"{df['proteins'].mean():.2f} g\")\n",
        "\n",
        "# Tab Grafik Distribusi\n",
        "elif tabs == \"Grafik Distribusi\":\n",
        "    st.header(\"Distribusi Nutrisi\")\n",
        "    st.subheader(\"Distribusi Kalori\")\n",
        "    fig, ax = plt.subplots(figsize=(10, 6))\n",
        "    sns.histplot(df['calories'], kde=True, ax=ax, color='purple')\n",
        "    ax.set_title('Distribusi Kalori')\n",
        "    ax.set_xlabel('Kalori')\n",
        "    ax.set_ylabel('Frekuensi')\n",
        "    st.pyplot(fig)"
      ],
      "metadata": {
        "id": "e5uTtAvRZ3bg",
        "colab": {
          "base_uri": "https://localhost:8080/"
        },
        "outputId": "39e50142-c334-4f74-a650-a79ce49d8604"
      },
      "execution_count": 16,
      "outputs": [
        {
          "output_type": "stream",
          "name": "stdout",
          "text": [
            "Overwriting pages/Latihan_Pertemuan_7.py\n"
          ]
        }
      ]
    },
    {
      "cell_type": "code",
      "source": [
        "#Cari dataset untuk Tugas 7 dari repositori publik, download, upload ke drive, import.\n",
        "import pandas as pd\n",
        "data = pd.read_csv('/content/drive/MyDrive/Dataset PML/all_data.csv')"
      ],
      "metadata": {
        "id": "5JmzduALbXFZ"
      },
      "execution_count": 17,
      "outputs": []
    },
    {
      "cell_type": "code",
      "source": [
        "#Cek dulu fitur-fitur dari datasetnya, sesuaikan dgn script di sel %%writefile pages/Tugas_Pertemuan_7.py\n",
        "data.info()"
      ],
      "metadata": {
        "id": "1Tk8C3RHbeCS",
        "colab": {
          "base_uri": "https://localhost:8080/"
        },
        "outputId": "dbecacf0-1ebc-4ef6-80ea-32cf71c1729e"
      },
      "execution_count": 18,
      "outputs": [
        {
          "output_type": "stream",
          "name": "stdout",
          "text": [
            "<class 'pandas.core.frame.DataFrame'>\n",
            "RangeIndex: 5000 entries, 0 to 4999\n",
            "Data columns (total 27 columns):\n",
            " #   Column          Non-Null Count  Dtype  \n",
            "---  ------          --------------  -----  \n",
            " 0   sales_id        5000 non-null   int64  \n",
            " 1   order_id        5000 non-null   int64  \n",
            " 2   product_id      5000 non-null   int64  \n",
            " 3   price_per_unit  5000 non-null   int64  \n",
            " 4   quantity_x      5000 non-null   int64  \n",
            " 5   total_price     5000 non-null   int64  \n",
            " 6   product_type    5000 non-null   object \n",
            " 7   product_name    5000 non-null   object \n",
            " 8   size            5000 non-null   object \n",
            " 9   colour          5000 non-null   object \n",
            " 10  price           5000 non-null   int64  \n",
            " 11  quantity_y      5000 non-null   int64  \n",
            " 12  description     5000 non-null   object \n",
            " 13  customer_id     5000 non-null   int64  \n",
            " 14  payment         5000 non-null   int64  \n",
            " 15  order_date      5000 non-null   object \n",
            " 16  delivery_date   5000 non-null   object \n",
            " 17  delivery_time   5000 non-null   float64\n",
            " 18  gender          5000 non-null   object \n",
            " 19  age             5000 non-null   int64  \n",
            " 20  home_address    5000 non-null   object \n",
            " 21  zip_code        5000 non-null   int64  \n",
            " 22  city            5000 non-null   object \n",
            " 23  state           5000 non-null   object \n",
            " 24  country         5000 non-null   object \n",
            " 25  status          5000 non-null   object \n",
            " 26  age_group       5000 non-null   object \n",
            "dtypes: float64(1), int64(12), object(14)\n",
            "memory usage: 1.0+ MB\n"
          ]
        }
      ]
    },
    {
      "cell_type": "code",
      "source": [
        "%%writefile pages/Tugas_Pertemuan_7.py\n",
        "import pandas as pd\n",
        "import matplotlib.pyplot as plt\n",
        "import seaborn as sns\n",
        "import streamlit as st\n",
        "from babel.numbers import format_currency\n",
        "\n",
        "# Tambahkan Material Icons (untuk sidebar collapse icon)\n",
        "st.markdown(\n",
        "    \"<link href='https://fonts.googleapis.com/icon?family=Material+Icons' rel='stylesheet'>\",\n",
        "    unsafe_allow_html=True\n",
        ")\n",
        "\n",
        "# Konfigurasi tampilan halaman\n",
        "st.set_page_config(layout=\"wide\")\n",
        "sns.set(style='dark')\n",
        "\n",
        "# Load data\n",
        "df = pd.read_csv(\"/content/drive/MyDrive/Dataset PML/all_data.csv\")\n",
        "df['order_date'] = pd.to_datetime(df['order_date'])\n",
        "df['delivery_date'] = pd.to_datetime(df['delivery_date'])\n",
        "df.sort_values(by=\"order_date\", inplace=True)\n",
        "df.reset_index(drop=True, inplace=True)\n",
        "\n",
        "# Sidebar - Rentang waktu\n",
        "with st.sidebar:\n",
        "    st.image(\"/content/drive/MyDrive/Dataset PML/icon.png\", width=120)\n",
        "    min_date = pd.to_datetime(df['order_date'].dropna().min())\n",
        "    max_date = pd.to_datetime(df['order_date'].dropna().max())\n",
        "    start_date, end_date = st.date_input(\n",
        "        \"Rentang Waktu\",\n",
        "        value=[min_date, max_date],\n",
        "        min_value=min_date,\n",
        "        max_value=max_date\n",
        "    )\n",
        "\n",
        "main_df = df[(df[\"order_date\"] >= str(start_date)) & (df[\"order_date\"] <= str(end_date))]\n",
        "\n",
        "# Helper Functions\n",
        "def daily_orders_df(df):\n",
        "    df_day = df.resample('D', on='order_date').agg({\"order_id\": \"nunique\", \"total_price\": \"sum\"}).reset_index()\n",
        "    df_day.rename(columns={\"order_id\": \"order_count\", \"total_price\": \"revenue\"}, inplace=True)\n",
        "    return df_day\n",
        "\n",
        "def sum_order_items_df(df):\n",
        "    return df.groupby(\"product_name\").quantity_x.sum().sort_values(ascending=False).reset_index()\n",
        "\n",
        "def bygender_df(df):\n",
        "    df = df.groupby(\"gender\").customer_id.nunique().reset_index()\n",
        "    df.rename(columns={\"customer_id\": \"customer_count\"}, inplace=True)\n",
        "    return df\n",
        "\n",
        "def byage_df(df):\n",
        "    df = df.groupby(\"age_group\").customer_id.nunique().reset_index()\n",
        "    df.rename(columns={\"customer_id\": \"customer_count\"}, inplace=True)\n",
        "    df['age_group'] = pd.Categorical(df['age_group'], [\"Youth\", \"Adults\", \"Seniors\"])\n",
        "    return df\n",
        "\n",
        "def bystate_df(df):\n",
        "    df = df.groupby(\"state\").customer_id.nunique().reset_index()\n",
        "    df.rename(columns={\"customer_id\": \"customer_count\"}, inplace=True)\n",
        "    return df\n",
        "\n",
        "def rfm_df(df):\n",
        "    rfm = df.groupby(\"customer_id\", as_index=False).agg({\n",
        "        \"order_date\": \"max\",\n",
        "        \"order_id\": \"nunique\",\n",
        "        \"total_price\": \"sum\"\n",
        "    })\n",
        "    rfm.columns = [\"customer_id\", \"last_order\", \"frequency\", \"monetary\"]\n",
        "    rfm[\"last_order\"] = pd.to_datetime(rfm[\"last_order\"], errors='coerce')\n",
        "    rfm[\"recency\"] = (df[\"order_date\"].max() - rfm[\"last_order\"]).dt.days\n",
        "    return rfm\n",
        "\n",
        "# Data untuk visualisasi\n",
        "daily_df = daily_orders_df(main_df)\n",
        "product_df = sum_order_items_df(main_df)\n",
        "gender_df = bygender_df(main_df)\n",
        "age_df = byage_df(main_df)\n",
        "state_df = bystate_df(main_df)\n",
        "rfm = rfm_df(main_df)\n",
        "\n",
        "# HEADER\n",
        "st.title(\"📊 Dashboard Penjualan M&R Fashion E-Commerce\")\n",
        "st.caption(\"Periode: {} s.d. {}\".format(start_date, end_date))\n",
        "\n",
        "st.divider()\n",
        "\n",
        "# DAILY ORDERS\n",
        "st.subheader(\"🗓️ Ringkasan Transaksi Harian\")\n",
        "st.markdown(\"Bagian ini menampilkan jumlah pesanan harian dan total pendapatan dari penjualan. Cocok untuk melihat tren naik turun aktivitas pelanggan.\")\n",
        "\n",
        "col1, col2 = st.columns(2)\n",
        "with col1:\n",
        "    st.metric(\"Total Orders\", value=daily_df.order_count.sum())\n",
        "with col2:\n",
        "    st.metric(\"Total Revenue\", value=format_currency(daily_df.revenue.sum(), \"AUD\", locale='es_CO'))\n",
        "\n",
        "fig, ax = plt.subplots(figsize=(12, 5))\n",
        "ax.plot(daily_df[\"order_date\"], daily_df[\"order_count\"], marker='o', linewidth=2, color=\"#90CAF9\")\n",
        "ax.set_title(\"Daily Order Trend\", fontsize=16)\n",
        "st.pyplot(fig)\n",
        "\n",
        "st.divider()\n",
        "\n",
        "# PRODUCT PERFORMANCE\n",
        "st.subheader(\"🏆 Produk Terlaris & Tidak Laris\")\n",
        "st.markdown(\"Visualisasi ini menunjukkan produk yang paling sering dan paling jarang dibeli. Bisa digunakan untuk strategi stok dan promosi.\")\n",
        "\n",
        "fig, ax = plt.subplots(1, 2, figsize=(15, 6))\n",
        "sns.barplot(x=\"quantity_x\", y=\"product_name\", data=product_df.head(5), palette=\"Blues_d\", ax=ax[0])\n",
        "ax[0].set_title(\"Best Performing Products\")\n",
        "sns.barplot(x=\"quantity_x\", y=\"product_name\", data=product_df.tail(5), palette=\"Reds_r\", ax=ax[1])\n",
        "ax[1].set_title(\"Worst Performing Products\")\n",
        "st.pyplot(fig)\n",
        "\n",
        "st.divider()\n",
        "\n",
        "# DEMOGRAFI CUSTOMER\n",
        "st.subheader(\"👥 Demografi Customer\")\n",
        "st.markdown(\"Bagian ini memperlihatkan profil pelanggan berdasarkan jenis kelamin, kelompok usia, dan wilayah tempat tinggal mereka.\")\n",
        "\n",
        "col1, col2 = st.columns(2)\n",
        "with col1:\n",
        "    fig, ax = plt.subplots(figsize=(6, 4))\n",
        "    sns.barplot(x=\"gender\", y=\"customer_count\", data=gender_df, palette=\"pastel\", ax=ax)\n",
        "    ax.set_title(\"By Gender\")\n",
        "    st.pyplot(fig)\n",
        "with col2:\n",
        "    fig, ax = plt.subplots(figsize=(6, 4))\n",
        "    sns.barplot(x=\"age_group\", y=\"customer_count\", data=age_df, palette=\"muted\", ax=ax)\n",
        "    ax.set_title(\"By Age Group\")\n",
        "    st.pyplot(fig)\n",
        "\n",
        "fig, ax = plt.subplots(figsize=(10, 4))\n",
        "sns.barplot(x=\"customer_count\", y=\"state\", data=state_df.sort_values(by=\"customer_count\"), palette=\"coolwarm\", ax=ax)\n",
        "ax.set_title(\"By State\")\n",
        "st.pyplot(fig)\n",
        "\n",
        "st.divider()\n",
        "\n",
        "# RFM ANALYSIS\n",
        "st.subheader(\"💎 Analisis RFM (Recency, Frequency, Monetary)\")\n",
        "st.markdown(\"\"\"\n",
        "Analisis RFM digunakan untuk mengukur loyalitas pelanggan:\n",
        "- **Recency**: Seberapa baru pelanggan melakukan pembelian\n",
        "- **Frequency**: Seberapa sering pelanggan bertransaksi\n",
        "- **Monetary**: Total uang yang dibelanjakan pelanggan\n",
        "\"\"\")\n",
        "\n",
        "col1, col2, col3 = st.columns(3)\n",
        "with col1:\n",
        "    st.metric(\"Avg. Recency\", round(rfm.recency.mean(), 1))\n",
        "with col2:\n",
        "    st.metric(\"Avg. Frequency\", round(rfm.frequency.mean(), 2))\n",
        "with col3:\n",
        "    st.metric(\"Avg. Monetary\", format_currency(rfm.monetary.mean(), \"AUD\", locale='es_CO'))\n",
        "\n",
        "fig, ax = plt.subplots(1, 3, figsize=(18, 5))\n",
        "sns.barplot(x=\"customer_id\", y=\"recency\", data=rfm.sort_values(\"recency\").head(5), palette=\"crest\", ax=ax[0])\n",
        "ax[0].set_title(\"Top by Recency\")\n",
        "sns.barplot(x=\"customer_id\", y=\"frequency\", data=rfm.sort_values(\"frequency\", ascending=False).head(5), palette=\"viridis\", ax=ax[1])\n",
        "ax[1].set_title(\"Top by Frequency\")\n",
        "sns.barplot(x=\"customer_id\", y=\"monetary\", data=rfm.sort_values(\"monetary\", ascending=False).head(5), palette=\"magma\", ax=ax[2])\n",
        "ax[2].set_title(\"Top by Monetary\")\n",
        "st.pyplot(fig)\n",
        "\n",
        "st.divider()\n",
        "st.caption(\"© 2025 M&R Fashion - All Rights Reserved\")\n"
      ],
      "metadata": {
        "colab": {
          "base_uri": "https://localhost:8080/"
        },
        "id": "xlkBqwblffAK",
        "outputId": "88da273f-2603-4c6d-cda7-e7b37a63eaeb"
      },
      "execution_count": 19,
      "outputs": [
        {
          "output_type": "stream",
          "name": "stdout",
          "text": [
            "Overwriting pages/Tugas_Pertemuan_7.py\n"
          ]
        }
      ]
    },
    {
      "cell_type": "markdown",
      "metadata": {
        "id": "k4pIIyd86nzn"
      },
      "source": [
        "## Deployment"
      ]
    },
    {
      "cell_type": "code",
      "source": [
        "!npm install localtunnel"
      ],
      "metadata": {
        "id": "m3_PvUwaGfTr",
        "colab": {
          "base_uri": "https://localhost:8080/"
        },
        "outputId": "59fc6536-b6e1-4962-908c-f8c106855937"
      },
      "execution_count": 20,
      "outputs": [
        {
          "output_type": "stream",
          "name": "stdout",
          "text": [
            "\u001b[1G\u001b[0K⠙\u001b[1G\u001b[0K⠹\u001b[1G\u001b[0K⠸\u001b[1G\u001b[0K⠼\u001b[1G\u001b[0K⠴\u001b[1G\u001b[0K⠦\u001b[1G\u001b[0K⠧\u001b[1G\u001b[0K⠇\u001b[1G\u001b[0K\n",
            "up to date, audited 23 packages in 1s\n",
            "\u001b[1G\u001b[0K⠇\u001b[1G\u001b[0K\n",
            "\u001b[1G\u001b[0K⠇\u001b[1G\u001b[0K3 packages are looking for funding\n",
            "\u001b[1G\u001b[0K⠇\u001b[1G\u001b[0K  run `npm fund` for details\n",
            "\u001b[1G\u001b[0K⠇\u001b[1G\u001b[0K\n",
            "2 \u001b[31m\u001b[1mhigh\u001b[22m\u001b[39m severity vulnerabilities\n",
            "\n",
            "To address all issues (including breaking changes), run:\n",
            "  npm audit fix --force\n",
            "\n",
            "Run `npm audit` for details.\n",
            "\u001b[1G\u001b[0K⠇\u001b[1G\u001b[0K"
          ]
        }
      ]
    },
    {
      "cell_type": "code",
      "source": [
        "# Menampilkan direktori kerja saat ini (lokasi folder tempat kita bekerja)\n",
        "!pwd"
      ],
      "metadata": {
        "id": "1QkFzxI1GhDc",
        "colab": {
          "base_uri": "https://localhost:8080/"
        },
        "outputId": "5752d515-fc4e-4955-af63-7e7158e423fa"
      },
      "execution_count": 21,
      "outputs": [
        {
          "output_type": "stream",
          "name": "stdout",
          "text": [
            "/content/drive/MyDrive/Pengembangan_Machine_Learning/Tugas_7\n"
          ]
        }
      ]
    },
    {
      "cell_type": "code",
      "source": [
        "# Menjalankan aplikasi Streamlit\n",
        "!streamlit run /content/drive/MyDrive/Pengembangan_Machine_Learning/Tugas_7/Beranda.py &>/content/drive/MyDrive/Pengembangan_Machine_Learning/Tugas_7/logs.txt &"
      ],
      "metadata": {
        "id": "CvKsDBl4GkC2"
      },
      "execution_count": 22,
      "outputs": []
    },
    {
      "cell_type": "code",
      "source": [
        "# Menampilkan isi file log (berisi info hasil menjalankan Streamlit)\n",
        "!timeout 30 cat/content/drive/MyDrive/Pengembangan_Machine_Learning/Tugas_7/logs.txt"
      ],
      "metadata": {
        "id": "okbzm9pFGmF9",
        "colab": {
          "base_uri": "https://localhost:8080/"
        },
        "outputId": "ea3d6c2d-109f-4954-a974-5f26229158db"
      },
      "execution_count": 23,
      "outputs": [
        {
          "output_type": "stream",
          "name": "stdout",
          "text": [
            "timeout: failed to run command ‘cat/content/drive/MyDrive/Pengembangan_Machine_Learning/Tugas_7/logs.txt’: No such file or directory\n"
          ]
        }
      ]
    },
    {
      "cell_type": "code",
      "source": [
        "# Mengecek alamat IP publik (Outputnya dipakai sebagai Password Tunnel)\n",
        "import requests\n",
        "requests.get('https://api.ipify.org').text"
      ],
      "metadata": {
        "id": "4e3bnAGuGol5",
        "colab": {
          "base_uri": "https://localhost:8080/",
          "height": 35
        },
        "outputId": "d9994aaf-b996-426b-abd9-b3afd67fd750"
      },
      "execution_count": 24,
      "outputs": [
        {
          "output_type": "execute_result",
          "data": {
            "text/plain": [
              "'34.169.233.130'"
            ],
            "application/vnd.google.colaboratory.intrinsic+json": {
              "type": "string"
            }
          },
          "metadata": {},
          "execution_count": 24
        }
      ]
    },
    {
      "cell_type": "code",
      "source": [
        "# Membuka localtunnel di port 8501 (port default Streamlit)\n",
        "# Alamat url yang muncul (misalnya: https://hungry-actors-fetch.loca.lt) bisa diklik untuk melihat hasil tampilan website nya\n",
        "!npx localtunnel --port 8501"
      ],
      "metadata": {
        "colab": {
          "base_uri": "https://localhost:8080/"
        },
        "id": "oVV37RKqGqPg",
        "outputId": "b46b19f6-219a-4f06-a6aa-11e6b4951139"
      },
      "execution_count": null,
      "outputs": [
        {
          "output_type": "stream",
          "name": "stdout",
          "text": [
            "\u001b[1G\u001b[0K⠙\u001b[1G\u001b[0K⠹\u001b[1G\u001b[0Kyour url is: https://sour-loops-like.loca.lt\n"
          ]
        }
      ]
    }
  ],
  "metadata": {
    "colab": {
      "provenance": [],
      "collapsed_sections": [
        "bUf7uD-v6Y1f"
      ]
    },
    "kernelspec": {
      "display_name": "Python 3",
      "name": "python3"
    },
    "language_info": {
      "name": "python"
    }
  },
  "nbformat": 4,
  "nbformat_minor": 0
}