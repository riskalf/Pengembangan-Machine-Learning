{
  "cells": [
    {
      "cell_type": "markdown",
      "metadata": {
        "id": "bUf7uD-v6Y1f"
      },
      "source": [
        "## Menginstall Library Streamlit"
      ]
    },
    {
      "cell_type": "code",
      "execution_count": 18,
      "metadata": {
        "colab": {
          "base_uri": "https://localhost:8080/"
        },
        "id": "KlOIKApvuiiM",
        "outputId": "3489a548-a857-41b1-80d9-e3475c8cf61a"
      },
      "outputs": [
        {
          "output_type": "stream",
          "name": "stdout",
          "text": [
            "Drive already mounted at /content/drive; to attempt to forcibly remount, call drive.mount(\"/content/drive\", force_remount=True).\n"
          ]
        }
      ],
      "source": [
        "# Menghubungkan Google Drive agar bisa akses folder project\n",
        "from google.colab import drive\n",
        "drive.mount('/content/drive')"
      ]
    },
    {
      "cell_type": "code",
      "execution_count": 19,
      "metadata": {
        "colab": {
          "base_uri": "https://localhost:8080/"
        },
        "id": "WlvI0uDLo60H",
        "outputId": "2f9d7ae5-fb41-469f-8624-dcd770c9602f"
      },
      "outputs": [
        {
          "output_type": "stream",
          "name": "stdout",
          "text": [
            "/content/drive/MyDrive/Pengembangan_Machine_Learning/Tugas_4\n"
          ]
        }
      ],
      "source": [
        "# Masuk ke direktori folder project yang sudah dibuat di Google Drive\n",
        "%cd /content/drive/MyDrive/Pengembangan_Machine_Learning/Tugas_4"
      ]
    },
    {
      "cell_type": "code",
      "execution_count": 20,
      "metadata": {
        "colab": {
          "base_uri": "https://localhost:8080/"
        },
        "id": "0QI5cEX1FZPG",
        "outputId": "17bea02a-16ce-47a3-ff54-8c0234366862"
      },
      "outputs": [
        {
          "output_type": "stream",
          "name": "stdout",
          "text": [
            "Overwriting requirements.txt\n"
          ]
        }
      ],
      "source": [
        "# Membuat file requirements.txt\n",
        "%%writefile requirements.txt\n",
        "# Berikut adalah daftar library yang akan digunakan dalam project ini\n",
        "streamlit"
      ]
    },
    {
      "cell_type": "code",
      "execution_count": 21,
      "metadata": {
        "colab": {
          "base_uri": "https://localhost:8080/"
        },
        "id": "He4D9HGhFa_y",
        "outputId": "cb34d255-abe3-4512-aa92-8a890c37b799"
      },
      "outputs": [
        {
          "output_type": "stream",
          "name": "stdout",
          "text": [
            "Halaman.py  node_modules  package-lock.json\n",
            "logs.txt    package.json  requirements.txt\n"
          ]
        }
      ],
      "source": [
        "# Menampilkan daftar file dan folder yang ada di dalam folder project\n",
        "!ls"
      ]
    },
    {
      "cell_type": "code",
      "execution_count": 22,
      "metadata": {
        "colab": {
          "base_uri": "https://localhost:8080/"
        },
        "id": "bwQqVrsaFfhd",
        "outputId": "696611dd-9ac4-4b5a-c26a-430864f9d6ba"
      },
      "outputs": [
        {
          "output_type": "stream",
          "name": "stdout",
          "text": [
            "# Berikut adalah daftar library yang akan digunakan dalam project ini\n",
            "streamlit\n"
          ]
        }
      ],
      "source": [
        "# Menampilkan isi file requirements.txt\n",
        "!cat requirements.txt"
      ]
    },
    {
      "cell_type": "code",
      "execution_count": 23,
      "metadata": {
        "id": "oHS2JVqYFkbb"
      },
      "outputs": [],
      "source": [
        "# Menginstall semua library yang sudah ditulis di requirements.txt\n",
        "!pip install -q -r requirements.txt"
      ]
    },
    {
      "cell_type": "code",
      "execution_count": 24,
      "metadata": {
        "colab": {
          "base_uri": "https://localhost:8080/"
        },
        "id": "1zyxZfx0o-Bp",
        "outputId": "3400059d-6b52-4cfa-f70d-12f9830cd545"
      },
      "outputs": [
        {
          "output_type": "stream",
          "name": "stdout",
          "text": [
            "streamlit                             1.45.1\n"
          ]
        }
      ],
      "source": [
        "# Mengecek apakah streamlit sudah berhasil diinstall\n",
        "!pip list | grep streamlit"
      ]
    },
    {
      "cell_type": "code",
      "execution_count": 25,
      "metadata": {
        "id": "VdSqmROmo-_Y"
      },
      "outputs": [],
      "source": [
        "# Menginstall library streamlit secara diam-diam (tanpa banyak output\n",
        "!pip install streamlit -q"
      ]
    },
    {
      "cell_type": "code",
      "execution_count": 26,
      "metadata": {
        "colab": {
          "base_uri": "https://localhost:8080/"
        },
        "id": "Y1xnhI7oFwUi",
        "outputId": "bbcdf903-94f5-470c-ed6b-1a4eca4548f2"
      },
      "outputs": [
        {
          "output_type": "stream",
          "name": "stdout",
          "text": [
            "/content/drive/MyDrive/Pengembangan_Machine_Learning/Tugas_4\n"
          ]
        }
      ],
      "source": [
        "# Menampilkan lokasi folder kerja kita saat ini (singkatan dari \"print working directory\")\n",
        "!pwd"
      ]
    },
    {
      "cell_type": "code",
      "execution_count": 27,
      "metadata": {
        "colab": {
          "base_uri": "https://localhost:8080/"
        },
        "id": "ehortH0hpMiz",
        "outputId": "6ec33a39-be8c-40d7-ffb6-5e75b06215c3"
      },
      "outputs": [
        {
          "output_type": "stream",
          "name": "stdout",
          "text": [
            "Halaman.py  node_modules  package-lock.json\n",
            "logs.txt    package.json  requirements.txt\n"
          ]
        }
      ],
      "source": [
        "# Menampilkan daftar file dan folder yang ada di dalam folder projek saat ini\n",
        "!ls"
      ]
    },
    {
      "cell_type": "markdown",
      "metadata": {
        "id": "w0N5ykmGw87F"
      },
      "source": [
        "## Pertemuan 4"
      ]
    },
    {
      "cell_type": "code",
      "source": [
        "%%writefile Halaman.py\n",
        "import streamlit as st\n",
        "from datetime import datetime\n",
        "import pandas as pd\n",
        "import numpy as np\n",
        "import time\n",
        "\n",
        "# Sidebar untuk navigasi\n",
        "st.sidebar.title(\"Code Club!\")\n",
        "st.sidebar.write(\"Silakan pilih halaman yang ingin diakses.\")\n",
        "page = st.sidebar.selectbox(\"Menu Halaman\", [\n",
        "    \"Beranda\",\n",
        "    \"Tentang Kami\",\n",
        "    \"Pendaftaran Anggota\",\n",
        "    \"Kontak\",\n",
        "    \"Latihan Pertemuan 4\",\n",
        "    \"Contoh Pertemuan 4\"\n",
        "])\n",
        "\n",
        "# Container utama\n",
        "with st.container():\n",
        "    if page == \"Beranda\":\n",
        "        st.title(\"👩‍💻 Selamat Datang di Code Club!\")\n",
        "        st.markdown(\"\"\"\n",
        "        Selamat datang di **Code Club**, wadah kreatif untuk kamu yang ingin mengembangkan kemampuan di bidang pemrograman 💡\"\"\")\n",
        "\n",
        "        col1, col2, col3 = st.columns([1, 2, 1])\n",
        "        with col2:\n",
        "            st.image(\"/content/drive/MyDrive/Colab Notebooks/Pengembangan Machine Learning/asset/code_club.png\", caption=\"Code Club\")\n",
        "\n",
        "\n",
        "        st.markdown(\"\"\"\n",
        "        Di sini, kamu bisa belajar berbagai topik seperti:\n",
        "        - *Web Development*\n",
        "        - *Data Science*\n",
        "        - *Mobile App*\n",
        "        - ***Machine Learning***\n",
        "\n",
        "        Kami rutin mengadakan pelatihan, mini project, hingga kolaborasi hackathon untuk semua anggota.\n",
        "        Yuk, bergabung dan tumbuhkan semangat ngoding bareng! 🚀\n",
        "        \"\"\")\n",
        "        st.caption(\"Tugas Pertemuan 4 | oleh Riska Alifia Putri\")\n",
        "\n",
        "    elif page == \"Tentang Kami\":\n",
        "        st.title(\"👩‍💻 Profil Code Club\")\n",
        "        st.markdown(\"\"\"\n",
        "        Selamat datang di *Code Club*! Kami adalah komunitas belajar dan berbagi seputar dunia *programming* dan teknologi digital.\n",
        "\n",
        "        **Visi:**\n",
        "        Menjadi wadah pengembangan keterampilan teknologi informasi bagi pelajar dan mahasiswa.\n",
        "\n",
        "        **Misi:**\n",
        "        - 💡 Menyelenggarakan pelatihan dan *workshop* pemrograman.\n",
        "        - 🧩 Meningkatkan kolaborasi antaranggota lewat proyek bersama.\n",
        "        - 🚀 Mendorong kreativitas di bidang *software development* dan *machine learning*.\n",
        "        \"\"\")\n",
        "        st.caption(\"Bergabunglah bersama kami dan tumbuh bersama dunia digital 🌍\")\n",
        "\n",
        "    elif page == \"Pendaftaran Anggota\":\n",
        "        st.title(\"📝 Formulir Pendaftaran Anggota\")\n",
        "        st.markdown(\"Silakan isi data diri berikut untuk bergabung dengan *Code Club*:\")\n",
        "\n",
        "        nama = st.text_input(\"Nama Lengkap\")\n",
        "        email = st.text_input(\"Email Aktif\")\n",
        "        usia = st.number_input(\"Usia\", min_value=10, max_value=100, step=1)\n",
        "        tgl_lahir = st.date_input(\"Tanggal Lahir\")\n",
        "        pilihan_divisi = st.selectbox(\"Pilih Divisi yang Diminati\", [\n",
        "            \"Web Development\",\n",
        "            \"Data Science\",\n",
        "            \"UI/UX Design\",\n",
        "            \"Machine Learning\",\n",
        "            \"Competitive Programming\"\n",
        "        ])\n",
        "        alasan = st.text_area(\"Alasan Bergabung\")\n",
        "\n",
        "        if st.button(\"Kirim\"):\n",
        "            st.success(f\"Terima kasih, {nama}! Data Anda telah kami terima.\")\n",
        "\n",
        "    elif page == \"Kontak\":\n",
        "        st.title(\"📞 Kontak Code Club\")\n",
        "        st.markdown(\"\"\"\n",
        "    Jika kamu memiliki pertanyaan lebih lanjut, silakan hubungi kami melalui:\n",
        "\n",
        "    📧 Email: codeclub@example.com\n",
        "    📱 WhatsApp: 0812-3456-7890\n",
        "    📍 Alamat: Gedung IT Lt.2, Kampus Nusa Mandiri\n",
        "\n",
        "    Atau isi formulir berikut untuk mengirim pesan langsung:\n",
        "    \"\"\")\n",
        "\n",
        "        nama = st.text_input(\"Nama\")\n",
        "        email = st.text_input(\"Email\")\n",
        "        pesan = st.text_area(\"Pesan\")\n",
        "\n",
        "        if st.button(\"Kirim Pesan\"):\n",
        "            st.success(\"Pesan kamu telah terkirim! 💌\")\n",
        "\n",
        "    elif page == \"Latihan Pertemuan 4\":\n",
        "        st.sidebar.title(\"Registrasi E-Commerce\")\n",
        "        st.sidebar.write(\"Isi data diri untuk mendaftar.\")\n",
        "        username = st.sidebar.text_input(\"Username\")\n",
        "        email = st.sidebar.text_input(\"Email\")\n",
        "\n",
        "        with st.container():\n",
        "            st.header(\"Informasi Pribadi\")\n",
        "            st.text_input(\"Nama Lengkap\")\n",
        "            st.text_input(\"Alamat\")\n",
        "\n",
        "        with st.expander(\"Punya pertanyaan?\"):\n",
        "            st.write(\"Tanyakan pada kami melalui form di bawah ini.\")\n",
        "\n",
        "        tabs = st.selectbox(\"Pilih jenis akun:\", [\"Pelanggan\", \"Penjual\"])\n",
        "\n",
        "        with st.form(key='registration_form'):\n",
        "            phone = st.text_input(\"Nomor Telepon\")\n",
        "            password = st.text_input(\"Password\", type=\"password\")\n",
        "            submit_button = st.form_submit_button(\"Daftar\")\n",
        "\n",
        "        if submit_button:\n",
        "            st.success(f\"Selamat datang {username}!\")\n",
        "            st.write(\"Akun Anda telah berhasil dibuat.\")\n",
        "\n",
        "        if st.button(\"Tampilkan Dialog\"):\n",
        "            with st.expander(\"Perhatian\", expanded=True):\n",
        "                st.write(\"Ini adalah contoh penggunaan expander sebagai dialog.\")\n",
        "\n",
        "\n",
        "    elif page == \"Contoh Pertemuan 4\":\n",
        "        pilih = st.sidebar.selectbox(\n",
        "            \"Pilihlah algoritma yang ingin digunakan\",\n",
        "            (\"SVM\", \"KKN\", \"K-Means\")\n",
        "        )\n",
        "\n",
        "        with st.sidebar:\n",
        "            pilih_radio = st.radio(\n",
        "                \"Pilihlah type data\",\n",
        "                (\"Numerik\", \"Kategorik\")\n",
        "            )\n",
        "\n",
        "        col1, col2 = st.columns(2)\n",
        "        with col1:\n",
        "            chart_data = pd.DataFrame(\n",
        "                np.random.randn(5, 3),\n",
        "                columns=['Kolom1', 'Kolom2', 'Kolom3']\n",
        "            )\n",
        "            st.table(chart_data)\n",
        "\n",
        "        with col2:\n",
        "            chart_data = pd.DataFrame(\n",
        "                np.random.randn(5, 3),\n",
        "                columns=['Kolom1', 'Kolom2', 'Kolom3']\n",
        "            )\n",
        "            st.line_chart(chart_data)\n",
        "\n",
        "        with st.container():\n",
        "            st.write(\"Ini di dalam container\")\n",
        "        st.write(\"Ini di luar container\")\n",
        "\n",
        "        klik = st.container()\n",
        "        klik.write(\"Ini adalah contoh container\")\n",
        "        klik.bar_chart({\"data\": [1, 5, 2, 6, 2, 1]})\n",
        "\n",
        "        with st.expander(\"Klik untuk melihat expander\"):\n",
        "            st.write('Ini adalah contoh expander')\n",
        "            st.bar_chart({\"data\": [1, 5, 2, 6, 2, 1]})\n",
        "\n",
        "        klik = st.expander(\"Klik untuk melihat expander\")\n",
        "        klik.write('Ini adalah contoh expander')\n",
        "        klik.bar_chart({\"data\": [1, 5, 2, 6, 2, 1]})\n",
        "\n",
        "        tab1, tab2 = st.tabs([\"📉Chart\", \"📑Data\"])\n",
        "        data = np.random.randn(10, 1)\n",
        "        tab1.subheader(\"Contoh tab dengan grafik\")\n",
        "        tab1.line_chart(data)\n",
        "        tab2.subheader(\"Contoh tab dengan data\")\n",
        "        tab2.write(data)\n",
        "\n",
        "        with st.empty():\n",
        "            for seconds in range(10):\n",
        "                st.write(f\"⌛ {seconds} detik akan selesai\")\n",
        "                time.sleep(1)\n",
        "                st.write(\"✔️ 10 detik sudah selesai\")\n",
        "\n",
        "        klik = st.empty()\n",
        "        for seconds in range(10):\n",
        "            klik.write(f\"⌛ {seconds} detik kedua akan selesai\")\n",
        "            time.sleep(1)\n",
        "        klik.write(\"✔️ 10 detik sudah selesai\")\n",
        "\n",
        "        with st.form(key='my_form'):\n",
        "            name = st.text_input('Enter your name:')\n",
        "            age = st.number_input('Enter your age:', min_value=1, max_value=100)\n",
        "            submit_button = st.form_submit_button('Submit')\n",
        "\n",
        "            if submit_button:\n",
        "                st.write(f'Name: {name}')\n",
        "                st.write(f'Age: {age}')\n"
      ],
      "metadata": {
        "colab": {
          "base_uri": "https://localhost:8080/"
        },
        "id": "HgRvQBJFYWt9",
        "outputId": "998bf11a-b5e6-4c87-d0b8-2c6f9f86d02b"
      },
      "execution_count": 28,
      "outputs": [
        {
          "output_type": "stream",
          "name": "stdout",
          "text": [
            "Overwriting Halaman.py\n"
          ]
        }
      ]
    },
    {
      "cell_type": "markdown",
      "metadata": {
        "id": "k4pIIyd86nzn"
      },
      "source": [
        "## Deployment"
      ]
    },
    {
      "cell_type": "code",
      "execution_count": 29,
      "metadata": {
        "colab": {
          "base_uri": "https://localhost:8080/"
        },
        "id": "m3_PvUwaGfTr",
        "outputId": "c24fb04f-546a-4eb5-e181-80d5493905b2"
      },
      "outputs": [
        {
          "output_type": "stream",
          "name": "stdout",
          "text": [
            "\u001b[1G\u001b[0K⠙\u001b[1G\u001b[0K⠹\u001b[1G\u001b[0K⠸\u001b[1G\u001b[0K⠼\u001b[1G\u001b[0K⠴\u001b[1G\u001b[0K⠦\u001b[1G\u001b[0K⠧\u001b[1G\u001b[0K⠇\u001b[1G\u001b[0K⠏\u001b[1G\u001b[0K⠋\u001b[1G\u001b[0K⠙\u001b[1G\u001b[0K⠹\u001b[1G\u001b[0K\n",
            "removed 22 packages, and audited 1 package in 1s\n",
            "\u001b[1G\u001b[0K⠹\u001b[1G\u001b[0K\n",
            "found \u001b[32m\u001b[1m0\u001b[22m\u001b[39m vulnerabilities\n",
            "\u001b[1G\u001b[0K⠹\u001b[1G\u001b[0K\u001b[1G\u001b[0K⠙\u001b[1G\u001b[0K⠹\u001b[1G\u001b[0K⠸\u001b[1G\u001b[0K⠼\u001b[1G\u001b[0K⠴\u001b[1G\u001b[0K⠦\u001b[1G\u001b[0K⠧\u001b[1G\u001b[0K⠇\u001b[1G\u001b[0K⠏\u001b[1G\u001b[0K⠋\u001b[1G\u001b[0K⠙\u001b[1G\u001b[0K⠹\u001b[1G\u001b[0K⠸\u001b[1G\u001b[0K⠼\u001b[1G\u001b[0K⠴\u001b[1G\u001b[0K⠦\u001b[1G\u001b[0K⠧\u001b[1G\u001b[0K⠇\u001b[1G\u001b[0K⠏\u001b[1G\u001b[0K⠋\u001b[1G\u001b[0K⠙\u001b[1G\u001b[0K⠹\u001b[1G\u001b[0K⠸\u001b[1G\u001b[0K⠼\u001b[1G\u001b[0K⠴\u001b[1G\u001b[0K⠦\u001b[1G\u001b[0K⠧\u001b[1G\u001b[0K⠇\u001b[1G\u001b[0K⠏\u001b[1G\u001b[0K⠋\u001b[1G\u001b[0K⠙\u001b[1G\u001b[0K⠹\u001b[1G\u001b[0K⠸\u001b[1G\u001b[0K⠼\u001b[1G\u001b[0K⠴\u001b[1G\u001b[0K⠦\u001b[1G\u001b[0K⠧\u001b[1G\u001b[0K⠇\u001b[1G\u001b[0K⠏\u001b[1G\u001b[0K⠋\u001b[1G\u001b[0K⠙\u001b[1G\u001b[0K⠹\u001b[1G\u001b[0K⠸\u001b[1G\u001b[0K⠼\u001b[1G\u001b[0K⠴\u001b[1G\u001b[0K⠦\u001b[1G\u001b[0K⠧\u001b[1G\u001b[0K⠇\u001b[1G\u001b[0K⠏\u001b[1G\u001b[0K⠋\u001b[1G\u001b[0K⠙\u001b[1G\u001b[0K⠹\u001b[1G\u001b[0K⠸\u001b[1G\u001b[0K⠼\u001b[1G\u001b[0K\n",
            "added 22 packages, and audited 23 packages in 5s\n",
            "\u001b[1G\u001b[0K⠼\u001b[1G\u001b[0K\n",
            "\u001b[1G\u001b[0K⠼\u001b[1G\u001b[0K3 packages are looking for funding\n",
            "\u001b[1G\u001b[0K⠼\u001b[1G\u001b[0K  run `npm fund` for details\n",
            "\u001b[1G\u001b[0K⠼\u001b[1G\u001b[0K\n",
            "2 \u001b[31m\u001b[1mhigh\u001b[22m\u001b[39m severity vulnerabilities\n",
            "\n",
            "To address all issues, run:\n",
            "  npm audit fix\n",
            "\n",
            "Run `npm audit` for details.\n",
            "\u001b[1G\u001b[0K⠼\u001b[1G\u001b[0K"
          ]
        }
      ],
      "source": [
        "!npm uninstall localtunnel\n",
        "!npm install localtunnel"
      ]
    },
    {
      "cell_type": "code",
      "execution_count": 30,
      "metadata": {
        "colab": {
          "base_uri": "https://localhost:8080/"
        },
        "id": "1QkFzxI1GhDc",
        "outputId": "f5050707-246d-44dc-9707-03728d536e59"
      },
      "outputs": [
        {
          "output_type": "stream",
          "name": "stdout",
          "text": [
            "/content/drive/MyDrive/Pengembangan_Machine_Learning/Tugas_4\n"
          ]
        }
      ],
      "source": [
        "!pwd"
      ]
    },
    {
      "cell_type": "code",
      "execution_count": 31,
      "metadata": {
        "id": "CvKsDBl4GkC2"
      },
      "outputs": [],
      "source": [
        "#Kalo ada yg error atau modifikasi, berhentiin dulu tunnelnya. Run sel yg mau dimodifikasi. Baru run lagi dari sini sampe muncul link tunnel yg baru.\n",
        "!streamlit run /content/drive/MyDrive/Pengembangan_Machine_Learning/Tugas_4/Halaman.py &>/content/drive/MyDrive/Pengembangan_Machine_Learning/Tugas_4/logs.txt &"
      ]
    },
    {
      "cell_type": "code",
      "execution_count": 32,
      "metadata": {
        "id": "okbzm9pFGmF9"
      },
      "outputs": [],
      "source": [
        "!timeout 30 cat /content/drive/MyDrive/Pengembangan_Machine_Learning/Tugas_4/logs.txt"
      ]
    },
    {
      "cell_type": "code",
      "execution_count": 33,
      "metadata": {
        "colab": {
          "base_uri": "https://localhost:8080/",
          "height": 36
        },
        "id": "4e3bnAGuGol5",
        "outputId": "82f32d33-ea68-4725-c6e5-8cf753581136"
      },
      "outputs": [
        {
          "output_type": "execute_result",
          "data": {
            "text/plain": [
              "'34.21.50.198'"
            ],
            "application/vnd.google.colaboratory.intrinsic+json": {
              "type": "string"
            }
          },
          "metadata": {},
          "execution_count": 33
        }
      ],
      "source": [
        "import requests\n",
        "requests.get('https://api.ipify.org').text"
      ]
    },
    {
      "cell_type": "code",
      "execution_count": null,
      "metadata": {
        "colab": {
          "base_uri": "https://localhost:8080/"
        },
        "id": "oVV37RKqGqPg",
        "outputId": "7ab8098c-84de-4b49-9abd-63e6692e282b"
      },
      "outputs": [
        {
          "output_type": "stream",
          "name": "stdout",
          "text": [
            "\u001b[1G\u001b[0K⠙\u001b[1G\u001b[0K⠹\u001b[1G\u001b[0Kyour url is: https://loose-loops-push.loca.lt\n"
          ]
        }
      ],
      "source": [
        "!npx localtunnel --port 8501"
      ]
    }
  ],
  "metadata": {
    "colab": {
      "provenance": []
    },
    "kernelspec": {
      "display_name": "Python 3",
      "name": "python3"
    },
    "language_info": {
      "name": "python"
    }
  },
  "nbformat": 4,
  "nbformat_minor": 0
}