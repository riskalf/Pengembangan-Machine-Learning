{
  "cells": [
    {
      "cell_type": "markdown",
      "metadata": {
        "id": "bUf7uD-v6Y1f"
      },
      "source": [
        "## Menginstall Library Streamlit"
      ]
    },
    {
      "cell_type": "code",
      "execution_count": 1,
      "metadata": {
        "colab": {
          "base_uri": "https://localhost:8080/"
        },
        "id": "KlOIKApvuiiM",
        "outputId": "46935247-1e0d-43ad-beaf-dbfe7a480ce0"
      },
      "outputs": [
        {
          "output_type": "stream",
          "name": "stdout",
          "text": [
            "Mounted at /content/drive\n"
          ]
        }
      ],
      "source": [
        "# Menghubungkan Google Drive agar bisa akses folder project\n",
        "from google.colab import drive\n",
        "drive.mount('/content/drive')"
      ]
    },
    {
      "cell_type": "code",
      "execution_count": 2,
      "metadata": {
        "colab": {
          "base_uri": "https://localhost:8080/"
        },
        "id": "WlvI0uDLo60H",
        "outputId": "ab858d40-07fa-4604-8254-372b685df8a2"
      },
      "outputs": [
        {
          "output_type": "stream",
          "name": "stdout",
          "text": [
            "/content/drive/MyDrive/Pengembangan_Machine_Learning/Tugas_4\n"
          ]
        }
      ],
      "source": [
        "# Masuk ke direktori folder project yang sudah dibuat di Google Drive\n",
        "%cd /content/drive/MyDrive/Pengembangan_Machine_Learning/Tugas_4"
      ]
    },
    {
      "cell_type": "code",
      "execution_count": 3,
      "metadata": {
        "colab": {
          "base_uri": "https://localhost:8080/"
        },
        "id": "0QI5cEX1FZPG",
        "outputId": "23862623-a427-4105-d4dd-79436b1b33ff"
      },
      "outputs": [
        {
          "output_type": "stream",
          "name": "stdout",
          "text": [
            "Overwriting requirements.txt\n"
          ]
        }
      ],
      "source": [
        "# Membuat file requirements.txt\n",
        "%%writefile requirements.txt\n",
        "# Berikut adalah daftar library yang akan digunakan dalam project ini\n",
        "streamlit"
      ]
    },
    {
      "cell_type": "code",
      "execution_count": 4,
      "metadata": {
        "colab": {
          "base_uri": "https://localhost:8080/"
        },
        "id": "He4D9HGhFa_y",
        "outputId": "5fa2c4dc-e431-42eb-8daf-0bf4172bf40c"
      },
      "outputs": [
        {
          "output_type": "stream",
          "name": "stdout",
          "text": [
            "Halaman.py  node_modules  package-lock.json\n",
            "logs.txt    package.json  requirements.txt\n"
          ]
        }
      ],
      "source": [
        "# Menampilkan daftar file dan folder yang ada di dalam folder project\n",
        "!ls"
      ]
    },
    {
      "cell_type": "code",
      "execution_count": 5,
      "metadata": {
        "colab": {
          "base_uri": "https://localhost:8080/"
        },
        "id": "bwQqVrsaFfhd",
        "outputId": "ffde1418-3c06-4603-b6e5-aebce87c5b52"
      },
      "outputs": [
        {
          "output_type": "stream",
          "name": "stdout",
          "text": [
            "# Berikut adalah daftar library yang akan digunakan dalam project ini\n",
            "streamlit\n"
          ]
        }
      ],
      "source": [
        "# Menampilkan isi file requirements.txt\n",
        "!cat requirements.txt"
      ]
    },
    {
      "cell_type": "code",
      "execution_count": 6,
      "metadata": {
        "id": "oHS2JVqYFkbb",
        "colab": {
          "base_uri": "https://localhost:8080/"
        },
        "outputId": "d8f717e9-a440-4ec8-8a90-31cd0aa24996"
      },
      "outputs": [
        {
          "output_type": "stream",
          "name": "stdout",
          "text": [
            "\u001b[2K     \u001b[90m━━━━━━━━━━━━━━━━━━━━━━━━━━━━━━━━━━━━━━━━\u001b[0m \u001b[32m44.3/44.3 kB\u001b[0m \u001b[31m1.7 MB/s\u001b[0m eta \u001b[36m0:00:00\u001b[0m\n",
            "\u001b[2K   \u001b[90m━━━━━━━━━━━━━━━━━━━━━━━━━━━━━━━━━━━━━━━━\u001b[0m \u001b[32m9.9/9.9 MB\u001b[0m \u001b[31m54.3 MB/s\u001b[0m eta \u001b[36m0:00:00\u001b[0m\n",
            "\u001b[2K   \u001b[90m━━━━━━━━━━━━━━━━━━━━━━━━━━━━━━━━━━━━━━━━\u001b[0m \u001b[32m6.9/6.9 MB\u001b[0m \u001b[31m101.6 MB/s\u001b[0m eta \u001b[36m0:00:00\u001b[0m\n",
            "\u001b[2K   \u001b[90m━━━━━━━━━━━━━━━━━━━━━━━━━━━━━━━━━━━━━━━━\u001b[0m \u001b[32m79.1/79.1 kB\u001b[0m \u001b[31m6.3 MB/s\u001b[0m eta \u001b[36m0:00:00\u001b[0m\n",
            "\u001b[?25h"
          ]
        }
      ],
      "source": [
        "# Menginstall semua library yang sudah ditulis di requirements.txt\n",
        "!pip install -q -r requirements.txt"
      ]
    },
    {
      "cell_type": "code",
      "execution_count": 7,
      "metadata": {
        "colab": {
          "base_uri": "https://localhost:8080/"
        },
        "id": "1zyxZfx0o-Bp",
        "outputId": "79a192d6-18f6-4908-d034-49fb20c8696a"
      },
      "outputs": [
        {
          "output_type": "stream",
          "name": "stdout",
          "text": [
            "streamlit                             1.45.1\n"
          ]
        }
      ],
      "source": [
        "# Mengecek apakah streamlit sudah berhasil diinstall\n",
        "!pip list | grep streamlit"
      ]
    },
    {
      "cell_type": "code",
      "execution_count": 8,
      "metadata": {
        "id": "VdSqmROmo-_Y"
      },
      "outputs": [],
      "source": [
        "# Menginstall library streamlit secara diam-diam (tanpa banyak output\n",
        "!pip install streamlit -q"
      ]
    },
    {
      "cell_type": "code",
      "execution_count": 9,
      "metadata": {
        "colab": {
          "base_uri": "https://localhost:8080/"
        },
        "id": "Y1xnhI7oFwUi",
        "outputId": "a9fe4d86-aae5-40e9-c7b7-8fc98d5deb2c"
      },
      "outputs": [
        {
          "output_type": "stream",
          "name": "stdout",
          "text": [
            "/content/drive/MyDrive/Pengembangan_Machine_Learning/Tugas_4\n"
          ]
        }
      ],
      "source": [
        "# Menampilkan lokasi folder kerja kita saat ini (singkatan dari \"print working directory\")\n",
        "!pwd"
      ]
    },
    {
      "cell_type": "code",
      "execution_count": 10,
      "metadata": {
        "colab": {
          "base_uri": "https://localhost:8080/"
        },
        "id": "ehortH0hpMiz",
        "outputId": "2aa58525-db84-4bff-bc23-a27dcfc18e12"
      },
      "outputs": [
        {
          "output_type": "stream",
          "name": "stdout",
          "text": [
            "Halaman.py  node_modules  package-lock.json\n",
            "logs.txt    package.json  requirements.txt\n"
          ]
        }
      ],
      "source": [
        "# Menampilkan daftar file dan folder yang ada di dalam folder projek saat ini\n",
        "!ls"
      ]
    },
    {
      "cell_type": "markdown",
      "metadata": {
        "id": "w0N5ykmGw87F"
      },
      "source": [
        "## Pertemuan 4"
      ]
    },
    {
      "cell_type": "code",
      "execution_count": 11,
      "metadata": {
        "colab": {
          "base_uri": "https://localhost:8080/"
        },
        "id": "HgRvQBJFYWt9",
        "outputId": "dcac509e-40a1-433d-e461-a86300207ba3"
      },
      "outputs": [
        {
          "output_type": "stream",
          "name": "stdout",
          "text": [
            "Overwriting Halaman.py\n"
          ]
        }
      ],
      "source": [
        "%%writefile Halaman.py\n",
        "import streamlit as st\n",
        "from datetime import datetime\n",
        "import pandas as pd\n",
        "import numpy as np\n",
        "import time\n",
        "\n",
        "# Sidebar untuk navigasi\n",
        "st.sidebar.title(\"Code Club!\")\n",
        "st.sidebar.write(\"Silakan pilih halaman yang ingin diakses.\")\n",
        "page = st.sidebar.selectbox(\"Menu Halaman\", [\n",
        "    \"Beranda\",\n",
        "    \"Tentang Kami\",\n",
        "    \"Pendaftaran Anggota\",\n",
        "    \"Kontak\",\n",
        "    \"Latihan Pertemuan 4\",\n",
        "    \"Contoh Pertemuan 4\"\n",
        "])\n",
        "\n",
        "# Container utama\n",
        "with st.container():\n",
        "    if page == \"Beranda\":\n",
        "        st.title(\"👩‍💻 Selamat Datang di Code Club!\")\n",
        "        st.markdown(\"\"\"\n",
        "        Selamat datang di **Code Club**, wadah kreatif untuk kamu yang ingin mengembangkan kemampuan di bidang pemrograman 💡\"\"\")\n",
        "\n",
        "        col1, col2, col3 = st.columns([1, 2, 1])\n",
        "        with col2:\n",
        "            st.image(\"/content/drive/MyDrive/Colab Notebooks/Pengembangan Machine Learning/asset/code_club.png\", caption=\"Code Club\")\n",
        "\n",
        "\n",
        "        st.markdown(\"\"\"\n",
        "        Di sini, kamu bisa belajar berbagai topik seperti:\n",
        "        - *Web Development*\n",
        "        - *Data Science*\n",
        "        - *Mobile App*\n",
        "        - ***Machine Learning***\n",
        "\n",
        "        Kami rutin mengadakan pelatihan, mini project, hingga kolaborasi hackathon untuk semua anggota.\n",
        "        Yuk, bergabung dan tumbuhkan semangat ngoding bareng! 🚀\n",
        "        \"\"\")\n",
        "        st.caption(\"Tugas Pertemuan 4 | oleh Riska Alifia Putri\")\n",
        "\n",
        "    elif page == \"Tentang Kami\":\n",
        "        st.title(\"👩‍💻 Profil Code Club\")\n",
        "        st.markdown(\"\"\"\n",
        "        Selamat datang di *Code Club*! Kami adalah komunitas belajar dan berbagi seputar dunia *programming* dan teknologi digital.\n",
        "\n",
        "        **Visi:**\n",
        "        Menjadi wadah pengembangan keterampilan teknologi informasi bagi pelajar dan mahasiswa.\n",
        "\n",
        "        **Misi:**\n",
        "        - 💡 Menyelenggarakan pelatihan dan *workshop* pemrograman.\n",
        "        - 🧩 Meningkatkan kolaborasi antaranggota lewat proyek bersama.\n",
        "        - 🚀 Mendorong kreativitas di bidang *software development* dan *machine learning*.\n",
        "        \"\"\")\n",
        "        st.caption(\"Bergabunglah bersama kami dan tumbuh bersama dunia digital 🌍\")\n",
        "\n",
        "    elif page == \"Pendaftaran Anggota\":\n",
        "        st.title(\"📝 Formulir Pendaftaran Anggota\")\n",
        "        st.markdown(\"Silakan isi data diri berikut untuk bergabung dengan *Code Club*:\")\n",
        "\n",
        "        nama = st.text_input(\"Nama Lengkap\")\n",
        "        email = st.text_input(\"Email Aktif\")\n",
        "        usia = st.number_input(\"Usia\", min_value=10, max_value=100, step=1)\n",
        "        tgl_lahir = st.date_input(\"Tanggal Lahir\")\n",
        "        pilihan_divisi = st.selectbox(\"Pilih Divisi yang Diminati\", [\n",
        "            \"Web Development\",\n",
        "            \"Data Science\",\n",
        "            \"UI/UX Design\",\n",
        "            \"Machine Learning\",\n",
        "            \"Competitive Programming\"\n",
        "        ])\n",
        "        alasan = st.text_area(\"Alasan Bergabung\")\n",
        "\n",
        "        if st.button(\"Kirim\"):\n",
        "            st.success(f\"Terima kasih, {nama}! Data Anda telah kami terima.\")\n",
        "\n",
        "    elif page == \"Kontak\":\n",
        "        st.title(\"📞 Kontak Code Club\")\n",
        "        st.markdown(\"\"\"\n",
        "    Jika kamu memiliki pertanyaan lebih lanjut, silakan hubungi kami melalui:\n",
        "\n",
        "    📧 Email: codeclub@example.com\n",
        "    📱 WhatsApp: 0812-3456-7890\n",
        "    📍 Alamat: Gedung IT Lt.2, Kampus Nusa Mandiri\n",
        "\n",
        "    Atau isi formulir berikut untuk mengirim pesan langsung:\n",
        "    \"\"\")\n",
        "\n",
        "        nama = st.text_input(\"Nama\")\n",
        "        email = st.text_input(\"Email\")\n",
        "        pesan = st.text_area(\"Pesan\")\n",
        "\n",
        "        if st.button(\"Kirim Pesan\"):\n",
        "            st.success(\"Pesan kamu telah terkirim! 💌\")\n",
        "\n",
        "    elif page == \"Latihan Pertemuan 4\":\n",
        "        st.sidebar.title(\"Registrasi E-Commerce\")\n",
        "        st.sidebar.write(\"Isi data diri untuk mendaftar.\")\n",
        "        username = st.sidebar.text_input(\"Username\")\n",
        "        email = st.sidebar.text_input(\"Email\")\n",
        "\n",
        "        with st.container():\n",
        "            st.header(\"Informasi Pribadi\")\n",
        "            st.text_input(\"Nama Lengkap\")\n",
        "            st.text_input(\"Alamat\")\n",
        "\n",
        "        with st.expander(\"Punya pertanyaan?\"):\n",
        "            st.write(\"Tanyakan pada kami melalui form di bawah ini.\")\n",
        "\n",
        "        tabs = st.selectbox(\"Pilih jenis akun:\", [\"Pelanggan\", \"Penjual\"])\n",
        "\n",
        "        with st.form(key='registration_form'):\n",
        "            phone = st.text_input(\"Nomor Telepon\")\n",
        "            password = st.text_input(\"Password\", type=\"password\")\n",
        "            submit_button = st.form_submit_button(\"Daftar\")\n",
        "\n",
        "        if submit_button:\n",
        "            st.success(f\"Selamat datang {username}!\")\n",
        "            st.write(\"Akun Anda telah berhasil dibuat.\")\n",
        "\n",
        "        if st.button(\"Tampilkan Dialog\"):\n",
        "            with st.expander(\"Perhatian\", expanded=True):\n",
        "                st.write(\"Ini adalah contoh penggunaan expander sebagai dialog.\")\n",
        "\n",
        "\n",
        "    elif page == \"Contoh Pertemuan 4\":\n",
        "        pilih = st.sidebar.selectbox(\n",
        "            \"Pilihlah algoritma yang ingin digunakan\",\n",
        "            (\"SVM\", \"KKN\", \"K-Means\")\n",
        "        )\n",
        "\n",
        "        with st.sidebar:\n",
        "            pilih_radio = st.radio(\n",
        "                \"Pilihlah type data\",\n",
        "                (\"Numerik\", \"Kategorik\")\n",
        "            )\n",
        "\n",
        "        col1, col2 = st.columns(2)\n",
        "        with col1:\n",
        "            chart_data = pd.DataFrame(\n",
        "                np.random.randn(5, 3),\n",
        "                columns=['Kolom1', 'Kolom2', 'Kolom3']\n",
        "            )\n",
        "            st.table(chart_data)\n",
        "\n",
        "        with col2:\n",
        "            chart_data = pd.DataFrame(\n",
        "                np.random.randn(5, 3),\n",
        "                columns=['Kolom1', 'Kolom2', 'Kolom3']\n",
        "            )\n",
        "            st.line_chart(chart_data)\n",
        "\n",
        "        with st.container():\n",
        "            st.write(\"Ini di dalam container\")\n",
        "        st.write(\"Ini di luar container\")\n",
        "\n",
        "        klik = st.container()\n",
        "        klik.write(\"Ini adalah contoh container\")\n",
        "        klik.bar_chart({\"data\": [1, 5, 2, 6, 2, 1]})\n",
        "\n",
        "        with st.expander(\"Klik untuk melihat expander\"):\n",
        "            st.write('Ini adalah contoh expander')\n",
        "            st.bar_chart({\"data\": [1, 5, 2, 6, 2, 1]})\n",
        "\n",
        "        klik = st.expander(\"Klik untuk melihat expander\")\n",
        "        klik.write('Ini adalah contoh expander')\n",
        "        klik.bar_chart({\"data\": [1, 5, 2, 6, 2, 1]})\n",
        "\n",
        "        tab1, tab2 = st.tabs([\"📉Chart\", \"📑Data\"])\n",
        "        data = np.random.randn(10, 1)\n",
        "        tab1.subheader(\"Contoh tab dengan grafik\")\n",
        "        tab1.line_chart(data)\n",
        "        tab2.subheader(\"Contoh tab dengan data\")\n",
        "        tab2.write(data)\n",
        "\n",
        "        with st.empty():\n",
        "            for seconds in range(10):\n",
        "                st.write(f\"⌛ {seconds} detik akan selesai\")\n",
        "                time.sleep(1)\n",
        "                st.write(\"✔️ 10 detik sudah selesai\")\n",
        "\n",
        "        klik = st.empty()\n",
        "        for seconds in range(10):\n",
        "            klik.write(f\"⌛ {seconds} detik kedua akan selesai\")\n",
        "            time.sleep(1)\n",
        "        klik.write(\"✔️ 10 detik sudah selesai\")\n",
        "\n",
        "        with st.form(key='my_form'):\n",
        "            name = st.text_input('Enter your name:')\n",
        "            age = st.number_input('Enter your age:', min_value=1, max_value=100)\n",
        "            submit_button = st.form_submit_button('Submit')\n",
        "\n",
        "            if submit_button:\n",
        "                st.write(f'Name: {name}')\n",
        "                st.write(f'Age: {age}')\n"
      ]
    },
    {
      "cell_type": "markdown",
      "metadata": {
        "id": "k4pIIyd86nzn"
      },
      "source": [
        "## Deployment Streamlit"
      ]
    },
    {
      "cell_type": "code",
      "execution_count": 12,
      "metadata": {
        "colab": {
          "base_uri": "https://localhost:8080/"
        },
        "id": "m3_PvUwaGfTr",
        "outputId": "7c3231e9-9d2e-4645-f7cf-9e5320dc2680"
      },
      "outputs": [
        {
          "output_type": "stream",
          "name": "stdout",
          "text": [
            "\u001b[1G\u001b[0K⠙\u001b[1G\u001b[0K⠹\u001b[1G\u001b[0K⠸\u001b[1G\u001b[0K⠼\u001b[1G\u001b[0K⠴\u001b[1G\u001b[0K⠦\u001b[1G\u001b[0K⠧\u001b[1G\u001b[0K⠇\u001b[1G\u001b[0K⠏\u001b[1G\u001b[0K⠋\u001b[1G\u001b[0K⠙\u001b[1G\u001b[0K⠹\u001b[1G\u001b[0K⠸\u001b[1G\u001b[0K⠼\u001b[1G\u001b[0K⠴\u001b[1G\u001b[0K⠦\u001b[1G\u001b[0K⠧\u001b[1G\u001b[0K⠇\u001b[1G\u001b[0K⠏\u001b[1G\u001b[0K⠋\u001b[1G\u001b[0K⠙\u001b[1G\u001b[0K⠹\u001b[1G\u001b[0K⠸\u001b[1G\u001b[0K⠼\u001b[1G\u001b[0K⠴\u001b[1G\u001b[0K⠦\u001b[1G\u001b[0K⠧\u001b[1G\u001b[0K⠇\u001b[1G\u001b[0K⠏\u001b[1G\u001b[0K⠋\u001b[1G\u001b[0K⠙\u001b[1G\u001b[0K⠹\u001b[1G\u001b[0K⠸\u001b[1G\u001b[0K⠼\u001b[1G\u001b[0K⠴\u001b[1G\u001b[0K⠦\u001b[1G\u001b[0K⠧\u001b[1G\u001b[0K⠇\u001b[1G\u001b[0K⠏\u001b[1G\u001b[0K⠋\u001b[1G\u001b[0K⠙\u001b[1G\u001b[0K⠹\u001b[1G\u001b[0K⠸\u001b[1G\u001b[0K⠼\u001b[1G\u001b[0K⠴\u001b[1G\u001b[0K⠦\u001b[1G\u001b[0K⠧\u001b[1G\u001b[0K⠇\u001b[1G\u001b[0K⠏\u001b[1G\u001b[0K⠋\u001b[1G\u001b[0K⠙\u001b[1G\u001b[0K⠹\u001b[1G\u001b[0K⠸\u001b[1G\u001b[0K⠼\u001b[1G\u001b[0K⠴\u001b[1G\u001b[0K⠦\u001b[1G\u001b[0K⠧\u001b[1G\u001b[0K⠇\u001b[1G\u001b[0K⠏\u001b[1G\u001b[0K⠋\u001b[1G\u001b[0K⠙\u001b[1G\u001b[0K⠹\u001b[1G\u001b[0K⠸\u001b[1G\u001b[0K⠼\u001b[1G\u001b[0K⠴\u001b[1G\u001b[0K⠦\u001b[1G\u001b[0K⠧\u001b[1G\u001b[0K⠇\u001b[1G\u001b[0K⠏\u001b[1G\u001b[0K⠋\u001b[1G\u001b[0K⠙\u001b[1G\u001b[0K⠹\u001b[1G\u001b[0K\n",
            "removed 22 packages, and audited 1 package in 7s\n",
            "\u001b[1G\u001b[0K⠹\u001b[1G\u001b[0K\n",
            "found \u001b[32m\u001b[1m0\u001b[22m\u001b[39m vulnerabilities\n",
            "\u001b[1G\u001b[0K⠹\u001b[1G\u001b[0K\u001b[1mnpm\u001b[22m \u001b[96mnotice\u001b[39m\n",
            "\u001b[1mnpm\u001b[22m \u001b[96mnotice\u001b[39m New \u001b[31mmajor\u001b[39m version of npm available! \u001b[31m10.8.2\u001b[39m -> \u001b[34m11.4.1\u001b[39m\n",
            "\u001b[1mnpm\u001b[22m \u001b[96mnotice\u001b[39m Changelog: \u001b[34mhttps://github.com/npm/cli/releases/tag/v11.4.1\u001b[39m\n",
            "\u001b[1mnpm\u001b[22m \u001b[96mnotice\u001b[39m To update run: \u001b[4mnpm install -g npm@11.4.1\u001b[24m\n",
            "\u001b[1mnpm\u001b[22m \u001b[96mnotice\u001b[39m\n",
            "\u001b[1G\u001b[0K⠹\u001b[1G\u001b[0K\u001b[1G\u001b[0K⠙\u001b[1G\u001b[0K⠹\u001b[1G\u001b[0K⠸\u001b[1G\u001b[0K⠼\u001b[1G\u001b[0K⠴\u001b[1G\u001b[0K⠦\u001b[1G\u001b[0K⠧\u001b[1G\u001b[0K⠇\u001b[1G\u001b[0K⠏\u001b[1G\u001b[0K⠋\u001b[1G\u001b[0K⠙\u001b[1G\u001b[0K⠹\u001b[1G\u001b[0K⠸\u001b[1G\u001b[0K⠼\u001b[1G\u001b[0K⠴\u001b[1G\u001b[0K⠦\u001b[1G\u001b[0K⠧\u001b[1G\u001b[0K⠇\u001b[1G\u001b[0K⠏\u001b[1G\u001b[0K⠋\u001b[1G\u001b[0K⠙\u001b[1G\u001b[0K⠹\u001b[1G\u001b[0K⠸\u001b[1G\u001b[0K⠼\u001b[1G\u001b[0K⠴\u001b[1G\u001b[0K⠦\u001b[1G\u001b[0K⠧\u001b[1G\u001b[0K⠇\u001b[1G\u001b[0K⠏\u001b[1G\u001b[0K⠋\u001b[1G\u001b[0K⠙\u001b[1G\u001b[0K⠹\u001b[1G\u001b[0K⠸\u001b[1G\u001b[0K⠼\u001b[1G\u001b[0K⠴\u001b[1G\u001b[0K⠦\u001b[1G\u001b[0K⠧\u001b[1G\u001b[0K⠇\u001b[1G\u001b[0K⠏\u001b[1G\u001b[0K⠋\u001b[1G\u001b[0K⠙\u001b[1G\u001b[0K⠹\u001b[1G\u001b[0K⠸\u001b[1G\u001b[0K⠼\u001b[1G\u001b[0K⠴\u001b[1G\u001b[0K⠦\u001b[1G\u001b[0K⠧\u001b[1G\u001b[0K⠇\u001b[1G\u001b[0K⠏\u001b[1G\u001b[0K⠋\u001b[1G\u001b[0K⠙\u001b[1G\u001b[0K⠹\u001b[1G\u001b[0K⠸\u001b[1G\u001b[0K⠼\u001b[1G\u001b[0K⠴\u001b[1G\u001b[0K⠦\u001b[1G\u001b[0K⠧\u001b[1G\u001b[0K⠇\u001b[1G\u001b[0K\n",
            "added 22 packages, and audited 23 packages in 7s\n",
            "\u001b[1G\u001b[0K⠇\u001b[1G\u001b[0K\n",
            "\u001b[1G\u001b[0K⠇\u001b[1G\u001b[0K3 packages are looking for funding\n",
            "\u001b[1G\u001b[0K⠇\u001b[1G\u001b[0K  run `npm fund` for details\n",
            "\u001b[1G\u001b[0K⠇\u001b[1G\u001b[0K\n",
            "2 \u001b[31m\u001b[1mhigh\u001b[22m\u001b[39m severity vulnerabilities\n",
            "\n",
            "To address all issues, run:\n",
            "  npm audit fix\n",
            "\n",
            "Run `npm audit` for details.\n",
            "\u001b[1G\u001b[0K⠇\u001b[1G\u001b[0K"
          ]
        }
      ],
      "source": [
        "!npm uninstall localtunnel\n",
        "!npm install localtunnel"
      ]
    },
    {
      "cell_type": "code",
      "execution_count": 13,
      "metadata": {
        "colab": {
          "base_uri": "https://localhost:8080/"
        },
        "id": "1QkFzxI1GhDc",
        "outputId": "12830dab-91f1-421d-d50d-ace42f119b6c"
      },
      "outputs": [
        {
          "output_type": "stream",
          "name": "stdout",
          "text": [
            "/content/drive/MyDrive/Pengembangan_Machine_Learning/Tugas_4\n"
          ]
        }
      ],
      "source": [
        "# Menampilkan direktori kerja saat ini (lokasi folder tempat kita bekerja)\n",
        "!pwd"
      ]
    },
    {
      "cell_type": "code",
      "execution_count": 14,
      "metadata": {
        "id": "CvKsDBl4GkC2"
      },
      "outputs": [],
      "source": [
        "# Menjalankan aplikasi Streamlit\n",
        "!streamlit run /content/drive/MyDrive/Pengembangan_Machine_Learning/Tugas_4/Halaman.py &>/content/drive/MyDrive/Pengembangan_Machine_Learning/Tugas_4/logs.txt &"
      ]
    },
    {
      "cell_type": "code",
      "execution_count": 15,
      "metadata": {
        "id": "okbzm9pFGmF9"
      },
      "outputs": [],
      "source": [
        "# Menampilkan isi file log (berisi info hasil menjalankan Streamlit)\n",
        "!timeout 30 cat /content/drive/MyDrive/Pengembangan_Machine_Learning/Tugas_4/logs.txt"
      ]
    },
    {
      "cell_type": "code",
      "execution_count": 16,
      "metadata": {
        "colab": {
          "base_uri": "https://localhost:8080/",
          "height": 36
        },
        "id": "4e3bnAGuGol5",
        "outputId": "6a34deba-e8dc-4b3a-df6c-ef407662b2c6"
      },
      "outputs": [
        {
          "output_type": "execute_result",
          "data": {
            "text/plain": [
              "'34.106.67.30'"
            ],
            "application/vnd.google.colaboratory.intrinsic+json": {
              "type": "string"
            }
          },
          "metadata": {},
          "execution_count": 16
        }
      ],
      "source": [
        "# Mengecek alamat IP publik (Outputnya dipakai sebagai Password Tunnel)\n",
        "import requests\n",
        "requests.get('https://api.ipify.org').text"
      ]
    },
    {
      "cell_type": "code",
      "execution_count": null,
      "metadata": {
        "colab": {
          "background_save": true,
          "base_uri": "https://localhost:8080/"
        },
        "id": "oVV37RKqGqPg",
        "outputId": "63a8a830-d806-4c78-9cfe-591729c49357"
      },
      "outputs": [
        {
          "output_type": "stream",
          "name": "stdout",
          "text": [
            "\u001b[1G\u001b[0K⠙\u001b[1G\u001b[0K⠹\u001b[1G\u001b[0K⠸\u001b[1G\u001b[0Kyour url is: https://fine-donkeys-switch.loca.lt\n"
          ]
        }
      ],
      "source": [
        "# Membuka localtunnel di port 8501 (port default Streamlit)\n",
        "# Alamat url yang muncul (misalnya: https://hungry-actors-fetch.loca.lt) bisa diklik untuk melihat hasil tampilan website nya\n",
        "!npx localtunnel --port 8501"
      ]
    }
  ],
  "metadata": {
    "colab": {
      "provenance": []
    },
    "kernelspec": {
      "display_name": "Python 3",
      "name": "python3"
    },
    "language_info": {
      "name": "python"
    }
  },
  "nbformat": 4,
  "nbformat_minor": 0
}
