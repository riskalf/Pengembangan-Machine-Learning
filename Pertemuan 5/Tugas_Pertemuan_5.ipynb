{
  "cells": [
    {
      "cell_type": "markdown",
      "metadata": {
        "id": "bUf7uD-v6Y1f"
      },
      "source": [
        "## Persiapan Streamlit"
      ]
    },
    {
      "cell_type": "code",
      "source": [
        "# Menghubungkan Google Drive agar bisa akses folder project\n",
        "from google.colab import drive\n",
        "drive.mount('/content/drive')"
      ],
      "metadata": {
        "colab": {
          "base_uri": "https://localhost:8080/"
        },
        "id": "KlOIKApvuiiM",
        "outputId": "594e772d-e353-40e6-b136-3a2a32044250"
      },
      "execution_count": 57,
      "outputs": [
        {
          "output_type": "stream",
          "name": "stdout",
          "text": [
            "Drive already mounted at /content/drive; to attempt to forcibly remount, call drive.mount(\"/content/drive\", force_remount=True).\n"
          ]
        }
      ]
    },
    {
      "cell_type": "code",
      "execution_count": 58,
      "metadata": {
        "id": "WlvI0uDLo60H",
        "colab": {
          "base_uri": "https://localhost:8080/"
        },
        "outputId": "a2521324-1a31-4ec5-f9d6-472e8316b3fc"
      },
      "outputs": [
        {
          "output_type": "stream",
          "name": "stdout",
          "text": [
            "/content/drive/MyDrive/Pengembangan_Machine_Learning/Tugas_5\n"
          ]
        }
      ],
      "source": [
        "# Masuk ke direktori folder project yang sudah dibuat di Google Drive\n",
        "%cd /content/drive/MyDrive/Pengembangan_Machine_Learning/Tugas_5/"
      ]
    },
    {
      "cell_type": "code",
      "source": [
        "# Membuat file requirements.txt\n",
        "%%writefile requirements.txt\n",
        "# Berikut adalah daftar library yang akan digunakan dalam project ini\n",
        "streamlit"
      ],
      "metadata": {
        "id": "0QI5cEX1FZPG",
        "colab": {
          "base_uri": "https://localhost:8080/"
        },
        "outputId": "4799a593-9fa5-47be-978c-e7c30b7c8b74"
      },
      "execution_count": 59,
      "outputs": [
        {
          "output_type": "stream",
          "name": "stdout",
          "text": [
            "Overwriting requirements.txt\n"
          ]
        }
      ]
    },
    {
      "cell_type": "code",
      "source": [
        "# Menampilkan daftar file dan folder yang ada di dalam folder project\n",
        "!ls"
      ],
      "metadata": {
        "id": "He4D9HGhFa_y",
        "colab": {
          "base_uri": "https://localhost:8080/"
        },
        "outputId": "a26dba7b-b761-457e-c19b-6da7eb189e5a"
      },
      "execution_count": 60,
      "outputs": [
        {
          "output_type": "stream",
          "name": "stdout",
          "text": [
            "Beranda.py  node_modules  package-lock.json  requirements.txt\n",
            "logs.txt    package.json  pages\n"
          ]
        }
      ]
    },
    {
      "cell_type": "code",
      "source": [
        "# Menampilkan isi file requirements.txt\n",
        "!cat requirements.txt"
      ],
      "metadata": {
        "id": "bwQqVrsaFfhd",
        "colab": {
          "base_uri": "https://localhost:8080/"
        },
        "outputId": "e61fecce-478f-495c-9281-fd615f09b99e"
      },
      "execution_count": 61,
      "outputs": [
        {
          "output_type": "stream",
          "name": "stdout",
          "text": [
            "# Berikut adalah daftar library yang akan digunakan dalam project ini\n",
            "streamlit\n"
          ]
        }
      ]
    },
    {
      "cell_type": "code",
      "source": [
        "# Menginstall semua library yang sudah ditulis di requirements.txt\n",
        "!pip install -q -r requirements.txt"
      ],
      "metadata": {
        "id": "oHS2JVqYFkbb"
      },
      "execution_count": 62,
      "outputs": []
    },
    {
      "cell_type": "code",
      "execution_count": 63,
      "metadata": {
        "id": "1zyxZfx0o-Bp",
        "colab": {
          "base_uri": "https://localhost:8080/"
        },
        "outputId": "72529c9a-e99d-4776-c4d1-5a3699ac1d7e"
      },
      "outputs": [
        {
          "output_type": "stream",
          "name": "stdout",
          "text": [
            "streamlit                             1.45.1\n"
          ]
        }
      ],
      "source": [
        "# Mengecek apakah streamlit sudah berhasil diinstall\n",
        "!pip list | grep streamlit"
      ]
    },
    {
      "cell_type": "code",
      "execution_count": 64,
      "metadata": {
        "id": "VdSqmROmo-_Y"
      },
      "outputs": [],
      "source": [
        "# Menginstall library streamlit secara diam-diam (tanpa banyak output)\n",
        "!pip install streamlit -q"
      ]
    },
    {
      "cell_type": "markdown",
      "source": [
        "## Buat File Beranda.py"
      ],
      "metadata": {
        "id": "sFw9yT5OFsQ-"
      }
    },
    {
      "cell_type": "code",
      "execution_count": 65,
      "metadata": {
        "id": "q2GcvoeHpB_o",
        "colab": {
          "base_uri": "https://localhost:8080/"
        },
        "outputId": "c20f2d7f-0015-4be2-ff3a-7f6e16c98ccb"
      },
      "outputs": [
        {
          "output_type": "stream",
          "name": "stdout",
          "text": [
            "Overwriting Beranda.py\n"
          ]
        }
      ],
      "source": [
        "%%writefile Beranda.py\n",
        "import streamlit as st\n",
        "\n",
        "# ------------------------------\n",
        "# 🍽️ Web Aplikasi Nutrisi - Beranda\n",
        "# ------------------------------\n",
        "\n",
        "st.set_page_config(page_title=\"Aplikasi Nutrisi | Pertemuan 5\", layout=\"centered\")\n",
        "\n",
        "st.title(\"Menampilkan Data pada Aplikasi Web\")\n",
        "\n",
        "st.markdown(\"\"\"Melalui aplikasi ini, kami mencoba menyajikan informasi data nutrisi berbagai makanan dan minuman dengan tampilan yang mudah dipahami. Fokus dari tugas ini adalah bagaimana data dapat disajikan secara informatif dalam bentuk:\n",
        "\n",
        "- **Tabel**: untuk menampilkan data lengkap secara terstruktur.\n",
        "- **Metrik**: untuk merangkum informasi penting seperti jumlah item atau rata-rata kandungan nutrisi.\n",
        "- **JSON**: sebagai representasi data dalam format yang umum digunakan untuk pertukaran data antar sistem.\n",
        "\n",
        "Navigasikan ke menu **'Tugas Pertemuan 5'** di sebelah kiri untuk melihat hasil implementasinya secara langsung.\n",
        "\"\"\")\n",
        "\n",
        "st.caption(\"Dibuat oleh Riska Alifia Putri | Tugas Pertemuan 5\")\n"
      ]
    },
    {
      "cell_type": "code",
      "source": [
        "# Menampilkan lokasi folder kerja kita saat ini (singkatan dari \"print working directory\")\n",
        "!pwd"
      ],
      "metadata": {
        "id": "Y1xnhI7oFwUi",
        "colab": {
          "base_uri": "https://localhost:8080/"
        },
        "outputId": "f7dbf9ac-b683-42fb-8a22-993586be24b5"
      },
      "execution_count": 66,
      "outputs": [
        {
          "output_type": "stream",
          "name": "stdout",
          "text": [
            "/content/drive/MyDrive/Pengembangan_Machine_Learning/Tugas_5\n"
          ]
        }
      ]
    },
    {
      "cell_type": "code",
      "execution_count": 67,
      "metadata": {
        "id": "ehortH0hpMiz",
        "colab": {
          "base_uri": "https://localhost:8080/"
        },
        "outputId": "6aa2568f-ac90-4f64-db6f-8eda52f189bb"
      },
      "outputs": [
        {
          "output_type": "stream",
          "name": "stdout",
          "text": [
            "Beranda.py  node_modules  package-lock.json  requirements.txt\n",
            "logs.txt    package.json  pages\n"
          ]
        }
      ],
      "source": [
        "# Menampilkan daftar file dan folder yang ada di dalam folder projek saat ini\n",
        "!ls"
      ]
    },
    {
      "cell_type": "markdown",
      "source": [
        "## Mengecek Isi Beranda.py"
      ],
      "metadata": {
        "id": "r_bccU850T3z"
      }
    },
    {
      "cell_type": "code",
      "source": [
        "!cat Beranda.py"
      ],
      "metadata": {
        "id": "pxVnrd270YCK",
        "colab": {
          "base_uri": "https://localhost:8080/"
        },
        "outputId": "dc73f1c2-8199-405e-bba4-a7988ed161a2"
      },
      "execution_count": 68,
      "outputs": [
        {
          "output_type": "stream",
          "name": "stdout",
          "text": [
            "import streamlit as st\n",
            "\n",
            "# ------------------------------\n",
            "# 🍽️ Web Aplikasi Nutrisi - Beranda\n",
            "# ------------------------------\n",
            "\n",
            "st.set_page_config(page_title=\"Aplikasi Nutrisi | Pertemuan 5\", layout=\"centered\")\n",
            "\n",
            "st.title(\"Menampilkan Data pada Aplikasi Web\")\n",
            "\n",
            "st.markdown(\"\"\"Melalui aplikasi ini, kami mencoba menyajikan informasi data nutrisi berbagai makanan dan minuman dengan tampilan yang mudah dipahami. Fokus dari tugas ini adalah bagaimana data dapat disajikan secara informatif dalam bentuk:\n",
            "\n",
            "- **Tabel**: untuk menampilkan data lengkap secara terstruktur.\n",
            "- **Metrik**: untuk merangkum informasi penting seperti jumlah item atau rata-rata kandungan nutrisi.\n",
            "- **JSON**: sebagai representasi data dalam format yang umum digunakan untuk pertukaran data antar sistem.  \n",
            "\n",
            "Navigasikan ke menu **'Tugas Pertemuan 5'** di sebelah kiri untuk melihat hasil implementasinya secara langsung.\n",
            "\"\"\")\n",
            "\n",
            "st.caption(\"Dibuat oleh Riska Alifia Putri | Tugas Pertemuan 5\")\n"
          ]
        }
      ]
    },
    {
      "cell_type": "markdown",
      "source": [
        "## Buat Direktori Pages"
      ],
      "metadata": {
        "id": "RjG4ibb9F0p6"
      }
    },
    {
      "cell_type": "code",
      "execution_count": 69,
      "metadata": {
        "id": "EtthnVTEpJ7t",
        "colab": {
          "base_uri": "https://localhost:8080/"
        },
        "outputId": "115072de-e909-4180-be7a-16f5108f6e05"
      },
      "outputs": [
        {
          "output_type": "stream",
          "name": "stdout",
          "text": [
            "mkdir: cannot create directory ‘pages’: File exists\n"
          ]
        }
      ],
      "source": [
        "# Membuat folder baru bernama 'pages' untuk menyimpan file-file halaman lain di side bar\n",
        "!mkdir pages"
      ]
    },
    {
      "cell_type": "code",
      "source": [
        "# Menampilkan daftar semua file dan folder di direktori saat ini\n",
        "!ls"
      ],
      "metadata": {
        "id": "orQZ8r3EF843",
        "colab": {
          "base_uri": "https://localhost:8080/"
        },
        "outputId": "a94bf94d-4729-4ada-8b4a-4c8f7557af94"
      },
      "execution_count": 70,
      "outputs": [
        {
          "output_type": "stream",
          "name": "stdout",
          "text": [
            "Beranda.py  node_modules  package-lock.json  requirements.txt\n",
            "logs.txt    package.json  pages\n"
          ]
        }
      ]
    },
    {
      "cell_type": "code",
      "execution_count": 71,
      "metadata": {
        "id": "1EnvvMCRpSnf",
        "colab": {
          "base_uri": "https://localhost:8080/"
        },
        "outputId": "54506b2d-2286-4ba7-dcc7-8f6e494b39be"
      },
      "outputs": [
        {
          "output_type": "stream",
          "name": "stdout",
          "text": [
            "Contoh_Pertemuan_5.py  Latihan_Pertemuan_5.py  Tugas_Pertemuan_5.py\n"
          ]
        }
      ],
      "source": [
        "# Menampilkan isi folder 'pages' untuk memastikan file sudah masuk ke sana\n",
        "!ls pages"
      ]
    },
    {
      "cell_type": "markdown",
      "metadata": {
        "id": "Tsrn4o2n2wDZ"
      },
      "source": [
        "## Pertemuan 5"
      ]
    },
    {
      "cell_type": "code",
      "execution_count": 72,
      "metadata": {
        "id": "ndX7JoiA2pVY",
        "colab": {
          "base_uri": "https://localhost:8080/"
        },
        "outputId": "0f72d074-7c79-4582-c264-71063d97b030"
      },
      "outputs": [
        {
          "output_type": "stream",
          "name": "stdout",
          "text": [
            "Overwriting pages/Contoh_Pertemuan_5.py\n"
          ]
        }
      ],
      "source": [
        "%%writefile pages/Contoh_Pertemuan_5.py\n",
        "# Import pustaka yang diperlukan\n",
        "import streamlit as st\n",
        "import pandas as pd\n",
        "import numpy as np\n",
        "\n",
        "# Membuat DataFrame\n",
        "data = {\n",
        "    'Name': ['Alice', 'Bob', 'Charlie'],\n",
        "    'Age': [25, 30, 35],\n",
        "    'City': ['New York', 'Los Angeles', 'Chicago']\n",
        "}\n",
        "df = pd.DataFrame(data)\n",
        "\n",
        "# Menampilkan DataFrame dengan st.dataframe()\n",
        "st.write(\"Menampilkan DataFrame dengan st.dataframe()\")\n",
        "st.dataframe(df, width=700, height=300)\n",
        "\n",
        "# Menampilkan tabel menggunakan st.table()\n",
        "st.write(\"Menampilkan tabel menggunakan st.table()\")\n",
        "st.table(df)\n",
        "\n",
        "# Menampilkan tabel menggunakan st.metric()\n",
        "st.write(\"Menampilkan tabel menggunakan Metrik\")\n",
        "df_metric = pd.DataFrame(np.random.randn(10, 5), columns=(\"col %d\" % i for i in range(5)))\n",
        "st.table(df_metric)\n",
        "\n",
        "# Menampilkan editor data\n",
        "st.write(\"Menampilkan tabel dengan editor data\")\n",
        "edited_df = st.data_editor(df, use_container_width=True)\n",
        "\n",
        "# Menampilkan data yang telah diedit\n",
        "st.write(\"Edited DataFrame:\")\n",
        "st.write(edited_df)\n",
        "\n",
        "# Data JSON\n",
        "st.write(\"Menampilkan data json\")\n",
        "data_json = {\n",
        "    \"name\": \"Alice\",\n",
        "    \"age\": 25,\n",
        "    \"city\": \"New York\",\n",
        "    \"employed\": True\n",
        "}\n",
        "# Menampilkan data JSON menggunakan st.json()\n",
        "st.json(data_json)\n",
        "\n",
        "# Menampilkan tabel dengan editor data untuk column config\n",
        "st.write(\"Menampilkan tabel dengan editor data untuk column config\")\n",
        "# Konfigurasi kolom menggunakan st.column_config\n",
        "df = st.data_editor(\n",
        "    df,\n",
        "    column_config={\n",
        "        'Age': st.column_config.NumberColumn(format=\"%.0f\"),  # Format angka tanpa desimal\n",
        "        'City': st.column_config.SelectboxColumn(options=[\"New York\", \"Los Angeles\", \"Chicago\"]),  # Pilihan untuk kolom City\n",
        "        'Employed': st.column_config.CheckboxColumn(),  # Kolom checkbox untuk status pekerjaan\n",
        "    }\n",
        ")\n",
        "\n",
        "# Menampilkan hasil edit data\n",
        "st.write(\"Edited DataFrame:\")\n",
        "st.write(df)"
      ]
    },
    {
      "cell_type": "code",
      "execution_count": 73,
      "metadata": {
        "id": "fbbfmP4H4UVQ"
      },
      "outputs": [],
      "source": [
        "# Membaca dataset .csv yang sudah diunduh\n",
        "import pandas as pd\n",
        "df = pd.read_csv('/content/drive/MyDrive/Colab Notebooks/Pengembangan Machine Learning/asset/Iris.csv')"
      ]
    },
    {
      "cell_type": "code",
      "source": [
        "# Menampilkan informasi ringkas tentang struktur DataFrame\n",
        "df.info()"
      ],
      "metadata": {
        "id": "BmwRiMM-Plcr",
        "colab": {
          "base_uri": "https://localhost:8080/"
        },
        "outputId": "4250d83f-15f0-48f9-cf18-d047122f787c"
      },
      "execution_count": 74,
      "outputs": [
        {
          "output_type": "stream",
          "name": "stdout",
          "text": [
            "<class 'pandas.core.frame.DataFrame'>\n",
            "RangeIndex: 150 entries, 0 to 149\n",
            "Data columns (total 6 columns):\n",
            " #   Column         Non-Null Count  Dtype  \n",
            "---  ------         --------------  -----  \n",
            " 0   Id             150 non-null    int64  \n",
            " 1   SepalLengthCm  150 non-null    float64\n",
            " 2   SepalWidthCm   150 non-null    float64\n",
            " 3   PetalLengthCm  150 non-null    float64\n",
            " 4   PetalWidthCm   150 non-null    float64\n",
            " 5   Species        150 non-null    object \n",
            "dtypes: float64(4), int64(1), object(1)\n",
            "memory usage: 7.2+ KB\n"
          ]
        }
      ]
    },
    {
      "cell_type": "code",
      "execution_count": 75,
      "metadata": {
        "id": "OrMtyuwM5PtX",
        "colab": {
          "base_uri": "https://localhost:8080/"
        },
        "outputId": "d634bd20-0a29-42ac-82a9-383495cbbc46"
      },
      "outputs": [
        {
          "output_type": "stream",
          "name": "stdout",
          "text": [
            "Overwriting pages/Latihan_Pertemuan_5.py\n"
          ]
        }
      ],
      "source": [
        "%%writefile pages/Latihan_Pertemuan_5.py\n",
        "import streamlit as st\n",
        "import pandas as pd\n",
        "\n",
        "# Membaca data CSV\n",
        "file_path = '/content/drive/MyDrive/Colab Notebooks/Pengembangan Machine Learning/asset/Iris.csv'\n",
        "df = pd.read_csv(file_path)\n",
        "\n",
        "# Menyiapkan tab\n",
        "tabs = st.tabs([\"Tabel\", \"Metrik\", \"JSON\"])\n",
        "\n",
        "# Tab 1 - Tabel\n",
        "with tabs[0]:\n",
        "    st.header(\"Tabel Dataset Iris\")\n",
        "    st.dataframe(df)  # Lebih interaktif daripada st.table\n",
        "\n",
        "# Tab 2 - Metrik\n",
        "with tabs[1]:\n",
        "    st.header(\"Metrik Dataset Iris\")\n",
        "\n",
        "    # Metrik 1: Rata-rata Sepal Length\n",
        "    avg_sepal_length = df['SepalLengthCm'].mean()\n",
        "    st.metric(label=\"Rata-rata Sepal Length\", value=f\"{avg_sepal_length:.2f} cm\")\n",
        "\n",
        "    # Metrik 2: Rata-rata Petal Length\n",
        "    avg_petal_length = df['PetalLengthCm'].mean()\n",
        "    st.metric(label=\"Rata-rata Petal Length\", value=f\"{avg_petal_length:.2f} cm\")\n",
        "\n",
        "    # Metrik 3: Jumlah Spesies\n",
        "    species_count = df['Species'].nunique()\n",
        "    st.metric(label=\"Jumlah Spesies\", value=f\"{species_count} spesies\")\n",
        "\n",
        "# Tab 3 - JSON\n",
        "with tabs[2]:\n",
        "    st.header(\"Data Iris dalam Format JSON\")\n",
        "    st.json(df.to_dict(orient='records'))"
      ]
    },
    {
      "cell_type": "code",
      "source": [
        "# Membaca dataset .csv yang sudah diunduh\n",
        "df = pd.read_csv('/content/drive/MyDrive/Colab Notebooks/Pengembangan Machine Learning/asset/nutrition.csv')"
      ],
      "metadata": {
        "id": "q74LK330JaST"
      },
      "execution_count": 76,
      "outputs": []
    },
    {
      "cell_type": "code",
      "source": [
        "# Menampilkan informasi ringkas tentang struktur DataFrame\n",
        "df.info()"
      ],
      "metadata": {
        "id": "vn-4ein7JRsZ",
        "colab": {
          "base_uri": "https://localhost:8080/"
        },
        "outputId": "8036b59c-79b3-4b9b-f741-2941955ac99a"
      },
      "execution_count": 77,
      "outputs": [
        {
          "output_type": "stream",
          "name": "stdout",
          "text": [
            "<class 'pandas.core.frame.DataFrame'>\n",
            "RangeIndex: 1346 entries, 0 to 1345\n",
            "Data columns (total 7 columns):\n",
            " #   Column        Non-Null Count  Dtype  \n",
            "---  ------        --------------  -----  \n",
            " 0   id            1346 non-null   int64  \n",
            " 1   calories      1346 non-null   float64\n",
            " 2   proteins      1346 non-null   float64\n",
            " 3   fat           1346 non-null   float64\n",
            " 4   carbohydrate  1346 non-null   float64\n",
            " 5   name          1346 non-null   object \n",
            " 6   image         1346 non-null   object \n",
            "dtypes: float64(4), int64(1), object(2)\n",
            "memory usage: 73.7+ KB\n"
          ]
        }
      ]
    },
    {
      "cell_type": "code",
      "execution_count": 78,
      "metadata": {
        "id": "rHdd6sjx558z",
        "colab": {
          "base_uri": "https://localhost:8080/"
        },
        "outputId": "fa0cfc8e-2859-427d-ebe4-164bbae56f57"
      },
      "outputs": [
        {
          "output_type": "stream",
          "name": "stdout",
          "text": [
            "Overwriting pages/Tugas_Pertemuan_5.py\n"
          ]
        }
      ],
      "source": [
        "%%writefile pages/Tugas_Pertemuan_5.py\n",
        "import streamlit as st\n",
        "import pandas as pd\n",
        "import json\n",
        "\n",
        "st.set_page_config(page_title=\"Nutrition Dashboard\", layout=\"wide\")\n",
        "\n",
        "# Judul\n",
        "st.title(\"Indonesian Food & Drink Nutrition Explorer 🍲\")\n",
        "\n",
        "# Load data\n",
        "@st.cache_data\n",
        "def load_data():\n",
        "    file_path = '/content/drive/MyDrive/Colab Notebooks/Pengembangan Machine Learning/asset/nutrition.csv'\n",
        "    df = pd.read_csv(file_path)\n",
        "    df.fillna(\"-\", inplace=True)\n",
        "    return df\n",
        "\n",
        "df = load_data()\n",
        "\n",
        "# Tabs\n",
        "tab1, tab2, tab3 = st.tabs([\"📊 Tabel\", \"📈 Metrics\", \"🧾 JSON\"])\n",
        "\n",
        "# Tab 1: Tabel\n",
        "with tab1:\n",
        "    st.subheader(\"Tabel Data Nutrisi\")\n",
        "    with st.expander(\"Klik untuk melihat deskripsi kolom\"):\n",
        "        st.markdown(\"\"\"\n",
        "          - **name**: Nama makanan atau minuman\n",
        "          - **calories**: Jumlah kalori (kcal)\n",
        "          - **proteins**: Kandungan protein (gram)\n",
        "          - **fat**: Kandungan lemak (gram)\n",
        "          - **carbohydrate**: Kandungan karbohidrat (gram)\n",
        "          \"\"\")\n",
        "\n",
        "    st.dataframe(df, use_container_width=True)\n",
        "\n",
        "# Tab 2: Metrics\n",
        "with tab2:\n",
        "    st.subheader(\"Metriks Rata-rata Kandungan Nutrisi\")\n",
        "    # Baris pertama: Kalori dan Protein\n",
        "    col1, col2 = st.columns(2)\n",
        "    col1.metric(\"Kalori (avg)\", f\"{df['calories'].mean():.2f} kcal\")\n",
        "    col2.metric(\"Protein (avg)\", f\"{df['proteins'].mean():.2f} g\")\n",
        "\n",
        "    # Baris kedua: Lemak dan Karbohidrat\n",
        "    col3, col4 = st.columns(2)\n",
        "    col3.metric(\"Lemak (avg)\", f\"{df['fat'].mean():.2f} g\")\n",
        "    col4.metric(\"Karbohidrat (avg)\", f\"{df['carbohydrate'].mean():.2f} g\")\n",
        "\n",
        "\n",
        "# Tab 3: JSON\n",
        "with tab3:\n",
        "    st.subheader(\"Data Nutrisi dalam Format JSON\")\n",
        "    json_data = df.to_dict(orient=\"records\")\n",
        "    st.json(json_data, expanded=False)\n"
      ]
    },
    {
      "cell_type": "markdown",
      "metadata": {
        "id": "k4pIIyd86nzn"
      },
      "source": [
        "## Deployment"
      ]
    },
    {
      "cell_type": "code",
      "source": [
        "!npm uninstall localtunnel\n",
        "!npm install localtunnel"
      ],
      "metadata": {
        "id": "m3_PvUwaGfTr",
        "colab": {
          "base_uri": "https://localhost:8080/"
        },
        "outputId": "ba225630-0e45-46da-d4f2-0fe9c2aef416"
      },
      "execution_count": 79,
      "outputs": [
        {
          "output_type": "stream",
          "name": "stdout",
          "text": [
            "\u001b[1G\u001b[0K⠙\u001b[1G\u001b[0K⠹\u001b[1G\u001b[0K⠸\u001b[1G\u001b[0K⠼\u001b[1G\u001b[0K⠴\u001b[1G\u001b[0K⠦\u001b[1G\u001b[0K⠧\u001b[1G\u001b[0K⠇\u001b[1G\u001b[0K⠏\u001b[1G\u001b[0K⠋\u001b[1G\u001b[0K⠙\u001b[1G\u001b[0K\n",
            "removed 22 packages, and audited 1 package in 1s\n",
            "\u001b[1G\u001b[0K⠙\u001b[1G\u001b[0K\n",
            "found \u001b[32m\u001b[1m0\u001b[22m\u001b[39m vulnerabilities\n",
            "\u001b[1G\u001b[0K⠙\u001b[1G\u001b[0K\u001b[1G\u001b[0K⠙\u001b[1G\u001b[0K⠹\u001b[1G\u001b[0K⠸\u001b[1G\u001b[0K⠼\u001b[1G\u001b[0K⠴\u001b[1G\u001b[0K⠦\u001b[1G\u001b[0K⠧\u001b[1G\u001b[0K⠇\u001b[1G\u001b[0K⠏\u001b[1G\u001b[0K⠋\u001b[1G\u001b[0K⠙\u001b[1G\u001b[0K⠹\u001b[1G\u001b[0K⠸\u001b[1G\u001b[0K⠼\u001b[1G\u001b[0K⠴\u001b[1G\u001b[0K⠦\u001b[1G\u001b[0K⠧\u001b[1G\u001b[0K⠇\u001b[1G\u001b[0K⠏\u001b[1G\u001b[0K⠋\u001b[1G\u001b[0K⠙\u001b[1G\u001b[0K⠹\u001b[1G\u001b[0K⠸\u001b[1G\u001b[0K⠼\u001b[1G\u001b[0K⠴\u001b[1G\u001b[0K⠦\u001b[1G\u001b[0K⠧\u001b[1G\u001b[0K⠇\u001b[1G\u001b[0K⠏\u001b[1G\u001b[0K⠋\u001b[1G\u001b[0K⠙\u001b[1G\u001b[0K⠹\u001b[1G\u001b[0K⠸\u001b[1G\u001b[0K⠼\u001b[1G\u001b[0K⠴\u001b[1G\u001b[0K⠦\u001b[1G\u001b[0K⠧\u001b[1G\u001b[0K⠇\u001b[1G\u001b[0K\n",
            "added 22 packages, and audited 23 packages in 3s\n",
            "\u001b[1G\u001b[0K⠇\u001b[1G\u001b[0K\n",
            "\u001b[1G\u001b[0K⠇\u001b[1G\u001b[0K3 packages are looking for funding\n",
            "\u001b[1G\u001b[0K⠇\u001b[1G\u001b[0K  run `npm fund` for details\n",
            "\u001b[1G\u001b[0K⠇\u001b[1G\u001b[0K\n",
            "2 \u001b[31m\u001b[1mhigh\u001b[22m\u001b[39m severity vulnerabilities\n",
            "\n",
            "To address all issues, run:\n",
            "  npm audit fix\n",
            "\n",
            "Run `npm audit` for details.\n",
            "\u001b[1G\u001b[0K⠇\u001b[1G\u001b[0K"
          ]
        }
      ]
    },
    {
      "cell_type": "code",
      "source": [
        "# Menampilkan direktori kerja saat ini (lokasi folder tempat kita bekerja)\n",
        "!pwd"
      ],
      "metadata": {
        "id": "1QkFzxI1GhDc",
        "colab": {
          "base_uri": "https://localhost:8080/"
        },
        "outputId": "d176448e-bbc6-42af-c6f4-003b109cc315"
      },
      "execution_count": 80,
      "outputs": [
        {
          "output_type": "stream",
          "name": "stdout",
          "text": [
            "/content/drive/MyDrive/Pengembangan_Machine_Learning/Tugas_5\n"
          ]
        }
      ]
    },
    {
      "cell_type": "code",
      "source": [
        "# Menjalankan aplikasi Streamlit\n",
        "!streamlit run /content/drive/MyDrive/Pengembangan_Machine_Learning/Tugas_5/Beranda.py &>/content/drive/MyDrive/Pengembangan_Machine_Learning/Tugas_5/logs.txt &"
      ],
      "metadata": {
        "id": "CvKsDBl4GkC2"
      },
      "execution_count": 81,
      "outputs": []
    },
    {
      "cell_type": "code",
      "source": [
        "# Menampilkan isi file log (berisi info hasil menjalankan Streamlit)\n",
        "!timeout 30 cat /content/drive/MyDrive/Pengembangan_Machine_Learning/Tugas_5/logs.txt"
      ],
      "metadata": {
        "id": "bMinbNp1T39u"
      },
      "execution_count": 82,
      "outputs": []
    },
    {
      "cell_type": "code",
      "source": [
        "# Mengecek alamat IP publik (Outputnya dipakai sebagai Password Tunnel)\n",
        "import requests\n",
        "requests.get('https://api.ipify.org').text"
      ],
      "metadata": {
        "id": "4e3bnAGuGol5",
        "colab": {
          "base_uri": "https://localhost:8080/",
          "height": 36
        },
        "outputId": "791e9052-2da0-4dae-aa78-631e0c0beccd"
      },
      "execution_count": 83,
      "outputs": [
        {
          "output_type": "execute_result",
          "data": {
            "text/plain": [
              "'34.80.180.239'"
            ],
            "application/vnd.google.colaboratory.intrinsic+json": {
              "type": "string"
            }
          },
          "metadata": {},
          "execution_count": 83
        }
      ]
    },
    {
      "cell_type": "code",
      "source": [
        "# Membuka localtunnel di port 8501 (port default Streamlit)\n",
        "# Alamat url yang muncul (misalnya: https://hungry-actors-fetch.loca.lt) bisa diklik untuk melihat hasil tampilan website nya\n",
        "!npx localtunnel --port 8501"
      ],
      "metadata": {
        "colab": {
          "base_uri": "https://localhost:8080/"
        },
        "id": "oVV37RKqGqPg",
        "outputId": "c2d0fbcb-08af-44b1-e660-4c6d1be8c0c0"
      },
      "execution_count": null,
      "outputs": [
        {
          "output_type": "stream",
          "name": "stdout",
          "text": [
            "\u001b[1G\u001b[0K⠙\u001b[1G\u001b[0K⠹\u001b[1G\u001b[0Kyour url is: https://funny-doodles-grin.loca.lt\n"
          ]
        }
      ]
    }
  ],
  "metadata": {
    "colab": {
      "provenance": []
    },
    "kernelspec": {
      "display_name": "Python 3",
      "name": "python3"
    },
    "language_info": {
      "name": "python"
    }
  },
  "nbformat": 4,
  "nbformat_minor": 0
}