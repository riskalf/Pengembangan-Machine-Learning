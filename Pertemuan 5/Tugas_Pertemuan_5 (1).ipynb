{
  "cells": [
    {
      "cell_type": "markdown",
      "metadata": {
        "id": "bUf7uD-v6Y1f"
      },
      "source": [
        "## Menginstall Library Streamlit"
      ]
    },
    {
      "cell_type": "code",
      "execution_count": 1,
      "metadata": {
        "colab": {
          "base_uri": "https://localhost:8080/"
        },
        "id": "KlOIKApvuiiM",
        "outputId": "69b6b559-88c9-4da0-8418-d7490cf6a18f"
      },
      "outputs": [
        {
          "output_type": "stream",
          "name": "stdout",
          "text": [
            "Mounted at /content/drive\n"
          ]
        }
      ],
      "source": [
        "# Menghubungkan Google Drive agar bisa akses folder project\n",
        "from google.colab import drive\n",
        "drive.mount('/content/drive')"
      ]
    },
    {
      "cell_type": "code",
      "execution_count": 2,
      "metadata": {
        "colab": {
          "base_uri": "https://localhost:8080/"
        },
        "id": "WlvI0uDLo60H",
        "outputId": "0972bb42-3f44-4953-dd3f-d86aa60508cd"
      },
      "outputs": [
        {
          "output_type": "stream",
          "name": "stdout",
          "text": [
            "/content/drive/MyDrive/Pengembangan_Machine_Learning/Tugas_5\n"
          ]
        }
      ],
      "source": [
        "# Masuk ke direktori folder project yang sudah dibuat di Google Drive\n",
        "%cd /content/drive/MyDrive/Pengembangan_Machine_Learning/Tugas_5/"
      ]
    },
    {
      "cell_type": "code",
      "execution_count": 3,
      "metadata": {
        "colab": {
          "base_uri": "https://localhost:8080/"
        },
        "id": "0QI5cEX1FZPG",
        "outputId": "edb71dbf-269b-4e4d-b7b3-50c0b33a58d9"
      },
      "outputs": [
        {
          "output_type": "stream",
          "name": "stdout",
          "text": [
            "Overwriting requirements.txt\n"
          ]
        }
      ],
      "source": [
        "# Membuat file requirements.txt\n",
        "%%writefile requirements.txt\n",
        "# Berikut adalah daftar library yang akan digunakan dalam project ini\n",
        "streamlit"
      ]
    },
    {
      "cell_type": "code",
      "execution_count": 4,
      "metadata": {
        "colab": {
          "base_uri": "https://localhost:8080/"
        },
        "id": "He4D9HGhFa_y",
        "outputId": "b8d592ff-8618-4cb7-b062-5b2afea36644"
      },
      "outputs": [
        {
          "output_type": "stream",
          "name": "stdout",
          "text": [
            "Beranda.py  node_modules  package-lock.json  requirements.txt\n",
            "logs.txt    package.json  pages\n"
          ]
        }
      ],
      "source": [
        "# Menampilkan daftar file dan folder yang ada di dalam folder project\n",
        "!ls"
      ]
    },
    {
      "cell_type": "code",
      "execution_count": 5,
      "metadata": {
        "colab": {
          "base_uri": "https://localhost:8080/"
        },
        "id": "bwQqVrsaFfhd",
        "outputId": "506a0dac-5a70-4639-cfbb-b8511dbb5e7c"
      },
      "outputs": [
        {
          "output_type": "stream",
          "name": "stdout",
          "text": [
            "# Berikut adalah daftar library yang akan digunakan dalam project ini\n",
            "streamlit\n"
          ]
        }
      ],
      "source": [
        "# Menampilkan isi file requirements.txt\n",
        "!cat requirements.txt"
      ]
    },
    {
      "cell_type": "code",
      "execution_count": 6,
      "metadata": {
        "id": "oHS2JVqYFkbb",
        "colab": {
          "base_uri": "https://localhost:8080/"
        },
        "outputId": "1f6da446-7755-48ca-9355-ae51fdaf5c5f"
      },
      "outputs": [
        {
          "output_type": "stream",
          "name": "stdout",
          "text": [
            "\u001b[2K     \u001b[90m━━━━━━━━━━━━━━━━━━━━━━━━━━━━━━━━━━━━━━━━\u001b[0m \u001b[32m44.3/44.3 kB\u001b[0m \u001b[31m1.8 MB/s\u001b[0m eta \u001b[36m0:00:00\u001b[0m\n",
            "\u001b[2K   \u001b[90m━━━━━━━━━━━━━━━━━━━━━━━━━━━━━━━━━━━━━━━━\u001b[0m \u001b[32m9.9/9.9 MB\u001b[0m \u001b[31m71.7 MB/s\u001b[0m eta \u001b[36m0:00:00\u001b[0m\n",
            "\u001b[2K   \u001b[90m━━━━━━━━━━━━━━━━━━━━━━━━━━━━━━━━━━━━━━━━\u001b[0m \u001b[32m6.9/6.9 MB\u001b[0m \u001b[31m114.6 MB/s\u001b[0m eta \u001b[36m0:00:00\u001b[0m\n",
            "\u001b[2K   \u001b[90m━━━━━━━━━━━━━━━━━━━━━━━━━━━━━━━━━━━━━━━━\u001b[0m \u001b[32m79.1/79.1 kB\u001b[0m \u001b[31m6.3 MB/s\u001b[0m eta \u001b[36m0:00:00\u001b[0m\n",
            "\u001b[?25h"
          ]
        }
      ],
      "source": [
        "# Menginstall semua library yang sudah ditulis di requirements.txt\n",
        "!pip install -q -r requirements.txt"
      ]
    },
    {
      "cell_type": "code",
      "execution_count": 7,
      "metadata": {
        "colab": {
          "base_uri": "https://localhost:8080/"
        },
        "id": "1zyxZfx0o-Bp",
        "outputId": "98b449fe-10d9-4505-dc53-d3ddc620ed4c"
      },
      "outputs": [
        {
          "output_type": "stream",
          "name": "stdout",
          "text": [
            "streamlit                             1.45.1\n"
          ]
        }
      ],
      "source": [
        "# Mengecek apakah streamlit sudah berhasil diinstall\n",
        "!pip list | grep streamlit"
      ]
    },
    {
      "cell_type": "code",
      "execution_count": 8,
      "metadata": {
        "id": "VdSqmROmo-_Y"
      },
      "outputs": [],
      "source": [
        "# Menginstall library streamlit secara diam-diam (tanpa banyak output)\n",
        "!pip install streamlit -q"
      ]
    },
    {
      "cell_type": "markdown",
      "metadata": {
        "id": "sFw9yT5OFsQ-"
      },
      "source": [
        "## Membuat File Beranda.py"
      ]
    },
    {
      "cell_type": "code",
      "execution_count": 9,
      "metadata": {
        "colab": {
          "base_uri": "https://localhost:8080/"
        },
        "id": "q2GcvoeHpB_o",
        "outputId": "f3d3eca6-f866-4fc3-dfc4-92939acdc515"
      },
      "outputs": [
        {
          "output_type": "stream",
          "name": "stdout",
          "text": [
            "Overwriting Beranda.py\n"
          ]
        }
      ],
      "source": [
        "%%writefile Beranda.py\n",
        "import streamlit as st\n",
        "\n",
        "# ------------------------------\n",
        "# 🍽️ Web Aplikasi Nutrisi - Beranda\n",
        "# ------------------------------\n",
        "\n",
        "st.set_page_config(page_title=\"Aplikasi Nutrisi | Pertemuan 5\", layout=\"centered\")\n",
        "\n",
        "st.title(\"Menampilkan Data pada Aplikasi Web\")\n",
        "\n",
        "st.markdown(\"\"\"Melalui aplikasi ini, kami mencoba menyajikan informasi data nutrisi berbagai makanan dan minuman dengan tampilan yang mudah dipahami. Fokus dari tugas ini adalah bagaimana data dapat disajikan secara informatif dalam bentuk:\n",
        "\n",
        "- **Tabel**: untuk menampilkan data lengkap secara terstruktur.\n",
        "- **Metrik**: untuk merangkum informasi penting seperti jumlah item atau rata-rata kandungan nutrisi.\n",
        "- **JSON**: sebagai representasi data dalam format yang umum digunakan untuk pertukaran data antar sistem.\n",
        "\n",
        "Navigasikan ke menu **'Tugas Pertemuan 5'** di sebelah kiri untuk melihat hasil implementasinya secara langsung.\n",
        "\"\"\")\n",
        "\n",
        "st.caption(\"Dibuat oleh Riska Alifia Putri | Tugas Pertemuan 5\")\n"
      ]
    },
    {
      "cell_type": "code",
      "execution_count": 10,
      "metadata": {
        "colab": {
          "base_uri": "https://localhost:8080/"
        },
        "id": "Y1xnhI7oFwUi",
        "outputId": "a9eae74b-5d08-4722-c512-fa5832db166f"
      },
      "outputs": [
        {
          "output_type": "stream",
          "name": "stdout",
          "text": [
            "/content/drive/MyDrive/Pengembangan_Machine_Learning/Tugas_5\n"
          ]
        }
      ],
      "source": [
        "# Menampilkan lokasi folder kerja kita saat ini (singkatan dari \"print working directory\")\n",
        "!pwd"
      ]
    },
    {
      "cell_type": "code",
      "execution_count": 11,
      "metadata": {
        "colab": {
          "base_uri": "https://localhost:8080/"
        },
        "id": "ehortH0hpMiz",
        "outputId": "0e17fc67-0a99-4c07-e7f7-d281f5681c18"
      },
      "outputs": [
        {
          "output_type": "stream",
          "name": "stdout",
          "text": [
            "Beranda.py  node_modules  package-lock.json  requirements.txt\n",
            "logs.txt    package.json  pages\n"
          ]
        }
      ],
      "source": [
        "# Menampilkan daftar file dan folder yang ada di dalam folder projek saat ini\n",
        "!ls"
      ]
    },
    {
      "cell_type": "markdown",
      "metadata": {
        "id": "r_bccU850T3z"
      },
      "source": [
        "## Mengecek Isi Beranda.py"
      ]
    },
    {
      "cell_type": "code",
      "execution_count": 12,
      "metadata": {
        "colab": {
          "base_uri": "https://localhost:8080/"
        },
        "id": "pxVnrd270YCK",
        "outputId": "52bffd5c-20ff-4d3c-9e49-8088300b9bfe"
      },
      "outputs": [
        {
          "output_type": "stream",
          "name": "stdout",
          "text": [
            "import streamlit as st\n",
            "\n",
            "# ------------------------------\n",
            "# 🍽️ Web Aplikasi Nutrisi - Beranda\n",
            "# ------------------------------\n",
            "\n",
            "st.set_page_config(page_title=\"Aplikasi Nutrisi | Pertemuan 5\", layout=\"centered\")\n",
            "\n",
            "st.title(\"Menampilkan Data pada Aplikasi Web\")\n",
            "\n",
            "st.markdown(\"\"\"Melalui aplikasi ini, kami mencoba menyajikan informasi data nutrisi berbagai makanan dan minuman dengan tampilan yang mudah dipahami. Fokus dari tugas ini adalah bagaimana data dapat disajikan secara informatif dalam bentuk:\n",
            "\n",
            "- **Tabel**: untuk menampilkan data lengkap secara terstruktur.\n",
            "- **Metrik**: untuk merangkum informasi penting seperti jumlah item atau rata-rata kandungan nutrisi.\n",
            "- **JSON**: sebagai representasi data dalam format yang umum digunakan untuk pertukaran data antar sistem.\n",
            "\n",
            "Navigasikan ke menu **'Tugas Pertemuan 5'** di sebelah kiri untuk melihat hasil implementasinya secara langsung.\n",
            "\"\"\")\n",
            "\n",
            "st.caption(\"Dibuat oleh Riska Alifia Putri | Tugas Pertemuan 5\")\n"
          ]
        }
      ],
      "source": [
        "!cat Beranda.py"
      ]
    },
    {
      "cell_type": "markdown",
      "metadata": {
        "id": "RjG4ibb9F0p6"
      },
      "source": [
        "## Membuat Direktori Pages"
      ]
    },
    {
      "cell_type": "code",
      "execution_count": 13,
      "metadata": {
        "colab": {
          "base_uri": "https://localhost:8080/"
        },
        "id": "EtthnVTEpJ7t",
        "outputId": "0f4e633d-fe9f-4a03-f786-83ac5ce63afa"
      },
      "outputs": [
        {
          "output_type": "stream",
          "name": "stdout",
          "text": [
            "mkdir: cannot create directory ‘pages’: File exists\n"
          ]
        }
      ],
      "source": [
        "# Membuat folder baru bernama 'pages' untuk menyimpan file-file halaman lain di side bar\n",
        "!mkdir pages"
      ]
    },
    {
      "cell_type": "code",
      "execution_count": 14,
      "metadata": {
        "colab": {
          "base_uri": "https://localhost:8080/"
        },
        "id": "orQZ8r3EF843",
        "outputId": "e062cd56-bdb1-4dca-b4cc-490de080a7e8"
      },
      "outputs": [
        {
          "output_type": "stream",
          "name": "stdout",
          "text": [
            "Beranda.py  node_modules  package-lock.json  requirements.txt\n",
            "logs.txt    package.json  pages\n"
          ]
        }
      ],
      "source": [
        "# Menampilkan daftar semua file dan folder di direktori saat ini\n",
        "!ls"
      ]
    },
    {
      "cell_type": "code",
      "execution_count": 15,
      "metadata": {
        "colab": {
          "base_uri": "https://localhost:8080/"
        },
        "id": "1EnvvMCRpSnf",
        "outputId": "b1741201-015b-486c-c6eb-9eed62d307ff"
      },
      "outputs": [
        {
          "output_type": "stream",
          "name": "stdout",
          "text": [
            "Contoh_Pertemuan_5.py  Latihan_Pertemuan_5.py  Tugas_Pertemuan_5.py\n"
          ]
        }
      ],
      "source": [
        "# Menampilkan isi folder 'pages' untuk memastikan file sudah masuk ke sana\n",
        "!ls pages"
      ]
    },
    {
      "cell_type": "markdown",
      "metadata": {
        "id": "Tsrn4o2n2wDZ"
      },
      "source": [
        "## Pertemuan 5"
      ]
    },
    {
      "cell_type": "code",
      "execution_count": 16,
      "metadata": {
        "colab": {
          "base_uri": "https://localhost:8080/"
        },
        "id": "ndX7JoiA2pVY",
        "outputId": "2e166b64-2a1b-4ef5-b122-81373cf69c2d"
      },
      "outputs": [
        {
          "output_type": "stream",
          "name": "stdout",
          "text": [
            "Overwriting pages/Contoh_Pertemuan_5.py\n"
          ]
        }
      ],
      "source": [
        "%%writefile pages/Contoh_Pertemuan_5.py\n",
        "# Import pustaka yang diperlukan\n",
        "import streamlit as st\n",
        "import pandas as pd\n",
        "import numpy as np\n",
        "\n",
        "# Membuat DataFrame\n",
        "data = {\n",
        "    'Name': ['Alice', 'Bob', 'Charlie'],\n",
        "    'Age': [25, 30, 35],\n",
        "    'City': ['New York', 'Los Angeles', 'Chicago']\n",
        "}\n",
        "df = pd.DataFrame(data)\n",
        "\n",
        "# Menampilkan DataFrame dengan st.dataframe()\n",
        "st.write(\"Menampilkan DataFrame dengan st.dataframe()\")\n",
        "st.dataframe(df, width=700, height=300)\n",
        "\n",
        "# Menampilkan tabel menggunakan st.table()\n",
        "st.write(\"Menampilkan tabel menggunakan st.table()\")\n",
        "st.table(df)\n",
        "\n",
        "# Menampilkan tabel menggunakan st.metric()\n",
        "st.write(\"Menampilkan tabel menggunakan Metrik\")\n",
        "df_metric = pd.DataFrame(np.random.randn(10, 5), columns=(\"col %d\" % i for i in range(5)))\n",
        "st.table(df_metric)\n",
        "\n",
        "# Menampilkan editor data\n",
        "st.write(\"Menampilkan tabel dengan editor data\")\n",
        "edited_df = st.data_editor(df, use_container_width=True)\n",
        "\n",
        "# Menampilkan data yang telah diedit\n",
        "st.write(\"Edited DataFrame:\")\n",
        "st.write(edited_df)\n",
        "\n",
        "# Data JSON\n",
        "st.write(\"Menampilkan data json\")\n",
        "data_json = {\n",
        "    \"name\": \"Alice\",\n",
        "    \"age\": 25,\n",
        "    \"city\": \"New York\",\n",
        "    \"employed\": True\n",
        "}\n",
        "# Menampilkan data JSON menggunakan st.json()\n",
        "st.json(data_json)\n",
        "\n",
        "# Menampilkan tabel dengan editor data untuk column config\n",
        "st.write(\"Menampilkan tabel dengan editor data untuk column config\")\n",
        "# Konfigurasi kolom menggunakan st.column_config\n",
        "df = st.data_editor(\n",
        "    df,\n",
        "    column_config={\n",
        "        'Age': st.column_config.NumberColumn(format=\"%.0f\"),  # Format angka tanpa desimal\n",
        "        'City': st.column_config.SelectboxColumn(options=[\"New York\", \"Los Angeles\", \"Chicago\"]),  # Pilihan untuk kolom City\n",
        "        'Employed': st.column_config.CheckboxColumn(),  # Kolom checkbox untuk status pekerjaan\n",
        "    }\n",
        ")\n",
        "\n",
        "# Menampilkan hasil edit data\n",
        "st.write(\"Edited DataFrame:\")\n",
        "st.write(df)"
      ]
    },
    {
      "cell_type": "code",
      "execution_count": 17,
      "metadata": {
        "id": "fbbfmP4H4UVQ"
      },
      "outputs": [],
      "source": [
        "# Membaca dataset .csv yang sudah diunduh\n",
        "import pandas as pd\n",
        "df = pd.read_csv('/content/drive/MyDrive/Colab Notebooks/Pengembangan Machine Learning/asset/Iris.csv')"
      ]
    },
    {
      "cell_type": "code",
      "execution_count": 18,
      "metadata": {
        "colab": {
          "base_uri": "https://localhost:8080/"
        },
        "id": "BmwRiMM-Plcr",
        "outputId": "f2d91004-f3c2-422a-9ba2-38362b3ac0e4"
      },
      "outputs": [
        {
          "output_type": "stream",
          "name": "stdout",
          "text": [
            "<class 'pandas.core.frame.DataFrame'>\n",
            "RangeIndex: 150 entries, 0 to 149\n",
            "Data columns (total 6 columns):\n",
            " #   Column         Non-Null Count  Dtype  \n",
            "---  ------         --------------  -----  \n",
            " 0   Id             150 non-null    int64  \n",
            " 1   SepalLengthCm  150 non-null    float64\n",
            " 2   SepalWidthCm   150 non-null    float64\n",
            " 3   PetalLengthCm  150 non-null    float64\n",
            " 4   PetalWidthCm   150 non-null    float64\n",
            " 5   Species        150 non-null    object \n",
            "dtypes: float64(4), int64(1), object(1)\n",
            "memory usage: 7.2+ KB\n"
          ]
        }
      ],
      "source": [
        "# Menampilkan informasi ringkas tentang struktur DataFrame\n",
        "df.info()"
      ]
    },
    {
      "cell_type": "code",
      "execution_count": 19,
      "metadata": {
        "colab": {
          "base_uri": "https://localhost:8080/"
        },
        "id": "OrMtyuwM5PtX",
        "outputId": "e7999c24-d823-4f73-d12c-c5bf54b382f4"
      },
      "outputs": [
        {
          "output_type": "stream",
          "name": "stdout",
          "text": [
            "Overwriting pages/Latihan_Pertemuan_5.py\n"
          ]
        }
      ],
      "source": [
        "%%writefile pages/Latihan_Pertemuan_5.py\n",
        "import streamlit as st\n",
        "import pandas as pd\n",
        "\n",
        "# Membaca data CSV\n",
        "file_path = '/content/drive/MyDrive/Colab Notebooks/Pengembangan Machine Learning/asset/Iris.csv'\n",
        "df = pd.read_csv(file_path)\n",
        "\n",
        "# Menyiapkan tab\n",
        "tabs = st.tabs([\"Tabel\", \"Metrik\", \"JSON\"])\n",
        "\n",
        "# Tab 1 - Tabel\n",
        "with tabs[0]:\n",
        "    st.header(\"Tabel Dataset Iris\")\n",
        "    st.dataframe(df)  # Lebih interaktif daripada st.table\n",
        "\n",
        "# Tab 2 - Metrik\n",
        "with tabs[1]:\n",
        "    st.header(\"Metrik Dataset Iris\")\n",
        "\n",
        "    # Metrik 1: Rata-rata Sepal Length\n",
        "    avg_sepal_length = df['SepalLengthCm'].mean()\n",
        "    st.metric(label=\"Rata-rata Sepal Length\", value=f\"{avg_sepal_length:.2f} cm\")\n",
        "\n",
        "    # Metrik 2: Rata-rata Petal Length\n",
        "    avg_petal_length = df['PetalLengthCm'].mean()\n",
        "    st.metric(label=\"Rata-rata Petal Length\", value=f\"{avg_petal_length:.2f} cm\")\n",
        "\n",
        "    # Metrik 3: Jumlah Spesies\n",
        "    species_count = df['Species'].nunique()\n",
        "    st.metric(label=\"Jumlah Spesies\", value=f\"{species_count} spesies\")\n",
        "\n",
        "# Tab 3 - JSON\n",
        "with tabs[2]:\n",
        "    st.header(\"Data Iris dalam Format JSON\")\n",
        "    st.json(df.to_dict(orient='records'))"
      ]
    },
    {
      "cell_type": "code",
      "execution_count": 20,
      "metadata": {
        "id": "q74LK330JaST"
      },
      "outputs": [],
      "source": [
        "# Membaca dataset .csv yang sudah diunduh\n",
        "df = pd.read_csv('/content/drive/MyDrive/Colab Notebooks/Pengembangan Machine Learning/asset/nutrition.csv')"
      ]
    },
    {
      "cell_type": "code",
      "execution_count": 21,
      "metadata": {
        "colab": {
          "base_uri": "https://localhost:8080/"
        },
        "id": "vn-4ein7JRsZ",
        "outputId": "5dc0eda7-a4e4-4057-e808-3fabbb5bdaff"
      },
      "outputs": [
        {
          "output_type": "stream",
          "name": "stdout",
          "text": [
            "<class 'pandas.core.frame.DataFrame'>\n",
            "RangeIndex: 1346 entries, 0 to 1345\n",
            "Data columns (total 7 columns):\n",
            " #   Column        Non-Null Count  Dtype  \n",
            "---  ------        --------------  -----  \n",
            " 0   id            1346 non-null   int64  \n",
            " 1   calories      1346 non-null   float64\n",
            " 2   proteins      1346 non-null   float64\n",
            " 3   fat           1346 non-null   float64\n",
            " 4   carbohydrate  1346 non-null   float64\n",
            " 5   name          1346 non-null   object \n",
            " 6   image         1346 non-null   object \n",
            "dtypes: float64(4), int64(1), object(2)\n",
            "memory usage: 73.7+ KB\n"
          ]
        }
      ],
      "source": [
        "# Menampilkan informasi ringkas tentang struktur DataFrame\n",
        "df.info()"
      ]
    },
    {
      "cell_type": "code",
      "execution_count": 22,
      "metadata": {
        "colab": {
          "base_uri": "https://localhost:8080/"
        },
        "id": "rHdd6sjx558z",
        "outputId": "7ed177f4-0e60-4118-f8a1-2414f0429476"
      },
      "outputs": [
        {
          "output_type": "stream",
          "name": "stdout",
          "text": [
            "Overwriting pages/Tugas_Pertemuan_5.py\n"
          ]
        }
      ],
      "source": [
        "%%writefile pages/Tugas_Pertemuan_5.py\n",
        "import streamlit as st\n",
        "import pandas as pd\n",
        "import json\n",
        "\n",
        "st.set_page_config(page_title=\"Nutrition Dashboard\", layout=\"wide\")\n",
        "\n",
        "# Judul\n",
        "st.title(\"Indonesian Food & Drink Nutrition Explorer 🍲\")\n",
        "\n",
        "# Load data\n",
        "@st.cache_data\n",
        "def load_data():\n",
        "    file_path = '/content/drive/MyDrive/Colab Notebooks/Pengembangan Machine Learning/asset/nutrition.csv'\n",
        "    df = pd.read_csv(file_path)\n",
        "    df.fillna(\"-\", inplace=True)\n",
        "    return df\n",
        "\n",
        "df = load_data()\n",
        "\n",
        "# Tabs\n",
        "tab1, tab2, tab3 = st.tabs([\"📊 Tabel\", \"📈 Metrics\", \"🧾 JSON\"])\n",
        "\n",
        "# Tab 1: Tabel\n",
        "with tab1:\n",
        "    st.subheader(\"Tabel Data Nutrisi\")\n",
        "    with st.expander(\"Klik untuk melihat deskripsi kolom\"):\n",
        "        st.markdown(\"\"\"\n",
        "          - **name**: Nama makanan atau minuman\n",
        "          - **calories**: Jumlah kalori (kcal)\n",
        "          - **proteins**: Kandungan protein (gram)\n",
        "          - **fat**: Kandungan lemak (gram)\n",
        "          - **carbohydrate**: Kandungan karbohidrat (gram)\n",
        "          \"\"\")\n",
        "\n",
        "    st.dataframe(df, use_container_width=True)\n",
        "\n",
        "# Tab 2: Metrics\n",
        "with tab2:\n",
        "    st.subheader(\"Metriks Rata-rata Kandungan Nutrisi\")\n",
        "    # Baris pertama: Kalori dan Protein\n",
        "    col1, col2 = st.columns(2)\n",
        "    col1.metric(\"Kalori (avg)\", f\"{df['calories'].mean():.2f} kcal\")\n",
        "    col2.metric(\"Protein (avg)\", f\"{df['proteins'].mean():.2f} g\")\n",
        "\n",
        "    # Baris kedua: Lemak dan Karbohidrat\n",
        "    col3, col4 = st.columns(2)\n",
        "    col3.metric(\"Lemak (avg)\", f\"{df['fat'].mean():.2f} g\")\n",
        "    col4.metric(\"Karbohidrat (avg)\", f\"{df['carbohydrate'].mean():.2f} g\")\n",
        "\n",
        "\n",
        "# Tab 3: JSON\n",
        "with tab3:\n",
        "    st.subheader(\"Data Nutrisi dalam Format JSON\")\n",
        "    json_data = df.to_dict(orient=\"records\")\n",
        "    st.json(json_data, expanded=False)\n"
      ]
    },
    {
      "cell_type": "markdown",
      "metadata": {
        "id": "k4pIIyd86nzn"
      },
      "source": [
        "## Deployment Streamlit"
      ]
    },
    {
      "cell_type": "code",
      "execution_count": 23,
      "metadata": {
        "colab": {
          "base_uri": "https://localhost:8080/"
        },
        "id": "m3_PvUwaGfTr",
        "outputId": "a8e53398-0b52-485b-acac-4726923d499f"
      },
      "outputs": [
        {
          "output_type": "stream",
          "name": "stdout",
          "text": [
            "\u001b[1G\u001b[0K⠙\u001b[1G\u001b[0K⠹\u001b[1G\u001b[0K⠸\u001b[1G\u001b[0K⠼\u001b[1G\u001b[0K⠴\u001b[1G\u001b[0K⠦\u001b[1G\u001b[0K⠧\u001b[1G\u001b[0K⠇\u001b[1G\u001b[0K⠏\u001b[1G\u001b[0K⠋\u001b[1G\u001b[0K⠙\u001b[1G\u001b[0K⠹\u001b[1G\u001b[0K⠸\u001b[1G\u001b[0K⠼\u001b[1G\u001b[0K⠴\u001b[1G\u001b[0K⠦\u001b[1G\u001b[0K⠧\u001b[1G\u001b[0K⠇\u001b[1G\u001b[0K⠏\u001b[1G\u001b[0K⠋\u001b[1G\u001b[0K⠙\u001b[1G\u001b[0K⠹\u001b[1G\u001b[0K⠸\u001b[1G\u001b[0K⠼\u001b[1G\u001b[0K⠴\u001b[1G\u001b[0K⠦\u001b[1G\u001b[0K⠧\u001b[1G\u001b[0K⠇\u001b[1G\u001b[0K⠏\u001b[1G\u001b[0K⠋\u001b[1G\u001b[0K⠙\u001b[1G\u001b[0K⠹\u001b[1G\u001b[0K⠸\u001b[1G\u001b[0K⠼\u001b[1G\u001b[0K⠴\u001b[1G\u001b[0K⠦\u001b[1G\u001b[0K⠧\u001b[1G\u001b[0K⠇\u001b[1G\u001b[0K⠏\u001b[1G\u001b[0K⠋\u001b[1G\u001b[0K⠙\u001b[1G\u001b[0K⠹\u001b[1G\u001b[0K⠸\u001b[1G\u001b[0K⠼\u001b[1G\u001b[0K⠴\u001b[1G\u001b[0K\n",
            "removed 22 packages, and audited 1 package in 5s\n",
            "\u001b[1G\u001b[0K⠴\u001b[1G\u001b[0K\n",
            "found \u001b[32m\u001b[1m0\u001b[22m\u001b[39m vulnerabilities\n",
            "\u001b[1G\u001b[0K⠴\u001b[1G\u001b[0K\u001b[1mnpm\u001b[22m \u001b[96mnotice\u001b[39m\n",
            "\u001b[1mnpm\u001b[22m \u001b[96mnotice\u001b[39m New \u001b[31mmajor\u001b[39m version of npm available! \u001b[31m10.8.2\u001b[39m -> \u001b[34m11.4.1\u001b[39m\n",
            "\u001b[1mnpm\u001b[22m \u001b[96mnotice\u001b[39m Changelog: \u001b[34mhttps://github.com/npm/cli/releases/tag/v11.4.1\u001b[39m\n",
            "\u001b[1mnpm\u001b[22m \u001b[96mnotice\u001b[39m To update run: \u001b[4mnpm install -g npm@11.4.1\u001b[24m\n",
            "\u001b[1mnpm\u001b[22m \u001b[96mnotice\u001b[39m\n",
            "\u001b[1G\u001b[0K⠴\u001b[1G\u001b[0K\u001b[1G\u001b[0K⠙\u001b[1G\u001b[0K⠹\u001b[1G\u001b[0K⠸\u001b[1G\u001b[0K⠼\u001b[1G\u001b[0K⠴\u001b[1G\u001b[0K⠦\u001b[1G\u001b[0K⠧\u001b[1G\u001b[0K⠇\u001b[1G\u001b[0K⠏\u001b[1G\u001b[0K⠋\u001b[1G\u001b[0K⠙\u001b[1G\u001b[0K⠹\u001b[1G\u001b[0K⠸\u001b[1G\u001b[0K⠼\u001b[1G\u001b[0K⠴\u001b[1G\u001b[0K⠦\u001b[1G\u001b[0K⠧\u001b[1G\u001b[0K⠇\u001b[1G\u001b[0K⠏\u001b[1G\u001b[0K⠋\u001b[1G\u001b[0K⠙\u001b[1G\u001b[0K⠹\u001b[1G\u001b[0K⠸\u001b[1G\u001b[0K⠼\u001b[1G\u001b[0K⠴\u001b[1G\u001b[0K⠦\u001b[1G\u001b[0K⠧\u001b[1G\u001b[0K⠇\u001b[1G\u001b[0K⠏\u001b[1G\u001b[0K⠋\u001b[1G\u001b[0K⠙\u001b[1G\u001b[0K⠹\u001b[1G\u001b[0K⠸\u001b[1G\u001b[0K⠼\u001b[1G\u001b[0K⠴\u001b[1G\u001b[0K⠦\u001b[1G\u001b[0K⠧\u001b[1G\u001b[0K⠇\u001b[1G\u001b[0K⠏\u001b[1G\u001b[0K⠋\u001b[1G\u001b[0K⠙\u001b[1G\u001b[0K⠹\u001b[1G\u001b[0K⠸\u001b[1G\u001b[0K⠼\u001b[1G\u001b[0K⠴\u001b[1G\u001b[0K⠦\u001b[1G\u001b[0K⠧\u001b[1G\u001b[0K⠇\u001b[1G\u001b[0K⠏\u001b[1G\u001b[0K⠋\u001b[1G\u001b[0K⠙\u001b[1G\u001b[0K⠹\u001b[1G\u001b[0K⠸\u001b[1G\u001b[0K⠼\u001b[1G\u001b[0K⠴\u001b[1G\u001b[0K⠦\u001b[1G\u001b[0K⠧\u001b[1G\u001b[0K⠇\u001b[1G\u001b[0K⠏\u001b[1G\u001b[0K⠋\u001b[1G\u001b[0K⠙\u001b[1G\u001b[0K⠹\u001b[1G\u001b[0K\n",
            "added 22 packages, and audited 23 packages in 7s\n",
            "\u001b[1G\u001b[0K⠹\u001b[1G\u001b[0K\n",
            "\u001b[1G\u001b[0K⠹\u001b[1G\u001b[0K3 packages are looking for funding\n",
            "\u001b[1G\u001b[0K⠹\u001b[1G\u001b[0K  run `npm fund` for details\n",
            "\u001b[1G\u001b[0K⠹\u001b[1G\u001b[0K\n",
            "2 \u001b[31m\u001b[1mhigh\u001b[22m\u001b[39m severity vulnerabilities\n",
            "\n",
            "To address all issues, run:\n",
            "  npm audit fix\n",
            "\n",
            "Run `npm audit` for details.\n",
            "\u001b[1G\u001b[0K⠸\u001b[1G\u001b[0K"
          ]
        }
      ],
      "source": [
        "!npm uninstall localtunnel\n",
        "!npm install localtunnel"
      ]
    },
    {
      "cell_type": "code",
      "execution_count": 24,
      "metadata": {
        "colab": {
          "base_uri": "https://localhost:8080/"
        },
        "id": "1QkFzxI1GhDc",
        "outputId": "13cad9cd-6ffa-470e-cef1-67e68a923bd7"
      },
      "outputs": [
        {
          "output_type": "stream",
          "name": "stdout",
          "text": [
            "/content/drive/MyDrive/Pengembangan_Machine_Learning/Tugas_5\n"
          ]
        }
      ],
      "source": [
        "# Menampilkan direktori kerja saat ini (lokasi folder tempat kita bekerja)\n",
        "!pwd"
      ]
    },
    {
      "cell_type": "code",
      "execution_count": 25,
      "metadata": {
        "id": "CvKsDBl4GkC2"
      },
      "outputs": [],
      "source": [
        "# Menjalankan aplikasi Streamlit\n",
        "!streamlit run /content/drive/MyDrive/Pengembangan_Machine_Learning/Tugas_5/Beranda.py &>/content/drive/MyDrive/Pengembangan_Machine_Learning/Tugas_5/logs.txt &"
      ]
    },
    {
      "cell_type": "code",
      "execution_count": 26,
      "metadata": {
        "id": "bMinbNp1T39u"
      },
      "outputs": [],
      "source": [
        "# Menampilkan isi file log (berisi info hasil menjalankan Streamlit)\n",
        "!timeout 30 cat /content/drive/MyDrive/Pengembangan_Machine_Learning/Tugas_5/logs.txt"
      ]
    },
    {
      "cell_type": "code",
      "execution_count": 27,
      "metadata": {
        "colab": {
          "base_uri": "https://localhost:8080/",
          "height": 36
        },
        "id": "4e3bnAGuGol5",
        "outputId": "d3f267ae-92de-4ab4-fb75-1dc0186b9b3d"
      },
      "outputs": [
        {
          "output_type": "execute_result",
          "data": {
            "text/plain": [
              "'34.75.198.83'"
            ],
            "application/vnd.google.colaboratory.intrinsic+json": {
              "type": "string"
            }
          },
          "metadata": {},
          "execution_count": 27
        }
      ],
      "source": [
        "# Mengecek alamat IP publik (Outputnya dipakai sebagai Password Tunnel)\n",
        "import requests\n",
        "requests.get('https://api.ipify.org').text"
      ]
    },
    {
      "cell_type": "code",
      "execution_count": null,
      "metadata": {
        "colab": {
          "background_save": true,
          "base_uri": "https://localhost:8080/"
        },
        "id": "oVV37RKqGqPg",
        "outputId": "112ec9cb-e073-40c4-f2ef-471fb73a8c46"
      },
      "outputs": [
        {
          "output_type": "stream",
          "name": "stdout",
          "text": [
            "\u001b[1G\u001b[0K⠙\u001b[1G\u001b[0Kyour url is: https://social-falcons-clap.loca.lt\n"
          ]
        }
      ],
      "source": [
        "# Membuka localtunnel di port 8501 (port default Streamlit)\n",
        "# Alamat url yang muncul (misalnya: https://hungry-actors-fetch.loca.lt) bisa diklik untuk melihat hasil tampilan website nya\n",
        "!npx localtunnel --port 8501"
      ]
    }
  ],
  "metadata": {
    "colab": {
      "provenance": []
    },
    "kernelspec": {
      "display_name": "Python 3",
      "name": "python3"
    },
    "language_info": {
      "name": "python"
    }
  },
  "nbformat": 4,
  "nbformat_minor": 0
}